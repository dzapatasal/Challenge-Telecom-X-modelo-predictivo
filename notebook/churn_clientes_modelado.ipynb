{
 "cells": [
  {
   "cell_type": "markdown",
   "id": "efb49f0f",
   "metadata": {},
   "source": [
    "# Cargando librerias & dataframe"
   ]
  },
  {
   "cell_type": "code",
   "execution_count": 83,
   "id": "08e7867c",
   "metadata": {},
   "outputs": [],
   "source": [
    "import numpy as np\n",
    "import pandas as pd\n",
    "import warnings\n",
    "import seaborn as sns\n",
    "import matplotlib.pyplot as plt\n",
    "from sklearn.metrics import confusion_matrix\n",
    "from sklearn.metrics import ConfusionMatrixDisplay\n",
    "warnings.filterwarnings('ignore')"
   ]
  },
  {
   "cell_type": "code",
   "execution_count": 84,
   "id": "14f3010b",
   "metadata": {},
   "outputs": [],
   "source": [
    "path = '../data/datos_tratados.csv'\n",
    "df = pd.read_csv(path)"
   ]
  },
  {
   "cell_type": "markdown",
   "id": "06fb910d",
   "metadata": {},
   "source": [
    "# Preparar los datos para el modelado"
   ]
  },
  {
   "cell_type": "code",
   "execution_count": 85,
   "id": "29dd670d",
   "metadata": {},
   "outputs": [
    {
     "data": {
      "application/vnd.microsoft.datawrangler.viewer.v0+json": {
       "columns": [
        {
         "name": "index",
         "rawType": "int64",
         "type": "integer"
        },
        {
         "name": "customerID",
         "rawType": "object",
         "type": "string"
        },
        {
         "name": "Churn",
         "rawType": "float64",
         "type": "float"
        },
        {
         "name": "gender",
         "rawType": "int64",
         "type": "integer"
        },
        {
         "name": "SeniorCitizen",
         "rawType": "int64",
         "type": "integer"
        },
        {
         "name": "Partner",
         "rawType": "int64",
         "type": "integer"
        },
        {
         "name": "Dependents",
         "rawType": "int64",
         "type": "integer"
        },
        {
         "name": "tenure",
         "rawType": "int64",
         "type": "integer"
        },
        {
         "name": "PhoneService",
         "rawType": "int64",
         "type": "integer"
        },
        {
         "name": "MultipleLines",
         "rawType": "int64",
         "type": "integer"
        },
        {
         "name": "InternetService",
         "rawType": "object",
         "type": "string"
        },
        {
         "name": "OnlineSecurity",
         "rawType": "int64",
         "type": "integer"
        },
        {
         "name": "OnlineBackup",
         "rawType": "int64",
         "type": "integer"
        },
        {
         "name": "DeviceProtection",
         "rawType": "int64",
         "type": "integer"
        },
        {
         "name": "TechSupport",
         "rawType": "int64",
         "type": "integer"
        },
        {
         "name": "StreamingTV",
         "rawType": "int64",
         "type": "integer"
        },
        {
         "name": "StreamingMovies",
         "rawType": "int64",
         "type": "integer"
        },
        {
         "name": "Contract",
         "rawType": "object",
         "type": "string"
        },
        {
         "name": "PaperlessBilling",
         "rawType": "int64",
         "type": "integer"
        },
        {
         "name": "PaymentMethod",
         "rawType": "object",
         "type": "string"
        },
        {
         "name": "Charges.Monthly",
         "rawType": "float64",
         "type": "float"
        },
        {
         "name": "Charges.Total",
         "rawType": "float64",
         "type": "float"
        },
        {
         "name": "Cuentas_diarias",
         "rawType": "float64",
         "type": "float"
        }
       ],
       "ref": "33d0f671-9a7d-4bbc-8cfe-322a067d208e",
       "rows": [
        [
         "6624",
         "9412-GHEEC",
         "1.0",
         "1",
         "0",
         "0",
         "0",
         "40",
         "1",
         "1",
         "Fiber optic",
         "0",
         "0",
         "1",
         "1",
         "1",
         "1",
         "Month-to-month",
         "0",
         "Bank transfer (automatic)",
         "104.8",
         "4131.95",
         "3.493333333333333"
        ],
        [
         "2026",
         "2924-KHUVI",
         "0.0",
         "1",
         "0",
         "1",
         "0",
         "56",
         "1",
         "1",
         "Fiber optic",
         "1",
         "0",
         "0",
         "0",
         "1",
         "1",
         "One year",
         "1",
         "Electronic check",
         "100.55",
         "5514.95",
         "3.3516666666666666"
        ],
        [
         "6518",
         "9250-WYPLL",
         "1.0",
         "0",
         "0",
         "0",
         "0",
         "5",
         "1",
         "1",
         "Fiber optic",
         "0",
         "0",
         "0",
         "0",
         "0",
         "0",
         "Month-to-month",
         "0",
         "Electronic check",
         "75.55",
         "413.65",
         "2.518333333333333"
        ],
        [
         "1329",
         "1977-STDKI",
         "1.0",
         "0",
         "1",
         "0",
         "0",
         "1",
         "1",
         "0",
         "Fiber optic",
         "0",
         "1",
         "0",
         "0",
         "0",
         "0",
         "Month-to-month",
         "1",
         "Electronic check",
         "73.0",
         "73.0",
         "2.433333333333333"
        ],
        [
         "5056",
         "7109-CQYUZ",
         "0.0",
         "1",
         "0",
         "0",
         "0",
         "52",
         "1",
         "1",
         "DSL",
         "1",
         "1",
         "1",
         "1",
         "1",
         "1",
         "Two year",
         "1",
         "Mailed check",
         "89.25",
         "4652.4",
         "2.975"
        ]
       ],
       "shape": {
        "columns": 22,
        "rows": 5
       }
      },
      "text/html": [
       "<div>\n",
       "<style scoped>\n",
       "    .dataframe tbody tr th:only-of-type {\n",
       "        vertical-align: middle;\n",
       "    }\n",
       "\n",
       "    .dataframe tbody tr th {\n",
       "        vertical-align: top;\n",
       "    }\n",
       "\n",
       "    .dataframe thead th {\n",
       "        text-align: right;\n",
       "    }\n",
       "</style>\n",
       "<table border=\"1\" class=\"dataframe\">\n",
       "  <thead>\n",
       "    <tr style=\"text-align: right;\">\n",
       "      <th></th>\n",
       "      <th>customerID</th>\n",
       "      <th>Churn</th>\n",
       "      <th>gender</th>\n",
       "      <th>SeniorCitizen</th>\n",
       "      <th>Partner</th>\n",
       "      <th>Dependents</th>\n",
       "      <th>tenure</th>\n",
       "      <th>PhoneService</th>\n",
       "      <th>MultipleLines</th>\n",
       "      <th>InternetService</th>\n",
       "      <th>...</th>\n",
       "      <th>DeviceProtection</th>\n",
       "      <th>TechSupport</th>\n",
       "      <th>StreamingTV</th>\n",
       "      <th>StreamingMovies</th>\n",
       "      <th>Contract</th>\n",
       "      <th>PaperlessBilling</th>\n",
       "      <th>PaymentMethod</th>\n",
       "      <th>Charges.Monthly</th>\n",
       "      <th>Charges.Total</th>\n",
       "      <th>Cuentas_diarias</th>\n",
       "    </tr>\n",
       "  </thead>\n",
       "  <tbody>\n",
       "    <tr>\n",
       "      <th>6624</th>\n",
       "      <td>9412-GHEEC</td>\n",
       "      <td>1.0</td>\n",
       "      <td>1</td>\n",
       "      <td>0</td>\n",
       "      <td>0</td>\n",
       "      <td>0</td>\n",
       "      <td>40</td>\n",
       "      <td>1</td>\n",
       "      <td>1</td>\n",
       "      <td>Fiber optic</td>\n",
       "      <td>...</td>\n",
       "      <td>1</td>\n",
       "      <td>1</td>\n",
       "      <td>1</td>\n",
       "      <td>1</td>\n",
       "      <td>Month-to-month</td>\n",
       "      <td>0</td>\n",
       "      <td>Bank transfer (automatic)</td>\n",
       "      <td>104.80</td>\n",
       "      <td>4131.95</td>\n",
       "      <td>3.493333</td>\n",
       "    </tr>\n",
       "    <tr>\n",
       "      <th>2026</th>\n",
       "      <td>2924-KHUVI</td>\n",
       "      <td>0.0</td>\n",
       "      <td>1</td>\n",
       "      <td>0</td>\n",
       "      <td>1</td>\n",
       "      <td>0</td>\n",
       "      <td>56</td>\n",
       "      <td>1</td>\n",
       "      <td>1</td>\n",
       "      <td>Fiber optic</td>\n",
       "      <td>...</td>\n",
       "      <td>0</td>\n",
       "      <td>0</td>\n",
       "      <td>1</td>\n",
       "      <td>1</td>\n",
       "      <td>One year</td>\n",
       "      <td>1</td>\n",
       "      <td>Electronic check</td>\n",
       "      <td>100.55</td>\n",
       "      <td>5514.95</td>\n",
       "      <td>3.351667</td>\n",
       "    </tr>\n",
       "    <tr>\n",
       "      <th>6518</th>\n",
       "      <td>9250-WYPLL</td>\n",
       "      <td>1.0</td>\n",
       "      <td>0</td>\n",
       "      <td>0</td>\n",
       "      <td>0</td>\n",
       "      <td>0</td>\n",
       "      <td>5</td>\n",
       "      <td>1</td>\n",
       "      <td>1</td>\n",
       "      <td>Fiber optic</td>\n",
       "      <td>...</td>\n",
       "      <td>0</td>\n",
       "      <td>0</td>\n",
       "      <td>0</td>\n",
       "      <td>0</td>\n",
       "      <td>Month-to-month</td>\n",
       "      <td>0</td>\n",
       "      <td>Electronic check</td>\n",
       "      <td>75.55</td>\n",
       "      <td>413.65</td>\n",
       "      <td>2.518333</td>\n",
       "    </tr>\n",
       "    <tr>\n",
       "      <th>1329</th>\n",
       "      <td>1977-STDKI</td>\n",
       "      <td>1.0</td>\n",
       "      <td>0</td>\n",
       "      <td>1</td>\n",
       "      <td>0</td>\n",
       "      <td>0</td>\n",
       "      <td>1</td>\n",
       "      <td>1</td>\n",
       "      <td>0</td>\n",
       "      <td>Fiber optic</td>\n",
       "      <td>...</td>\n",
       "      <td>0</td>\n",
       "      <td>0</td>\n",
       "      <td>0</td>\n",
       "      <td>0</td>\n",
       "      <td>Month-to-month</td>\n",
       "      <td>1</td>\n",
       "      <td>Electronic check</td>\n",
       "      <td>73.00</td>\n",
       "      <td>73.00</td>\n",
       "      <td>2.433333</td>\n",
       "    </tr>\n",
       "    <tr>\n",
       "      <th>5056</th>\n",
       "      <td>7109-CQYUZ</td>\n",
       "      <td>0.0</td>\n",
       "      <td>1</td>\n",
       "      <td>0</td>\n",
       "      <td>0</td>\n",
       "      <td>0</td>\n",
       "      <td>52</td>\n",
       "      <td>1</td>\n",
       "      <td>1</td>\n",
       "      <td>DSL</td>\n",
       "      <td>...</td>\n",
       "      <td>1</td>\n",
       "      <td>1</td>\n",
       "      <td>1</td>\n",
       "      <td>1</td>\n",
       "      <td>Two year</td>\n",
       "      <td>1</td>\n",
       "      <td>Mailed check</td>\n",
       "      <td>89.25</td>\n",
       "      <td>4652.40</td>\n",
       "      <td>2.975000</td>\n",
       "    </tr>\n",
       "  </tbody>\n",
       "</table>\n",
       "<p>5 rows × 22 columns</p>\n",
       "</div>"
      ],
      "text/plain": [
       "      customerID  Churn  gender  SeniorCitizen  Partner  Dependents  tenure  \\\n",
       "6624  9412-GHEEC    1.0       1              0        0           0      40   \n",
       "2026  2924-KHUVI    0.0       1              0        1           0      56   \n",
       "6518  9250-WYPLL    1.0       0              0        0           0       5   \n",
       "1329  1977-STDKI    1.0       0              1        0           0       1   \n",
       "5056  7109-CQYUZ    0.0       1              0        0           0      52   \n",
       "\n",
       "      PhoneService  MultipleLines InternetService  ...  DeviceProtection  \\\n",
       "6624             1              1     Fiber optic  ...                 1   \n",
       "2026             1              1     Fiber optic  ...                 0   \n",
       "6518             1              1     Fiber optic  ...                 0   \n",
       "1329             1              0     Fiber optic  ...                 0   \n",
       "5056             1              1             DSL  ...                 1   \n",
       "\n",
       "      TechSupport  StreamingTV  StreamingMovies        Contract  \\\n",
       "6624            1            1                1  Month-to-month   \n",
       "2026            0            1                1        One year   \n",
       "6518            0            0                0  Month-to-month   \n",
       "1329            0            0                0  Month-to-month   \n",
       "5056            1            1                1        Two year   \n",
       "\n",
       "      PaperlessBilling              PaymentMethod  Charges.Monthly  \\\n",
       "6624                 0  Bank transfer (automatic)           104.80   \n",
       "2026                 1           Electronic check           100.55   \n",
       "6518                 0           Electronic check            75.55   \n",
       "1329                 1           Electronic check            73.00   \n",
       "5056                 1               Mailed check            89.25   \n",
       "\n",
       "     Charges.Total  Cuentas_diarias  \n",
       "6624       4131.95         3.493333  \n",
       "2026       5514.95         3.351667  \n",
       "6518        413.65         2.518333  \n",
       "1329         73.00         2.433333  \n",
       "5056       4652.40         2.975000  \n",
       "\n",
       "[5 rows x 22 columns]"
      ]
     },
     "execution_count": 85,
     "metadata": {},
     "output_type": "execute_result"
    }
   ],
   "source": [
    "df.sample(5)"
   ]
  },
  {
   "cell_type": "markdown",
   "id": "55713e6c",
   "metadata": {},
   "source": [
    "## Tratamiento"
   ]
  },
  {
   "cell_type": "markdown",
   "id": "dbc6812d",
   "metadata": {},
   "source": [
    "### Eliminando columna(s) irrelevantes y conversion de tipo"
   ]
  },
  {
   "cell_type": "code",
   "execution_count": 86,
   "id": "6126d8ea",
   "metadata": {},
   "outputs": [],
   "source": [
    "# Elimina la columna 'customerID' del DataFrame, ya que es solo un identificador y no aporta al modelado\n",
    "df.drop(columns=['customerID'], inplace=True)"
   ]
  },
  {
   "cell_type": "code",
   "execution_count": 87,
   "id": "8ee7602b",
   "metadata": {},
   "outputs": [],
   "source": [
    "# Convierte la columna 'Churn' de float (0.0/1.0) a entero (0/1) para el modelado\n",
    "df['Churn'] = df['Churn'].astype(int)"
   ]
  },
  {
   "cell_type": "code",
   "execution_count": 88,
   "id": "10ee972f",
   "metadata": {},
   "outputs": [
    {
     "name": "stdout",
     "output_type": "stream",
     "text": [
      "<class 'pandas.core.frame.DataFrame'>\n",
      "RangeIndex: 7043 entries, 0 to 7042\n",
      "Data columns (total 21 columns):\n",
      " #   Column            Non-Null Count  Dtype  \n",
      "---  ------            --------------  -----  \n",
      " 0   Churn             7043 non-null   int64  \n",
      " 1   gender            7043 non-null   int64  \n",
      " 2   SeniorCitizen     7043 non-null   int64  \n",
      " 3   Partner           7043 non-null   int64  \n",
      " 4   Dependents        7043 non-null   int64  \n",
      " 5   tenure            7043 non-null   int64  \n",
      " 6   PhoneService      7043 non-null   int64  \n",
      " 7   MultipleLines     7043 non-null   int64  \n",
      " 8   InternetService   7043 non-null   object \n",
      " 9   OnlineSecurity    7043 non-null   int64  \n",
      " 10  OnlineBackup      7043 non-null   int64  \n",
      " 11  DeviceProtection  7043 non-null   int64  \n",
      " 12  TechSupport       7043 non-null   int64  \n",
      " 13  StreamingTV       7043 non-null   int64  \n",
      " 14  StreamingMovies   7043 non-null   int64  \n",
      " 15  Contract          7043 non-null   object \n",
      " 16  PaperlessBilling  7043 non-null   int64  \n",
      " 17  PaymentMethod     7043 non-null   object \n",
      " 18  Charges.Monthly   7043 non-null   float64\n",
      " 19  Charges.Total     7043 non-null   float64\n",
      " 20  Cuentas_diarias   7043 non-null   float64\n",
      "dtypes: float64(3), int64(15), object(3)\n",
      "memory usage: 1.1+ MB\n"
     ]
    }
   ],
   "source": [
    "df.info()"
   ]
  },
  {
   "cell_type": "markdown",
   "id": "ff5c04c9",
   "metadata": {},
   "source": [
    "## Codificacion"
   ]
  },
  {
   "cell_type": "markdown",
   "id": "367dc173",
   "metadata": {},
   "source": [
    "### Transformando variables categoricas"
   ]
  },
  {
   "cell_type": "markdown",
   "id": "df73b4c9",
   "metadata": {},
   "source": [
    "Visualizacion de variables categoricas"
   ]
  },
  {
   "cell_type": "code",
   "execution_count": 89,
   "id": "dbb17cb1",
   "metadata": {},
   "outputs": [
    {
     "data": {
      "application/vnd.microsoft.datawrangler.viewer.v0+json": {
       "columns": [
        {
         "name": "index",
         "rawType": "int64",
         "type": "integer"
        },
        {
         "name": "InternetService",
         "rawType": "object",
         "type": "string"
        },
        {
         "name": "Contract",
         "rawType": "object",
         "type": "string"
        },
        {
         "name": "PaymentMethod",
         "rawType": "object",
         "type": "string"
        }
       ],
       "ref": "73c0e240-d3b1-48b2-82e6-e072b551c174",
       "rows": [
        [
         "0",
         "DSL",
         "One year",
         "Mailed check"
        ],
        [
         "1",
         "DSL",
         "Month-to-month",
         "Mailed check"
        ],
        [
         "2",
         "Fiber optic",
         "Month-to-month",
         "Electronic check"
        ],
        [
         "3",
         "Fiber optic",
         "Month-to-month",
         "Electronic check"
        ],
        [
         "4",
         "Fiber optic",
         "Month-to-month",
         "Mailed check"
        ],
        [
         "5",
         "DSL",
         "Month-to-month",
         "Credit card (automatic)"
        ],
        [
         "6",
         "Fiber optic",
         "Two year",
         "Bank transfer (automatic)"
        ],
        [
         "7",
         "Fiber optic",
         "Two year",
         "Credit card (automatic)"
        ],
        [
         "8",
         "DSL",
         "Month-to-month",
         "Electronic check"
        ],
        [
         "9",
         "DSL",
         "Two year",
         "Mailed check"
        ],
        [
         "10",
         "DSL",
         "Two year",
         "Credit card (automatic)"
        ],
        [
         "11",
         "Fiber optic",
         "Two year",
         "Credit card (automatic)"
        ],
        [
         "12",
         "Fiber optic",
         "Month-to-month",
         "Electronic check"
        ],
        [
         "13",
         "Fiber optic",
         "Two year",
         "Bank transfer (automatic)"
        ],
        [
         "14",
         "DSL",
         "Two year",
         "Bank transfer (automatic)"
        ],
        [
         "15",
         "Fiber optic",
         "Two year",
         "Credit card (automatic)"
        ],
        [
         "16",
         "DSL",
         "One year",
         "Mailed check"
        ],
        [
         "17",
         "Fiber optic",
         "Month-to-month",
         "Electronic check"
        ],
        [
         "18",
         "DSL",
         "One year",
         "Credit card (automatic)"
        ],
        [
         "19",
         "DSL",
         "Month-to-month",
         "Electronic check"
        ],
        [
         "20",
         "No",
         "One year",
         "Electronic check"
        ],
        [
         "21",
         "Fiber optic",
         "Month-to-month",
         "Electronic check"
        ],
        [
         "22",
         "Fiber optic",
         "Month-to-month",
         "Electronic check"
        ],
        [
         "23",
         "No",
         "Month-to-month",
         "Mailed check"
        ],
        [
         "24",
         "No",
         "Month-to-month",
         "Mailed check"
        ],
        [
         "25",
         "DSL",
         "Month-to-month",
         "Bank transfer (automatic)"
        ],
        [
         "26",
         "Fiber optic",
         "One year",
         "Bank transfer (automatic)"
        ],
        [
         "27",
         "No",
         "Two year",
         "Credit card (automatic)"
        ],
        [
         "28",
         "No",
         "One year",
         "Bank transfer (automatic)"
        ],
        [
         "29",
         "No",
         "Two year",
         "Bank transfer (automatic)"
        ],
        [
         "30",
         "Fiber optic",
         "One year",
         "Credit card (automatic)"
        ],
        [
         "31",
         "No",
         "One year",
         "Bank transfer (automatic)"
        ],
        [
         "32",
         "Fiber optic",
         "One year",
         "Bank transfer (automatic)"
        ],
        [
         "33",
         "No",
         "One year",
         "Electronic check"
        ],
        [
         "34",
         "DSL",
         "Two year",
         "Credit card (automatic)"
        ],
        [
         "35",
         "No",
         "Two year",
         "Electronic check"
        ],
        [
         "36",
         "Fiber optic",
         "Month-to-month",
         "Bank transfer (automatic)"
        ],
        [
         "37",
         "Fiber optic",
         "Month-to-month",
         "Electronic check"
        ],
        [
         "38",
         "No",
         "Two year",
         "Bank transfer (automatic)"
        ],
        [
         "39",
         "Fiber optic",
         "Month-to-month",
         "Bank transfer (automatic)"
        ],
        [
         "40",
         "DSL",
         "Month-to-month",
         "Electronic check"
        ],
        [
         "41",
         "DSL",
         "One year",
         "Mailed check"
        ],
        [
         "42",
         "No",
         "Two year",
         "Credit card (automatic)"
        ],
        [
         "43",
         "DSL",
         "One year",
         "Bank transfer (automatic)"
        ],
        [
         "44",
         "DSL",
         "Month-to-month",
         "Mailed check"
        ],
        [
         "45",
         "DSL",
         "Two year",
         "Bank transfer (automatic)"
        ],
        [
         "46",
         "DSL",
         "One year",
         "Credit card (automatic)"
        ],
        [
         "47",
         "Fiber optic",
         "One year",
         "Electronic check"
        ],
        [
         "48",
         "DSL",
         "Month-to-month",
         "Mailed check"
        ],
        [
         "49",
         "Fiber optic",
         "Month-to-month",
         "Electronic check"
        ]
       ],
       "shape": {
        "columns": 3,
        "rows": 7043
       }
      },
      "text/html": [
       "<div>\n",
       "<style scoped>\n",
       "    .dataframe tbody tr th:only-of-type {\n",
       "        vertical-align: middle;\n",
       "    }\n",
       "\n",
       "    .dataframe tbody tr th {\n",
       "        vertical-align: top;\n",
       "    }\n",
       "\n",
       "    .dataframe thead th {\n",
       "        text-align: right;\n",
       "    }\n",
       "</style>\n",
       "<table border=\"1\" class=\"dataframe\">\n",
       "  <thead>\n",
       "    <tr style=\"text-align: right;\">\n",
       "      <th></th>\n",
       "      <th>InternetService</th>\n",
       "      <th>Contract</th>\n",
       "      <th>PaymentMethod</th>\n",
       "    </tr>\n",
       "  </thead>\n",
       "  <tbody>\n",
       "    <tr>\n",
       "      <th>0</th>\n",
       "      <td>DSL</td>\n",
       "      <td>One year</td>\n",
       "      <td>Mailed check</td>\n",
       "    </tr>\n",
       "    <tr>\n",
       "      <th>1</th>\n",
       "      <td>DSL</td>\n",
       "      <td>Month-to-month</td>\n",
       "      <td>Mailed check</td>\n",
       "    </tr>\n",
       "    <tr>\n",
       "      <th>2</th>\n",
       "      <td>Fiber optic</td>\n",
       "      <td>Month-to-month</td>\n",
       "      <td>Electronic check</td>\n",
       "    </tr>\n",
       "    <tr>\n",
       "      <th>3</th>\n",
       "      <td>Fiber optic</td>\n",
       "      <td>Month-to-month</td>\n",
       "      <td>Electronic check</td>\n",
       "    </tr>\n",
       "    <tr>\n",
       "      <th>4</th>\n",
       "      <td>Fiber optic</td>\n",
       "      <td>Month-to-month</td>\n",
       "      <td>Mailed check</td>\n",
       "    </tr>\n",
       "    <tr>\n",
       "      <th>...</th>\n",
       "      <td>...</td>\n",
       "      <td>...</td>\n",
       "      <td>...</td>\n",
       "    </tr>\n",
       "    <tr>\n",
       "      <th>7038</th>\n",
       "      <td>DSL</td>\n",
       "      <td>One year</td>\n",
       "      <td>Mailed check</td>\n",
       "    </tr>\n",
       "    <tr>\n",
       "      <th>7039</th>\n",
       "      <td>Fiber optic</td>\n",
       "      <td>Month-to-month</td>\n",
       "      <td>Electronic check</td>\n",
       "    </tr>\n",
       "    <tr>\n",
       "      <th>7040</th>\n",
       "      <td>DSL</td>\n",
       "      <td>Month-to-month</td>\n",
       "      <td>Mailed check</td>\n",
       "    </tr>\n",
       "    <tr>\n",
       "      <th>7041</th>\n",
       "      <td>DSL</td>\n",
       "      <td>Two year</td>\n",
       "      <td>Mailed check</td>\n",
       "    </tr>\n",
       "    <tr>\n",
       "      <th>7042</th>\n",
       "      <td>DSL</td>\n",
       "      <td>Two year</td>\n",
       "      <td>Electronic check</td>\n",
       "    </tr>\n",
       "  </tbody>\n",
       "</table>\n",
       "<p>7043 rows × 3 columns</p>\n",
       "</div>"
      ],
      "text/plain": [
       "     InternetService        Contract     PaymentMethod\n",
       "0                DSL        One year      Mailed check\n",
       "1                DSL  Month-to-month      Mailed check\n",
       "2        Fiber optic  Month-to-month  Electronic check\n",
       "3        Fiber optic  Month-to-month  Electronic check\n",
       "4        Fiber optic  Month-to-month      Mailed check\n",
       "...              ...             ...               ...\n",
       "7038             DSL        One year      Mailed check\n",
       "7039     Fiber optic  Month-to-month  Electronic check\n",
       "7040             DSL  Month-to-month      Mailed check\n",
       "7041             DSL        Two year      Mailed check\n",
       "7042             DSL        Two year  Electronic check\n",
       "\n",
       "[7043 rows x 3 columns]"
      ]
     },
     "execution_count": 89,
     "metadata": {},
     "output_type": "execute_result"
    }
   ],
   "source": [
    "# Visualiza las columnas en las posiciones 8, 15 y 17 del DataFrame (por índice)\n",
    "df.iloc[:,[8,15,17]]"
   ]
  },
  {
   "cell_type": "markdown",
   "id": "a252df66",
   "metadata": {},
   "source": [
    "Cantidad de valores por columna (Informativo)"
   ]
  },
  {
   "cell_type": "code",
   "execution_count": 90,
   "id": "fdfcfe95",
   "metadata": {},
   "outputs": [
    {
     "name": "stdout",
     "output_type": "stream",
     "text": [
      "InternetService: 3\n",
      "Contract: 3\n",
      "PaymentMethod: 4\n"
     ]
    }
   ],
   "source": [
    "cols = df.columns[[8,15,17]]\n",
    "for col in cols:\n",
    "    print(f'{col}: {df[col].nunique()}')"
   ]
  },
  {
   "cell_type": "markdown",
   "id": "e85c70c4",
   "metadata": {},
   "source": [
    "#### OneHotEncoding"
   ]
  },
  {
   "cell_type": "code",
   "execution_count": 91,
   "id": "a961512e",
   "metadata": {},
   "outputs": [
    {
     "data": {
      "text/plain": [
       "<bound method NDFrame.head of       Churn  gender  SeniorCitizen  Partner  Dependents  tenure  PhoneService  \\\n",
       "0         0       0              0        1           1       9             1   \n",
       "1         0       1              0        0           0       9             1   \n",
       "2         1       1              0        0           0       4             1   \n",
       "3         1       1              1        1           0      13             1   \n",
       "4         1       0              1        1           0       3             1   \n",
       "...     ...     ...            ...      ...         ...     ...           ...   \n",
       "7038      0       0              0        0           0      13             1   \n",
       "7039      1       1              0        1           0      22             1   \n",
       "7040      0       1              0        0           0       2             1   \n",
       "7041      0       1              0        1           1      67             1   \n",
       "7042      0       1              0        1           1      63             0   \n",
       "\n",
       "      MultipleLines  OnlineSecurity  OnlineBackup  ...  InternetService_DSL  \\\n",
       "0                 0               0             1  ...                    1   \n",
       "1                 1               0             0  ...                    1   \n",
       "2                 0               0             0  ...                    0   \n",
       "3                 0               0             1  ...                    0   \n",
       "4                 0               0             0  ...                    0   \n",
       "...             ...             ...           ...  ...                  ...   \n",
       "7038              0               1             0  ...                    1   \n",
       "7039              1               0             0  ...                    0   \n",
       "7040              0               0             1  ...                    1   \n",
       "7041              0               1             0  ...                    1   \n",
       "7042              0               1             1  ...                    1   \n",
       "\n",
       "      InternetService_Fiber optic  InternetService_No  \\\n",
       "0                               0                   0   \n",
       "1                               0                   0   \n",
       "2                               1                   0   \n",
       "3                               1                   0   \n",
       "4                               1                   0   \n",
       "...                           ...                 ...   \n",
       "7038                            0                   0   \n",
       "7039                            1                   0   \n",
       "7040                            0                   0   \n",
       "7041                            0                   0   \n",
       "7042                            0                   0   \n",
       "\n",
       "      Contract_Month-to-month  Contract_One year  Contract_Two year  \\\n",
       "0                           0                  1                  0   \n",
       "1                           1                  0                  0   \n",
       "2                           1                  0                  0   \n",
       "3                           1                  0                  0   \n",
       "4                           1                  0                  0   \n",
       "...                       ...                ...                ...   \n",
       "7038                        0                  1                  0   \n",
       "7039                        1                  0                  0   \n",
       "7040                        1                  0                  0   \n",
       "7041                        0                  0                  1   \n",
       "7042                        0                  0                  1   \n",
       "\n",
       "      PaymentMethod_Bank transfer (automatic)  \\\n",
       "0                                           0   \n",
       "1                                           0   \n",
       "2                                           0   \n",
       "3                                           0   \n",
       "4                                           0   \n",
       "...                                       ...   \n",
       "7038                                        0   \n",
       "7039                                        0   \n",
       "7040                                        0   \n",
       "7041                                        0   \n",
       "7042                                        0   \n",
       "\n",
       "      PaymentMethod_Credit card (automatic)  PaymentMethod_Electronic check  \\\n",
       "0                                         0                               0   \n",
       "1                                         0                               0   \n",
       "2                                         0                               1   \n",
       "3                                         0                               1   \n",
       "4                                         0                               0   \n",
       "...                                     ...                             ...   \n",
       "7038                                      0                               0   \n",
       "7039                                      0                               1   \n",
       "7040                                      0                               0   \n",
       "7041                                      0                               0   \n",
       "7042                                      0                               1   \n",
       "\n",
       "      PaymentMethod_Mailed check  \n",
       "0                              1  \n",
       "1                              1  \n",
       "2                              0  \n",
       "3                              0  \n",
       "4                              1  \n",
       "...                          ...  \n",
       "7038                           1  \n",
       "7039                           0  \n",
       "7040                           1  \n",
       "7041                           1  \n",
       "7042                           0  \n",
       "\n",
       "[7043 rows x 28 columns]>"
      ]
     },
     "execution_count": 91,
     "metadata": {},
     "output_type": "execute_result"
    }
   ],
   "source": [
    "# Define una lista con los nombres de las columnas categóricas que se van a codificar\n",
    "categoricas = ['InternetService', 'Contract', 'PaymentMethod']\n",
    "\n",
    "pd.get_dummies(data=df, columns=categoricas, dtype=int).head"
   ]
  },
  {
   "cell_type": "code",
   "execution_count": 92,
   "id": "6f65fd16",
   "metadata": {},
   "outputs": [],
   "source": [
    "# Aplica One-Hot Encoding a las columnas categóricas seleccionadas y crea un nuevo DataFrame codificado\n",
    "datos_codificados = pd.get_dummies(data=df, columns=categoricas, dtype=int)"
   ]
  },
  {
   "cell_type": "code",
   "execution_count": 93,
   "id": "54962104",
   "metadata": {},
   "outputs": [
    {
     "data": {
      "application/vnd.microsoft.datawrangler.viewer.v0+json": {
       "columns": [
        {
         "name": "index",
         "rawType": "int64",
         "type": "integer"
        },
        {
         "name": "Churn",
         "rawType": "int64",
         "type": "integer"
        },
        {
         "name": "gender",
         "rawType": "int64",
         "type": "integer"
        },
        {
         "name": "SeniorCitizen",
         "rawType": "int64",
         "type": "integer"
        },
        {
         "name": "Partner",
         "rawType": "int64",
         "type": "integer"
        },
        {
         "name": "Dependents",
         "rawType": "int64",
         "type": "integer"
        },
        {
         "name": "tenure",
         "rawType": "int64",
         "type": "integer"
        },
        {
         "name": "PhoneService",
         "rawType": "int64",
         "type": "integer"
        },
        {
         "name": "MultipleLines",
         "rawType": "int64",
         "type": "integer"
        },
        {
         "name": "OnlineSecurity",
         "rawType": "int64",
         "type": "integer"
        },
        {
         "name": "OnlineBackup",
         "rawType": "int64",
         "type": "integer"
        },
        {
         "name": "DeviceProtection",
         "rawType": "int64",
         "type": "integer"
        },
        {
         "name": "TechSupport",
         "rawType": "int64",
         "type": "integer"
        },
        {
         "name": "StreamingTV",
         "rawType": "int64",
         "type": "integer"
        },
        {
         "name": "StreamingMovies",
         "rawType": "int64",
         "type": "integer"
        },
        {
         "name": "PaperlessBilling",
         "rawType": "int64",
         "type": "integer"
        },
        {
         "name": "Charges.Monthly",
         "rawType": "float64",
         "type": "float"
        },
        {
         "name": "Charges.Total",
         "rawType": "float64",
         "type": "float"
        },
        {
         "name": "Cuentas_diarias",
         "rawType": "float64",
         "type": "float"
        },
        {
         "name": "InternetService_DSL",
         "rawType": "int64",
         "type": "integer"
        },
        {
         "name": "InternetService_Fiber optic",
         "rawType": "int64",
         "type": "integer"
        },
        {
         "name": "InternetService_No",
         "rawType": "int64",
         "type": "integer"
        },
        {
         "name": "Contract_Month-to-month",
         "rawType": "int64",
         "type": "integer"
        },
        {
         "name": "Contract_One year",
         "rawType": "int64",
         "type": "integer"
        },
        {
         "name": "Contract_Two year",
         "rawType": "int64",
         "type": "integer"
        },
        {
         "name": "PaymentMethod_Bank transfer (automatic)",
         "rawType": "int64",
         "type": "integer"
        },
        {
         "name": "PaymentMethod_Credit card (automatic)",
         "rawType": "int64",
         "type": "integer"
        },
        {
         "name": "PaymentMethod_Electronic check",
         "rawType": "int64",
         "type": "integer"
        },
        {
         "name": "PaymentMethod_Mailed check",
         "rawType": "int64",
         "type": "integer"
        }
       ],
       "ref": "c9478885-17aa-4e74-98b7-6e0512580e7f",
       "rows": [
        [
         "1349",
         "0",
         "0",
         "0",
         "1",
         "1",
         "8",
         "1",
         "0",
         "0",
         "0",
         "0",
         "0",
         "0",
         "0",
         "0",
         "19.05",
         "201.7",
         "0.635",
         "0",
         "0",
         "1",
         "0",
         "0",
         "1",
         "0",
         "0",
         "0",
         "1"
        ],
        [
         "3224",
         "1",
         "1",
         "0",
         "0",
         "0",
         "8",
         "0",
         "0",
         "1",
         "0",
         "0",
         "0",
         "0",
         "0",
         "1",
         "30.45",
         "226.45",
         "1.015",
         "1",
         "0",
         "0",
         "1",
         "0",
         "0",
         "0",
         "0",
         "1",
         "0"
        ],
        [
         "2463",
         "1",
         "0",
         "0",
         "1",
         "1",
         "22",
         "1",
         "0",
         "0",
         "1",
         "0",
         "0",
         "1",
         "1",
         "1",
         "69.5",
         "1498.2",
         "2.316666666666667",
         "1",
         "0",
         "0",
         "0",
         "1",
         "0",
         "1",
         "0",
         "0",
         "0"
        ],
        [
         "2774",
         "0",
         "1",
         "0",
         "0",
         "0",
         "66",
         "1",
         "1",
         "1",
         "1",
         "1",
         "1",
         "0",
         "0",
         "0",
         "68.75",
         "4447.55",
         "2.2916666666666665",
         "1",
         "0",
         "0",
         "0",
         "0",
         "1",
         "1",
         "0",
         "0",
         "0"
        ],
        [
         "6630",
         "1",
         "0",
         "0",
         "0",
         "0",
         "15",
         "1",
         "0",
         "1",
         "1",
         "0",
         "0",
         "1",
         "1",
         "1",
         "99.1",
         "1426.4",
         "3.303333333333333",
         "0",
         "1",
         "0",
         "1",
         "0",
         "0",
         "0",
         "1",
         "0",
         "0"
        ]
       ],
       "shape": {
        "columns": 28,
        "rows": 5
       }
      },
      "text/html": [
       "<div>\n",
       "<style scoped>\n",
       "    .dataframe tbody tr th:only-of-type {\n",
       "        vertical-align: middle;\n",
       "    }\n",
       "\n",
       "    .dataframe tbody tr th {\n",
       "        vertical-align: top;\n",
       "    }\n",
       "\n",
       "    .dataframe thead th {\n",
       "        text-align: right;\n",
       "    }\n",
       "</style>\n",
       "<table border=\"1\" class=\"dataframe\">\n",
       "  <thead>\n",
       "    <tr style=\"text-align: right;\">\n",
       "      <th></th>\n",
       "      <th>Churn</th>\n",
       "      <th>gender</th>\n",
       "      <th>SeniorCitizen</th>\n",
       "      <th>Partner</th>\n",
       "      <th>Dependents</th>\n",
       "      <th>tenure</th>\n",
       "      <th>PhoneService</th>\n",
       "      <th>MultipleLines</th>\n",
       "      <th>OnlineSecurity</th>\n",
       "      <th>OnlineBackup</th>\n",
       "      <th>...</th>\n",
       "      <th>InternetService_DSL</th>\n",
       "      <th>InternetService_Fiber optic</th>\n",
       "      <th>InternetService_No</th>\n",
       "      <th>Contract_Month-to-month</th>\n",
       "      <th>Contract_One year</th>\n",
       "      <th>Contract_Two year</th>\n",
       "      <th>PaymentMethod_Bank transfer (automatic)</th>\n",
       "      <th>PaymentMethod_Credit card (automatic)</th>\n",
       "      <th>PaymentMethod_Electronic check</th>\n",
       "      <th>PaymentMethod_Mailed check</th>\n",
       "    </tr>\n",
       "  </thead>\n",
       "  <tbody>\n",
       "    <tr>\n",
       "      <th>1349</th>\n",
       "      <td>0</td>\n",
       "      <td>0</td>\n",
       "      <td>0</td>\n",
       "      <td>1</td>\n",
       "      <td>1</td>\n",
       "      <td>8</td>\n",
       "      <td>1</td>\n",
       "      <td>0</td>\n",
       "      <td>0</td>\n",
       "      <td>0</td>\n",
       "      <td>...</td>\n",
       "      <td>0</td>\n",
       "      <td>0</td>\n",
       "      <td>1</td>\n",
       "      <td>0</td>\n",
       "      <td>0</td>\n",
       "      <td>1</td>\n",
       "      <td>0</td>\n",
       "      <td>0</td>\n",
       "      <td>0</td>\n",
       "      <td>1</td>\n",
       "    </tr>\n",
       "    <tr>\n",
       "      <th>3224</th>\n",
       "      <td>1</td>\n",
       "      <td>1</td>\n",
       "      <td>0</td>\n",
       "      <td>0</td>\n",
       "      <td>0</td>\n",
       "      <td>8</td>\n",
       "      <td>0</td>\n",
       "      <td>0</td>\n",
       "      <td>1</td>\n",
       "      <td>0</td>\n",
       "      <td>...</td>\n",
       "      <td>1</td>\n",
       "      <td>0</td>\n",
       "      <td>0</td>\n",
       "      <td>1</td>\n",
       "      <td>0</td>\n",
       "      <td>0</td>\n",
       "      <td>0</td>\n",
       "      <td>0</td>\n",
       "      <td>1</td>\n",
       "      <td>0</td>\n",
       "    </tr>\n",
       "    <tr>\n",
       "      <th>2463</th>\n",
       "      <td>1</td>\n",
       "      <td>0</td>\n",
       "      <td>0</td>\n",
       "      <td>1</td>\n",
       "      <td>1</td>\n",
       "      <td>22</td>\n",
       "      <td>1</td>\n",
       "      <td>0</td>\n",
       "      <td>0</td>\n",
       "      <td>1</td>\n",
       "      <td>...</td>\n",
       "      <td>1</td>\n",
       "      <td>0</td>\n",
       "      <td>0</td>\n",
       "      <td>0</td>\n",
       "      <td>1</td>\n",
       "      <td>0</td>\n",
       "      <td>1</td>\n",
       "      <td>0</td>\n",
       "      <td>0</td>\n",
       "      <td>0</td>\n",
       "    </tr>\n",
       "    <tr>\n",
       "      <th>2774</th>\n",
       "      <td>0</td>\n",
       "      <td>1</td>\n",
       "      <td>0</td>\n",
       "      <td>0</td>\n",
       "      <td>0</td>\n",
       "      <td>66</td>\n",
       "      <td>1</td>\n",
       "      <td>1</td>\n",
       "      <td>1</td>\n",
       "      <td>1</td>\n",
       "      <td>...</td>\n",
       "      <td>1</td>\n",
       "      <td>0</td>\n",
       "      <td>0</td>\n",
       "      <td>0</td>\n",
       "      <td>0</td>\n",
       "      <td>1</td>\n",
       "      <td>1</td>\n",
       "      <td>0</td>\n",
       "      <td>0</td>\n",
       "      <td>0</td>\n",
       "    </tr>\n",
       "    <tr>\n",
       "      <th>6630</th>\n",
       "      <td>1</td>\n",
       "      <td>0</td>\n",
       "      <td>0</td>\n",
       "      <td>0</td>\n",
       "      <td>0</td>\n",
       "      <td>15</td>\n",
       "      <td>1</td>\n",
       "      <td>0</td>\n",
       "      <td>1</td>\n",
       "      <td>1</td>\n",
       "      <td>...</td>\n",
       "      <td>0</td>\n",
       "      <td>1</td>\n",
       "      <td>0</td>\n",
       "      <td>1</td>\n",
       "      <td>0</td>\n",
       "      <td>0</td>\n",
       "      <td>0</td>\n",
       "      <td>1</td>\n",
       "      <td>0</td>\n",
       "      <td>0</td>\n",
       "    </tr>\n",
       "  </tbody>\n",
       "</table>\n",
       "<p>5 rows × 28 columns</p>\n",
       "</div>"
      ],
      "text/plain": [
       "      Churn  gender  SeniorCitizen  Partner  Dependents  tenure  PhoneService  \\\n",
       "1349      0       0              0        1           1       8             1   \n",
       "3224      1       1              0        0           0       8             0   \n",
       "2463      1       0              0        1           1      22             1   \n",
       "2774      0       1              0        0           0      66             1   \n",
       "6630      1       0              0        0           0      15             1   \n",
       "\n",
       "      MultipleLines  OnlineSecurity  OnlineBackup  ...  InternetService_DSL  \\\n",
       "1349              0               0             0  ...                    0   \n",
       "3224              0               1             0  ...                    1   \n",
       "2463              0               0             1  ...                    1   \n",
       "2774              1               1             1  ...                    1   \n",
       "6630              0               1             1  ...                    0   \n",
       "\n",
       "      InternetService_Fiber optic  InternetService_No  \\\n",
       "1349                            0                   1   \n",
       "3224                            0                   0   \n",
       "2463                            0                   0   \n",
       "2774                            0                   0   \n",
       "6630                            1                   0   \n",
       "\n",
       "      Contract_Month-to-month  Contract_One year  Contract_Two year  \\\n",
       "1349                        0                  0                  1   \n",
       "3224                        1                  0                  0   \n",
       "2463                        0                  1                  0   \n",
       "2774                        0                  0                  1   \n",
       "6630                        1                  0                  0   \n",
       "\n",
       "      PaymentMethod_Bank transfer (automatic)  \\\n",
       "1349                                        0   \n",
       "3224                                        0   \n",
       "2463                                        1   \n",
       "2774                                        1   \n",
       "6630                                        0   \n",
       "\n",
       "      PaymentMethod_Credit card (automatic)  PaymentMethod_Electronic check  \\\n",
       "1349                                      0                               0   \n",
       "3224                                      0                               1   \n",
       "2463                                      0                               0   \n",
       "2774                                      0                               0   \n",
       "6630                                      1                               0   \n",
       "\n",
       "      PaymentMethod_Mailed check  \n",
       "1349                           1  \n",
       "3224                           0  \n",
       "2463                           0  \n",
       "2774                           0  \n",
       "6630                           0  \n",
       "\n",
       "[5 rows x 28 columns]"
      ]
     },
     "execution_count": 93,
     "metadata": {},
     "output_type": "execute_result"
    }
   ],
   "source": [
    "datos_codificados.sample(5)"
   ]
  },
  {
   "cell_type": "markdown",
   "id": "2d00bea0",
   "metadata": {},
   "source": [
    "## Balanceo de clases\n",
    "Ajusta la proporción de clases en el dataset (por ejemplo, usando sobremuestreo (Oversampling) o submuestreo (Undersampling)) para que no haya desbalance entre clases.<br>\n",
    "Esto es debido a que halla clases muy desbalanceadas (frecuencias muy diferentes)<br>\n",
    "ver Carpeta `.../helpers/notas_adicionales`"
   ]
  },
  {
   "cell_type": "markdown",
   "id": "18b246a0",
   "metadata": {},
   "source": [
    "### Verificacion proporcion de Cancelacion (Churn)"
   ]
  },
  {
   "cell_type": "code",
   "execution_count": 94,
   "id": "c5e4d044",
   "metadata": {},
   "outputs": [
    {
     "name": "stdout",
     "output_type": "stream",
     "text": [
      "Churn\n",
      "0    5174\n",
      "1    1869\n",
      "Name: count, dtype: int64\n",
      "Churn\n",
      "0    0.73463\n",
      "1    0.26537\n",
      "Name: proportion, dtype: float64\n"
     ]
    }
   ],
   "source": [
    "# Calcula el conteo y la proporción de cada clase en la columna 'Churn'\n",
    "print(df['Churn'].value_counts())\n",
    "print(df['Churn'].value_counts(normalize=True))"
   ]
  },
  {
   "cell_type": "markdown",
   "id": "95ade6d2",
   "metadata": {},
   "source": [
    "**RESULTADOS**<br>\n",
    "La proporción que aparece indica que el 73.5% de los clientes permanecieron activos (0) y el `26.5% cancelaron (1).`\n",
    "Esto muestra que `hay un desbalance de clases`: la mayoría de los clientes no cancelan, mientras que una menor proporción sí lo hace.\n",
    "\n",
    "¿Qué significa esto?\n",
    "\n",
    "Tus modelos predictivos pueden verse afectados, ya que podrían tender a predecir la clase mayoritaria (no cancelan).\n",
    "Es recomendable considerar técnicas para tratar el desbalance, como:\n",
    "Ajustar pesos en los modelos.\n",
    "Usar sobremuestreo (SMOTE) o submuestreo.\n",
    "Elegir métricas de evaluación adecuadas (f1-score, recall, etc.)."
   ]
  },
  {
   "cell_type": "code",
   "execution_count": 124,
   "id": "dafa8e8d",
   "metadata": {},
   "outputs": [],
   "source": [
    "# Elimina la columna 'Churn' del nuevo DataFrame (X) para obtener las variables predictoras o explicativas\n",
    "X = datos_codificados2.drop('Churn', axis=1)\n",
    "\n",
    "# Selecciona la columna 'Churn' como variable objetivo\n",
    "y = datos_codificados2.Churn"
   ]
  },
  {
   "cell_type": "markdown",
   "id": "e3ead3c4",
   "metadata": {},
   "source": [
    "Listo el **dataFrame X** y la **serie y** para aplicar tecnicas de balanceo (oversampling en este caso)<br>\n",
    "ver Carpeta `.../helpers/notas_adicionales`"
   ]
  },
  {
   "cell_type": "code",
   "execution_count": 96,
   "id": "d085533b",
   "metadata": {},
   "outputs": [],
   "source": [
    "# Se importa la clase SMOTE desde la librería imblearn.over_sampling.\n",
    "from imblearn.over_sampling import SMOTE"
   ]
  },
  {
   "cell_type": "code",
   "execution_count": 97,
   "id": "fc631cd7",
   "metadata": {},
   "outputs": [],
   "source": [
    "# Crea una instancia de SMOTE para aplicar oversampling a la clase minoritaria\n",
    "oversampling = SMOTE()\n",
    "\n",
    "# Aplica SMOTE para balancear las clases en X (variables predictoras) e y (variable objetivo)\n",
    "# x_balanceada y y_balanceada contienen los datos balanceados listos para el modelado\n",
    "x_balanceada, y_balanceada = oversampling.fit_resample(X,y)"
   ]
  },
  {
   "cell_type": "markdown",
   "id": "fa59ef9d",
   "metadata": {},
   "source": [
    "proporción de cada clase (abandono / no abandono) en el vector `y_balanceada` después de aplicar SMOTE."
   ]
  },
  {
   "cell_type": "code",
   "execution_count": 98,
   "id": "1123e55e",
   "metadata": {},
   "outputs": [
    {
     "data": {
      "application/vnd.microsoft.datawrangler.viewer.v0+json": {
       "columns": [
        {
         "name": "Churn",
         "rawType": "int64",
         "type": "integer"
        },
        {
         "name": "proportion",
         "rawType": "float64",
         "type": "float"
        }
       ],
       "ref": "f1f095cc-ef40-498b-a8c4-f75833ae8bfe",
       "rows": [
        [
         "0",
         "0.5"
        ],
        [
         "1",
         "0.5"
        ]
       ],
       "shape": {
        "columns": 1,
        "rows": 2
       }
      },
      "text/plain": [
       "Churn\n",
       "0    0.5\n",
       "1    0.5\n",
       "Name: proportion, dtype: float64"
      ]
     },
     "execution_count": 98,
     "metadata": {},
     "output_type": "execute_result"
    }
   ],
   "source": [
    "# Como se usó oversampling, el resultado será que ambas clases churn = 0 (no abandono) y churn = 1(abandono) tienen la misma proporción (aproximadamente 0.5 cada una).\n",
    "# Esto confirma que los datos ahora están balanceados y listos para entrenar un modelo sin sesgo hacia la clase mayoritaria.\n",
    "y_balanceada.value_counts(normalize=True)"
   ]
  },
  {
   "cell_type": "markdown",
   "id": "4a014d8b",
   "metadata": {},
   "source": [
    "# Normalizacion\n",
    "Escala los valores numéricos para que estén en un mismo rango (por ejemplo, entre 0 y 1).\n",
    "\n",
    "- Las columnas `Charges.Monthly`, `Charges.Total` y `Cuentas_diarias` **no son variables explicativas** (es decir, no se usan como predictores en el modelo), no es necesario normalizarlas.\n",
    "\n",
    "- Para estar seguros sin embargo, veremos a continuacion su correlacion con la variable objetivo (Churn)"
   ]
  },
  {
   "cell_type": "markdown",
   "id": "610f972c",
   "metadata": {},
   "source": [
    "# Análisis de correlación y selección de variables"
   ]
  },
  {
   "cell_type": "code",
   "execution_count": 99,
   "id": "35a4076d",
   "metadata": {},
   "outputs": [
    {
     "data": {
      "application/vnd.microsoft.datawrangler.viewer.v0+json": {
       "columns": [
        {
         "name": "index",
         "rawType": "object",
         "type": "string"
        },
        {
         "name": "Charges.Monthly",
         "rawType": "float64",
         "type": "float"
        },
        {
         "name": "Charges.Total",
         "rawType": "float64",
         "type": "float"
        },
        {
         "name": "Cuentas_diarias",
         "rawType": "float64",
         "type": "float"
        },
        {
         "name": "Churn",
         "rawType": "float64",
         "type": "float"
        }
       ],
       "ref": "a74c62f4-f9f4-4690-ac97-a8337076423f",
       "rows": [
        [
         "Charges.Monthly",
         "1.0",
         "0.651173831578781",
         "0.9999999999999983",
         "0.193356422237847"
        ],
        [
         "Charges.Total",
         "0.651173831578781",
         "1.0",
         "0.6511738315787854",
         "-0.1983242626039952"
        ],
        [
         "Cuentas_diarias",
         "0.9999999999999983",
         "0.6511738315787854",
         "1.0",
         "0.19335642223784608"
        ],
        [
         "Churn",
         "0.193356422237847",
         "-0.1983242626039952",
         "0.19335642223784608",
         "1.0"
        ]
       ],
       "shape": {
        "columns": 4,
        "rows": 4
       }
      },
      "text/html": [
       "<div>\n",
       "<style scoped>\n",
       "    .dataframe tbody tr th:only-of-type {\n",
       "        vertical-align: middle;\n",
       "    }\n",
       "\n",
       "    .dataframe tbody tr th {\n",
       "        vertical-align: top;\n",
       "    }\n",
       "\n",
       "    .dataframe thead th {\n",
       "        text-align: right;\n",
       "    }\n",
       "</style>\n",
       "<table border=\"1\" class=\"dataframe\">\n",
       "  <thead>\n",
       "    <tr style=\"text-align: right;\">\n",
       "      <th></th>\n",
       "      <th>Charges.Monthly</th>\n",
       "      <th>Charges.Total</th>\n",
       "      <th>Cuentas_diarias</th>\n",
       "      <th>Churn</th>\n",
       "    </tr>\n",
       "  </thead>\n",
       "  <tbody>\n",
       "    <tr>\n",
       "      <th>Charges.Monthly</th>\n",
       "      <td>1.000000</td>\n",
       "      <td>0.651174</td>\n",
       "      <td>1.000000</td>\n",
       "      <td>0.193356</td>\n",
       "    </tr>\n",
       "    <tr>\n",
       "      <th>Charges.Total</th>\n",
       "      <td>0.651174</td>\n",
       "      <td>1.000000</td>\n",
       "      <td>0.651174</td>\n",
       "      <td>-0.198324</td>\n",
       "    </tr>\n",
       "    <tr>\n",
       "      <th>Cuentas_diarias</th>\n",
       "      <td>1.000000</td>\n",
       "      <td>0.651174</td>\n",
       "      <td>1.000000</td>\n",
       "      <td>0.193356</td>\n",
       "    </tr>\n",
       "    <tr>\n",
       "      <th>Churn</th>\n",
       "      <td>0.193356</td>\n",
       "      <td>-0.198324</td>\n",
       "      <td>0.193356</td>\n",
       "      <td>1.000000</td>\n",
       "    </tr>\n",
       "  </tbody>\n",
       "</table>\n",
       "</div>"
      ],
      "text/plain": [
       "                 Charges.Monthly  Charges.Total  Cuentas_diarias     Churn\n",
       "Charges.Monthly         1.000000       0.651174         1.000000  0.193356\n",
       "Charges.Total           0.651174       1.000000         0.651174 -0.198324\n",
       "Cuentas_diarias         1.000000       0.651174         1.000000  0.193356\n",
       "Churn                   0.193356      -0.198324         0.193356  1.000000"
      ]
     },
     "execution_count": 99,
     "metadata": {},
     "output_type": "execute_result"
    }
   ],
   "source": [
    "# Calcula la correlación entre cada variable y la variable objetivo (Churn). Si la correlación es alta (positiva o negativa), puede ser relevante.\n",
    "datos_codificados[['Charges.Monthly', 'Charges.Total', 'Cuentas_diarias', 'Churn']].corr()"
   ]
  },
  {
   "cell_type": "code",
   "execution_count": 100,
   "id": "23cc8e82",
   "metadata": {},
   "outputs": [],
   "source": [
    "# Almacenamos la matriz de correlacion en la variable\n",
    "corr_vars_churn = datos_codificados[['Charges.Monthly', 'Charges.Total', 'Cuentas_diarias', 'Churn']].corr()"
   ]
  },
  {
   "cell_type": "code",
   "execution_count": 101,
   "id": "ec11a045",
   "metadata": {},
   "outputs": [
    {
     "data": {
      "image/png": "[encoded data removed]",
      "text/plain": [
       "<Figure size 1100x900 with 2 Axes>"
      ]
     },
     "metadata": {},
     "output_type": "display_data"
    }
   ],
   "source": [
    "# ¿Qué factores están más correlacionados?\n",
    "\n",
    "# Generar una máscara para el triángulo superior\n",
    "mascara = np.zeros_like(corr_vars_churn, dtype=bool)\n",
    "mascara[np.triu_indices_from(mascara)] = True\n",
    "\n",
    "# Configurar la figura de matplotlib\n",
    "f, ax = plt.subplots(figsize=(11, 9))\n",
    "\n",
    "# Generar el mapa de calor (heatmap)\n",
    "cmap = sns.diverging_palette(220, 10, as_cmap=True)\n",
    "\n",
    "sns.heatmap(corr_vars_churn, mask=mascara, cmap=cmap, vmax=1, vmin=-1, center=0,\n",
    "            square=True, linewidths=.5, annot=True, cbar_kws={\"shrink\": .5})\n",
    "\n",
    "# Mostrar el mapa de calor (heatmap)\n",
    "plt.show()"
   ]
  },
  {
   "cell_type": "markdown",
   "id": "ed07e598",
   "metadata": {},
   "source": [
    "Del mapa de calor podemos apreciar la **perfecta correlación** que tienen Cuentas_diarias con Charges.Monthly ya que `Cuentas_diarias = Charges.Monthly/30`, por lo que contienen la misma informacion.<br>\n",
    "Por ello: \n",
    "- `Cuentas_diarias` **no se tendrá en cuenta** \n",
    "- Se eliminará del dataframe ya que no aporta valor adicional al modelo, esto ayuda a evitar problemas de **multicolinealidad**"
   ]
  },
  {
   "cell_type": "code",
   "execution_count": 102,
   "id": "c0844096",
   "metadata": {},
   "outputs": [],
   "source": [
    "datos_codificados2 = datos_codificados.drop(columns=['Cuentas_diarias'])"
   ]
  },
  {
   "cell_type": "code",
   "execution_count": 103,
   "id": "9c8b68ea",
   "metadata": {},
   "outputs": [],
   "source": [
    "# Almacenamos otra matriz de correlacion en la variable\n",
    "corr_2vars_churn = datos_codificados[['Charges.Monthly', 'Charges.Total', 'Churn']].corr()"
   ]
  },
  {
   "cell_type": "code",
   "execution_count": 104,
   "id": "d79f8693",
   "metadata": {},
   "outputs": [
    {
     "data": {
      "image/png": "[encoded data removed]",
      "text/plain": [
       "<Figure size 1100x900 with 2 Axes>"
      ]
     },
     "metadata": {},
     "output_type": "display_data"
    }
   ],
   "source": [
    "# ¿Qué factores están más correlacionados?\n",
    "\n",
    "# Generar una máscara para el triángulo superior\n",
    "mascara = np.zeros_like(corr_2vars_churn, dtype=bool)\n",
    "mascara[np.triu_indices_from(mascara)] = True\n",
    "\n",
    "# Configurar la figura de matplotlib\n",
    "f, ax = plt.subplots(figsize=(11, 9))\n",
    "\n",
    "# Generar el mapa de calor (heatmap)\n",
    "cmap = sns.diverging_palette(220, 10, as_cmap=True)\n",
    "\n",
    "sns.heatmap(corr_2vars_churn, mask=mascara, cmap=cmap, vmax=1, vmin=-1, center=0,\n",
    "            square=True, linewidths=.5, annot=True, cbar_kws={\"shrink\": .5})\n",
    "\n",
    "# Mostrar el mapa de calor (heatmap)\n",
    "plt.show()"
   ]
  },
  {
   "cell_type": "markdown",
   "id": "8a3029bb",
   "metadata": {},
   "source": [
    "**Lectura del mapa de calor**\n",
    "- Ninguna de las dos variables tiene una correlación fuerte con Churn, pero ambas aportan algo de información.\n",
    "- Se Puede usar una o ambas en el modelo, pero su poder predictivo individual será limitado.\n",
    "- **No hay colinealidad extrema**, pero sí relación moderada entre ambas."
   ]
  },
  {
   "cell_type": "code",
   "execution_count": 105,
   "id": "edeeeb5d",
   "metadata": {},
   "outputs": [],
   "source": [
    "# Elimina la columna 'PhoneService' para reducir la multicolinealidad, \n",
    "# verificar resultados de celda 50 VIF\n",
    "X = X.drop(columns=['PhoneService'])"
   ]
  },
  {
   "cell_type": "markdown",
   "id": "4dd2336e",
   "metadata": {},
   "source": [
    "# Separando datos para entrenamiento y para prueba\n",
    "El conjunto de **entrenamiento** se utiliza para ajustar el modelo, mientras que el conjunto de **prueba** se usa para evaluar su desempeño al predecir precios de viviendas no vistos durante el entrenamiento, lo que ayuda a la generalización del modelo."
   ]
  },
  {
   "cell_type": "code",
   "execution_count": 106,
   "id": "bb6d2d53",
   "metadata": {},
   "outputs": [],
   "source": [
    "# import train_test_split\n",
    "from sklearn.model_selection import train_test_split"
   ]
  },
  {
   "cell_type": "markdown",
   "id": "489542f4",
   "metadata": {},
   "source": [
    "ver Carpeta `.../helpers/notas_adicionales`"
   ]
  },
  {
   "cell_type": "code",
   "execution_count": 107,
   "id": "031b6322",
   "metadata": {},
   "outputs": [],
   "source": [
    "# Divide los datos en conjuntos de entrenamiento (70%) y prueba (30%) de forma reproducible\n",
    "X_train, X_test, y_train, y_test = train_test_split(X, y, test_size=0.3, random_state=230) # Garantizar la reproductividad de la segregacion de los datos"
   ]
  },
  {
   "cell_type": "markdown",
   "id": "8a938857",
   "metadata": {},
   "source": [
    "## MultiColinealidad<br>\n",
    "Cuando dos o más cosas que estás intentando estudiar son tan parecidas que es difícil determinar cuánto está influyendo cada una de ellas en el resultado."
   ]
  },
  {
   "cell_type": "code",
   "execution_count": 108,
   "id": "a6072867",
   "metadata": {},
   "outputs": [
    {
     "data": {
      "text/plain": [
       "['gender',\n",
       " 'SeniorCitizen',\n",
       " 'Partner',\n",
       " 'Dependents',\n",
       " 'tenure',\n",
       " 'MultipleLines',\n",
       " 'OnlineSecurity',\n",
       " 'OnlineBackup',\n",
       " 'DeviceProtection',\n",
       " 'TechSupport',\n",
       " 'StreamingTV',\n",
       " 'StreamingMovies',\n",
       " 'PaperlessBilling',\n",
       " 'Charges.Monthly',\n",
       " 'Charges.Total',\n",
       " 'InternetService_DSL',\n",
       " 'InternetService_Fiber optic',\n",
       " 'InternetService_No',\n",
       " 'Contract_Month-to-month',\n",
       " 'Contract_One year',\n",
       " 'Contract_Two year',\n",
       " 'PaymentMethod_Bank transfer (automatic)',\n",
       " 'PaymentMethod_Credit card (automatic)',\n",
       " 'PaymentMethod_Electronic check',\n",
       " 'PaymentMethod_Mailed check']"
      ]
     },
     "execution_count": 108,
     "metadata": {},
     "output_type": "execute_result"
    }
   ],
   "source": [
    "#se está creando una lista llamada explicativas que contiene los nombres de todas las columnas del DataFrame datos_codificados2, \n",
    "# excepto la columna Churn.\n",
    "#Esto te da la lista de variables explicativas (predictoras) que puedes usar en tu modelo, \n",
    "# excluyendo la variable objetivo (Churn).\n",
    "explicativas = list(X.columns) #list(datos_codificados2.drop(columns='Churn', axis=1).columns)\n",
    "explicativas"
   ]
  },
  {
   "cell_type": "markdown",
   "id": "1d83243b",
   "metadata": {},
   "source": [
    "### Verificacion VIF\n",
    "Según la teoría, si el <span style=\"color:orange\">**VIF (Variance Inflation Factor) de una variable es mayor a 5**</span> se considera que existe multicolinealidad moderada o alta entre esa variable y las demás variables explicativas del modelo.`\n",
    "\n",
    "**`VIF > 5`**: Hay multicolinealidad significativa <br>\n",
    "(algunos autores usan el umbral de 10, pero 5 es un criterio común y más conservador).<br>\n",
    "**`VIF ≈ 1:`** No hay multicolinealidad."
   ]
  },
  {
   "cell_type": "code",
   "execution_count": 109,
   "id": "03bfe38a",
   "metadata": {},
   "outputs": [],
   "source": [
    "# importar el VIF de statsmodel\n",
    "from statsmodels.stats.outliers_influence import variance_inflation_factor as vif"
   ]
  },
  {
   "cell_type": "code",
   "execution_count": 110,
   "id": "818a68e1",
   "metadata": {},
   "outputs": [
    {
     "data": {
      "application/vnd.microsoft.datawrangler.viewer.v0+json": {
       "columns": [
        {
         "name": "index",
         "rawType": "int64",
         "type": "integer"
        },
        {
         "name": "variables",
         "rawType": "object",
         "type": "string"
        },
        {
         "name": "vif",
         "rawType": "float64",
         "type": "float"
        }
       ],
       "ref": "e8813e83-3265-4e3a-9914-93f5354407ba",
       "rows": [
        [
         "0",
         "gender",
         "1.004725252164186"
        ],
        [
         "1",
         "SeniorCitizen",
         "1.1710162529898906"
        ],
        [
         "2",
         "Partner",
         "1.472814991670357"
        ],
        [
         "3",
         "Dependents",
         "1.3903058712733571"
        ],
        [
         "4",
         "tenure",
         "7.590908920949478"
        ],
        [
         "5",
         "MultipleLines",
         "1.9205253642753652"
        ],
        [
         "6",
         "OnlineSecurity",
         "1.6775629605767415"
        ],
        [
         "7",
         "OnlineBackup",
         "1.644790068280222"
        ],
        [
         "8",
         "DeviceProtection",
         "1.6929097654660665"
        ],
        [
         "9",
         "TechSupport",
         "1.744812805986963"
        ],
        [
         "10",
         "StreamingTV",
         "2.4711098218592538"
        ],
        [
         "11",
         "StreamingMovies",
         "2.425714658406504"
        ],
        [
         "12",
         "PaperlessBilling",
         "1.2145683536311667"
        ],
        [
         "13",
         "Charges.Monthly",
         "35.88861172326648"
        ],
        [
         "14",
         "Charges.Total",
         "10.929871560187372"
        ],
        [
         "15",
         "InternetService_DSL",
         "inf"
        ],
        [
         "16",
         "InternetService_Fiber optic",
         "inf"
        ],
        [
         "17",
         "InternetService_No",
         "inf"
        ],
        [
         "18",
         "Contract_Month-to-month",
         "inf"
        ],
        [
         "19",
         "Contract_One year",
         "inf"
        ],
        [
         "20",
         "Contract_Two year",
         "inf"
        ],
        [
         "21",
         "PaymentMethod_Bank transfer (automatic)",
         "inf"
        ],
        [
         "22",
         "PaymentMethod_Credit card (automatic)",
         "inf"
        ],
        [
         "23",
         "PaymentMethod_Electronic check",
         "inf"
        ],
        [
         "24",
         "PaymentMethod_Mailed check",
         "inf"
        ]
       ],
       "shape": {
        "columns": 2,
        "rows": 25
       }
      },
      "text/html": [
       "<div>\n",
       "<style scoped>\n",
       "    .dataframe tbody tr th:only-of-type {\n",
       "        vertical-align: middle;\n",
       "    }\n",
       "\n",
       "    .dataframe tbody tr th {\n",
       "        vertical-align: top;\n",
       "    }\n",
       "\n",
       "    .dataframe thead th {\n",
       "        text-align: right;\n",
       "    }\n",
       "</style>\n",
       "<table border=\"1\" class=\"dataframe\">\n",
       "  <thead>\n",
       "    <tr style=\"text-align: right;\">\n",
       "      <th></th>\n",
       "      <th>variables</th>\n",
       "      <th>vif</th>\n",
       "    </tr>\n",
       "  </thead>\n",
       "  <tbody>\n",
       "    <tr>\n",
       "      <th>0</th>\n",
       "      <td>gender</td>\n",
       "      <td>1.004725</td>\n",
       "    </tr>\n",
       "    <tr>\n",
       "      <th>1</th>\n",
       "      <td>SeniorCitizen</td>\n",
       "      <td>1.171016</td>\n",
       "    </tr>\n",
       "    <tr>\n",
       "      <th>2</th>\n",
       "      <td>Partner</td>\n",
       "      <td>1.472815</td>\n",
       "    </tr>\n",
       "    <tr>\n",
       "      <th>3</th>\n",
       "      <td>Dependents</td>\n",
       "      <td>1.390306</td>\n",
       "    </tr>\n",
       "    <tr>\n",
       "      <th>4</th>\n",
       "      <td>tenure</td>\n",
       "      <td>7.590909</td>\n",
       "    </tr>\n",
       "    <tr>\n",
       "      <th>5</th>\n",
       "      <td>MultipleLines</td>\n",
       "      <td>1.920525</td>\n",
       "    </tr>\n",
       "    <tr>\n",
       "      <th>6</th>\n",
       "      <td>OnlineSecurity</td>\n",
       "      <td>1.677563</td>\n",
       "    </tr>\n",
       "    <tr>\n",
       "      <th>7</th>\n",
       "      <td>OnlineBackup</td>\n",
       "      <td>1.644790</td>\n",
       "    </tr>\n",
       "    <tr>\n",
       "      <th>8</th>\n",
       "      <td>DeviceProtection</td>\n",
       "      <td>1.692910</td>\n",
       "    </tr>\n",
       "    <tr>\n",
       "      <th>9</th>\n",
       "      <td>TechSupport</td>\n",
       "      <td>1.744813</td>\n",
       "    </tr>\n",
       "    <tr>\n",
       "      <th>10</th>\n",
       "      <td>StreamingTV</td>\n",
       "      <td>2.471110</td>\n",
       "    </tr>\n",
       "    <tr>\n",
       "      <th>11</th>\n",
       "      <td>StreamingMovies</td>\n",
       "      <td>2.425715</td>\n",
       "    </tr>\n",
       "    <tr>\n",
       "      <th>12</th>\n",
       "      <td>PaperlessBilling</td>\n",
       "      <td>1.214568</td>\n",
       "    </tr>\n",
       "    <tr>\n",
       "      <th>13</th>\n",
       "      <td>Charges.Monthly</td>\n",
       "      <td>35.888612</td>\n",
       "    </tr>\n",
       "    <tr>\n",
       "      <th>14</th>\n",
       "      <td>Charges.Total</td>\n",
       "      <td>10.929872</td>\n",
       "    </tr>\n",
       "    <tr>\n",
       "      <th>15</th>\n",
       "      <td>InternetService_DSL</td>\n",
       "      <td>inf</td>\n",
       "    </tr>\n",
       "    <tr>\n",
       "      <th>16</th>\n",
       "      <td>InternetService_Fiber optic</td>\n",
       "      <td>inf</td>\n",
       "    </tr>\n",
       "    <tr>\n",
       "      <th>17</th>\n",
       "      <td>InternetService_No</td>\n",
       "      <td>inf</td>\n",
       "    </tr>\n",
       "    <tr>\n",
       "      <th>18</th>\n",
       "      <td>Contract_Month-to-month</td>\n",
       "      <td>inf</td>\n",
       "    </tr>\n",
       "    <tr>\n",
       "      <th>19</th>\n",
       "      <td>Contract_One year</td>\n",
       "      <td>inf</td>\n",
       "    </tr>\n",
       "    <tr>\n",
       "      <th>20</th>\n",
       "      <td>Contract_Two year</td>\n",
       "      <td>inf</td>\n",
       "    </tr>\n",
       "    <tr>\n",
       "      <th>21</th>\n",
       "      <td>PaymentMethod_Bank transfer (automatic)</td>\n",
       "      <td>inf</td>\n",
       "    </tr>\n",
       "    <tr>\n",
       "      <th>22</th>\n",
       "      <td>PaymentMethod_Credit card (automatic)</td>\n",
       "      <td>inf</td>\n",
       "    </tr>\n",
       "    <tr>\n",
       "      <th>23</th>\n",
       "      <td>PaymentMethod_Electronic check</td>\n",
       "      <td>inf</td>\n",
       "    </tr>\n",
       "    <tr>\n",
       "      <th>24</th>\n",
       "      <td>PaymentMethod_Mailed check</td>\n",
       "      <td>inf</td>\n",
       "    </tr>\n",
       "  </tbody>\n",
       "</table>\n",
       "</div>"
      ],
      "text/plain": [
       "                                  variables        vif\n",
       "0                                    gender   1.004725\n",
       "1                             SeniorCitizen   1.171016\n",
       "2                                   Partner   1.472815\n",
       "3                                Dependents   1.390306\n",
       "4                                    tenure   7.590909\n",
       "5                             MultipleLines   1.920525\n",
       "6                            OnlineSecurity   1.677563\n",
       "7                              OnlineBackup   1.644790\n",
       "8                          DeviceProtection   1.692910\n",
       "9                               TechSupport   1.744813\n",
       "10                              StreamingTV   2.471110\n",
       "11                          StreamingMovies   2.425715\n",
       "12                         PaperlessBilling   1.214568\n",
       "13                          Charges.Monthly  35.888612\n",
       "14                            Charges.Total  10.929872\n",
       "15                      InternetService_DSL        inf\n",
       "16              InternetService_Fiber optic        inf\n",
       "17                       InternetService_No        inf\n",
       "18                  Contract_Month-to-month        inf\n",
       "19                        Contract_One year        inf\n",
       "20                        Contract_Two year        inf\n",
       "21  PaymentMethod_Bank transfer (automatic)        inf\n",
       "22    PaymentMethod_Credit card (automatic)        inf\n",
       "23           PaymentMethod_Electronic check        inf\n",
       "24               PaymentMethod_Mailed check        inf"
      ]
     },
     "execution_count": 110,
     "metadata": {},
     "output_type": "execute_result"
    }
   ],
   "source": [
    "# VIF 1\n",
    "vif_1 = pd.DataFrame()\n",
    "vif_1['variables'] = explicativas\n",
    "\n",
    "vif_1['vif'] = [vif(X_train[explicativas],i) for i in range(len (explicativas))]\n",
    "vif_1"
   ]
  },
  {
   "cell_type": "markdown",
   "id": "cf4a6834",
   "metadata": {},
   "source": [
    "Valores aceptables, Solo la variable `tenure` tiene un VIF algo elevado (7.59), lo que indica cierta colinealidad moderada, pero no es extremo."
   ]
  },
  {
   "cell_type": "markdown",
   "id": "7f323ad1",
   "metadata": {},
   "source": [
    "# Analisis dirigido"
   ]
  },
  {
   "cell_type": "markdown",
   "id": "b3693da6",
   "metadata": {},
   "source": [
    "Relación de variables como el tiempo de contrato y el gasto total con la cancelación, utilizando gráficos como boxplots o scatter plots para identificar patrones y tendencias"
   ]
  },
  {
   "cell_type": "code",
   "execution_count": 111,
   "id": "c98094e4",
   "metadata": {},
   "outputs": [
    {
     "data": {
      "image/png": "[encoded data removed]",
      "text/plain": [
       "<Figure size 600x400 with 1 Axes>"
      ]
     },
     "metadata": {},
     "output_type": "display_data"
    },
    {
     "data": {
      "image/png": "[encoded data removed]",
      "text/plain": [
       "<Figure size 600x400 with 1 Axes>"
      ]
     },
     "metadata": {},
     "output_type": "display_data"
    },
    {
     "data": {
      "image/png": "[encoded data removed]",
      "text/plain": [
       "<Figure size 700x500 with 1 Axes>"
      ]
     },
     "metadata": {},
     "output_type": "display_data"
    }
   ],
   "source": [
    "# Boxplot: tenure vs Churn\n",
    "plt.figure(figsize=(6,4))\n",
    "sns.boxplot(x='Churn', y='tenure', data=df)\n",
    "plt.title('Distribución de tenure según Churn')\n",
    "plt.show()\n",
    "\n",
    "# Boxplot: Charges.Total vs Churn\n",
    "plt.figure(figsize=(6,4))\n",
    "sns.boxplot(x='Churn', y='Charges.Total', data=df)\n",
    "plt.title('Distribución de Charges.Total según Churn')\n",
    "plt.show()\n",
    "\n",
    "# Scatter plot: tenure vs Charges.Total, coloreado por Churn\n",
    "plt.figure(figsize=(7,5))\n",
    "sns.scatterplot(x='tenure', y='Charges.Total', hue='Churn', data=df, alpha=0.5)\n",
    "plt.title('tenure vs Charges.Total según Churn')\n",
    "plt.show()"
   ]
  },
  {
   "cell_type": "markdown",
   "id": "3d7d7f33",
   "metadata": {},
   "source": [
    "**Graficas:**<br>\n",
    "**Boxplot tenure vs Churn**\n",
    "- Los clientes que no cancelan (Churn=0) tienen un tenure (tiempo de permanencia) mucho mayor en promedio.\n",
    "- Los que cancelan (Churn=1) suelen tener un tenure bajo; es decir, la mayoría de los que se van son clientes recientes.\n",
    "\n",
    "**Boxplot Charges.Total vs Churn**\n",
    "- Los clientes que no cancelan acumulan un gasto total mucho mayor.\n",
    "- Los que cancelan tienen un gasto total bajo, lo que es coherente con su menor tiempo como clientes.\n",
    "\n",
    "**Scatter plot tenure vs Charges.Total según Churn**\n",
    "- Existe una relación lineal clara entre tenure y gasto total (más tiempo, más gasto).\n",
    "- Los puntos naranjas (Churn=1) se concentran en la parte baja de tenure y gasto total, mostrando que la mayoría de los que cancelan son clientes nuevos o con poco gasto acumulado.\n",
    "\n",
    "**Conclusión:**<br>\n",
    "Los clientes que permanecen más tiempo y gastan más son menos propensos a cancelar. La cancelación es más frecuente en clientes recientes y de bajo gasto.\n",
    "\n",
    "Estas variables `Charges.Total` ^ `ternure` son **buenos predictores** para el modelo de churn."
   ]
  },
  {
   "cell_type": "markdown",
   "id": "c6b2ecb4",
   "metadata": {},
   "source": [
    "# Entrenamiento de modelos"
   ]
  },
  {
   "cell_type": "markdown",
   "id": "82632110",
   "metadata": {},
   "source": [
    "Se entrena un árbol de decisión con los datos y muestra la precisión obtenida en el entrenamiento."
   ]
  },
  {
   "cell_type": "code",
   "execution_count": 112,
   "id": "07d08924",
   "metadata": {},
   "outputs": [
    {
     "data": {
      "text/plain": [
       "0.9974442709072838"
      ]
     },
     "execution_count": 112,
     "metadata": {},
     "output_type": "execute_result"
    }
   ],
   "source": [
    "# Importa el clasificador de árbol de decisión de scikit-learn\n",
    "from sklearn.tree import DecisionTreeClassifier\n",
    "\n",
    "# Crea una instancia del clasificador de árbol de decisión\n",
    "modelo_tree = DecisionTreeClassifier()\n",
    "\n",
    "# Entrena el modelo usando las variables predictoras o explicativas X y la variable objetivo y\n",
    "modelo_tree.fit(X,y)\n",
    "\n",
    "# Calcula y devuelve la exactitud del modelo sobre los mismos datos de entrenamiento\n",
    "modelo_tree.score(X,y)"
   ]
  },
  {
   "cell_type": "markdown",
   "id": "aea743a8",
   "metadata": {},
   "source": [
    "Separando datos para entrenamiento y prueba\n",
    "ya se genero las variables en la celda 45<br>\n",
    "X_train, X_test, y_train, y_test = train_test_split(X, y, test_size=0.3, random_state=230) # Garantizar la reproductividad de la segregacion de los datos"
   ]
  },
  {
   "cell_type": "code",
   "execution_count": 113,
   "id": "d72667dd",
   "metadata": {},
   "outputs": [],
   "source": [
    "# Divide los datos en conjuntos de entrenamiento (70%) y prueba (30%) de forma reproducible\n",
    "# X_train, X_test, y_train, y_test = train_test_split(X, y, test_size=0.3, random_state=230) # Garantizar la reproductividad de la segregacion de los datos"
   ]
  },
  {
   "cell_type": "markdown",
   "id": "fc03a426",
   "metadata": {},
   "source": [
    "Divide X e y en conjuntos de entrenamiento y validación"
   ]
  },
  {
   "cell_type": "code",
   "execution_count": 114,
   "id": "3fab9584",
   "metadata": {},
   "outputs": [],
   "source": [
    "# Por defecto, test_size=0.25, así que X_val y y_val tendrán el 25% de los datos y X_train/y_train el 75%.\n",
    "# stratify=y mantiene la proporción de clases y random_state=5 asegura reproducibilidad.\n",
    "X_train, X_val, y_train, y_val = train_test_split(X, y, stratify=y, random_state=5)"
   ]
  },
  {
   "cell_type": "markdown",
   "id": "d740b913",
   "metadata": {},
   "source": [
    "Se crea y entrena un `árbol de decisión` con los datos de **entrenamiento** y luego muestra la precisión (exactitud) del modelo tanto en el conjunto de **entrenamiento** como en el de **validación**. Esto permite comparar el desempeño del modelo en ambos conjuntos y detectar posibles problemas de sobreajuste."
   ]
  },
  {
   "cell_type": "code",
   "execution_count": 115,
   "id": "8997e225",
   "metadata": {},
   "outputs": [
    {
     "name": "stdout",
     "output_type": "stream",
     "text": [
      "La exactitud del modelo con el conjunto de entrenamiento es: 0.9977281332828474\n",
      "La exactitud del modelo con el conjunto de validacion es: 0.7291311754684838\n"
     ]
    }
   ],
   "source": [
    "# Crea una instancia del clasificador de árbol de decisión\n",
    "modelo1 = DecisionTreeClassifier()\n",
    "# Entrena el modelo con los datos de entrenamiento (X_train, y_train)\n",
    "modelo1.fit(X_train, y_train)\n",
    "# Imprime la exactitud del modelo usando los datos de entrenamiento\n",
    "print(f'La exactitud del modelo con el conjunto de entrenamiento es: {modelo1.score(X_train,y_train)}')\n",
    "# Imprime la exactitud del modelo usando los datos de validación\n",
    "print(f'La exactitud del modelo con el conjunto de validacion es: {modelo1.score(X_val,y_val)}')"
   ]
  },
  {
   "cell_type": "markdown",
   "id": "508aa68d",
   "metadata": {},
   "source": [
    "Ajustando la profundidad `max_depth=10`<br>\n",
    "osea, controla la complejidad del árbol y mejora la capacidad de generalización del modelo."
   ]
  },
  {
   "cell_type": "code",
   "execution_count": 116,
   "id": "8376e7f6",
   "metadata": {},
   "outputs": [
    {
     "name": "stdout",
     "output_type": "stream",
     "text": [
      "La exactitud del modelo con el conjunto de entrenamiento es: 0.8782658084059068\n",
      "La exactitud del modelo con el conjunto de validacion es: 0.7643384440658717\n"
     ]
    }
   ],
   "source": [
    "# Crea una instancia del clasificador de árbol de decisión con una profundidad máxima de 10\n",
    "modelo1 = DecisionTreeClassifier(max_depth=10)\n",
    "\n",
    "# Entrena el modelo con los datos de entrenamiento\n",
    "modelo1.fit(X_train, y_train)\n",
    "\n",
    "# Imprime la exactitud del modelo usando los datos de entrenamiento\n",
    "print(f'La exactitud del modelo con el conjunto de entrenamiento es: {modelo1.score(X_train,y_train)}')\n",
    "\n",
    "# Imprime la exactitud del modelo usando los datos de validación\n",
    "print(f'La exactitud del modelo con el conjunto de validacion es: {modelo1.score(X_val,y_val)}')"
   ]
  },
  {
   "cell_type": "markdown",
   "id": "4db645d2",
   "metadata": {},
   "source": [
    "# Evaluación del rendimiento de los modelos con métricas."
   ]
  },
  {
   "cell_type": "markdown",
   "id": "c61990e5",
   "metadata": {},
   "source": [
    "## Modelo árbol de decisión"
   ]
  },
  {
   "cell_type": "markdown",
   "id": "948ab5dc",
   "metadata": {},
   "source": [
    "Se generan las predicciones del modelo de árbol de decisión usando los datos de validación, calcula la matriz de confusión comparando las etiquetas reales y las predichas, y **muestra esa matriz en pantalla** para evaluar el desempeño del modelo."
   ]
  },
  {
   "cell_type": "code",
   "execution_count": 117,
   "id": "633cc388",
   "metadata": {},
   "outputs": [
    {
     "name": "stdout",
     "output_type": "stream",
     "text": [
      "[[1083  211]\n",
      " [ 204  263]]\n"
     ]
    }
   ],
   "source": [
    "# Genera las predicciones del modelo usando los datos de validación\n",
    "y_previsto = modelo1.predict(X_val)\n",
    "\n",
    "# Calcula la matriz de confusión comparando las etiquetas reales y las predichas\n",
    "matriz_confusion = confusion_matrix(y_val, y_previsto)\n",
    "\n",
    "# Muestra la matriz de confusión en pantalla\n",
    "print(matriz_confusion)"
   ]
  },
  {
   "cell_type": "code",
   "execution_count": 118,
   "id": "119f177d",
   "metadata": {},
   "outputs": [
    {
     "data": {
      "image/png": "[encoded data removed]",
      "text/plain": [
       "<Figure size 640x480 with 2 Axes>"
      ]
     },
     "metadata": {},
     "output_type": "display_data"
    }
   ],
   "source": [
    "# Crea un objeto para visualizar la matriz de confusión con etiquetas personalizadas\n",
    "visualizacion = ConfusionMatrixDisplay(confusion_matrix = matriz_confusion, display_labels=['No abandona', 'Abandona'])\n",
    "\n",
    "# Muestra gráficamente la matriz de confusión\n",
    "visualizacion.plot();"
   ]
  },
  {
   "cell_type": "markdown",
   "id": "2f53b5d2",
   "metadata": {},
   "source": [
    "**Interpretacion:**<br>\n",
    "- **1080**: Clientes que no abandonaron y el modelo predijo correctamente que no abandonarían (verdaderos negativos).\n",
    "- **265**: Clientes que abandonaron y el modelo predijo correctamente que abandonarían (verdaderos positivos).\n",
    "- **214**: Clientes que no abandonaron, pero el modelo predijo que sí abandonarían (falsos positivos).\n",
    "- **202**: Clientes que abandonaron, pero el modelo predijo que no abandonarían (falsos negativos)."
   ]
  },
  {
   "cell_type": "markdown",
   "id": "13cc3495",
   "metadata": {},
   "source": [
    "# Evaluación de los modelos"
   ]
  },
  {
   "cell_type": "code",
   "execution_count": 119,
   "id": "53b75816",
   "metadata": {},
   "outputs": [],
   "source": [
    "# Importa las funciones para calcular exactitud, precisión, recall y f1-score desde sklearn.metrics\n",
    "from sklearn.metrics import accuracy_score, precision_score, recall_score, f1_score"
   ]
  },
  {
   "cell_type": "code",
   "execution_count": 120,
   "id": "e84ad075",
   "metadata": {},
   "outputs": [
    {
     "name": "stdout",
     "output_type": "stream",
     "text": [
      "La precision del modelo es: 0.5548523206751055\n",
      "La sensibilidad, recuperación (Recall) del modelo es: 0.563169164882227\n",
      "La exactitud (accuracy) del modelo es: 0.7643384440658717\n"
     ]
    }
   ],
   "source": [
    "print(f'La precision del modelo es: {precision_score(y_val, y_previsto)}')\n",
    "print(f'La sensibilidad, recuperación (Recall) del modelo es: {recall_score(y_val, y_previsto)}')\n",
    "print(f'La exactitud (accuracy) del modelo es: {accuracy_score(y_val, y_previsto)}')"
   ]
  },
  {
   "cell_type": "code",
   "execution_count": 121,
   "id": "6519e548",
   "metadata": {},
   "outputs": [
    {
     "name": "stdout",
     "output_type": "stream",
     "text": [
      "El F1-score del modelo es: 0.5589798087141339\n"
     ]
    }
   ],
   "source": [
    "# Imprime el valor del F1-score del modelo usando los datos de validación\n",
    "# El F1-score es una métrica que combina precisión y recall; mientras más cerca de 1, mejor el modelo.\n",
    "print(f'El F1-score del modelo es: {f1_score(y_val, y_previsto)}')"
   ]
  },
  {
   "cell_type": "markdown",
   "id": "c3db9e91",
   "metadata": {},
   "source": [
    "**Informe de las metricas de clasificacion**"
   ]
  },
  {
   "cell_type": "code",
   "execution_count": 122,
   "id": "b6ad658a",
   "metadata": {},
   "outputs": [],
   "source": [
    "# Sirve para generar un informe con las principales métricas de clasificación\n",
    "from sklearn.metrics import classification_report"
   ]
  },
  {
   "cell_type": "code",
   "execution_count": 123,
   "id": "f2e039f1",
   "metadata": {},
   "outputs": [
    {
     "name": "stdout",
     "output_type": "stream",
     "text": [
      "              precision    recall  f1-score   support\n",
      "\n",
      "           0       0.84      0.84      0.84      1294\n",
      "           1       0.55      0.56      0.56       467\n",
      "\n",
      "    accuracy                           0.76      1761\n",
      "   macro avg       0.70      0.70      0.70      1761\n",
      "weighted avg       0.77      0.76      0.76      1761\n",
      "\n"
     ]
    }
   ],
   "source": [
    "# Imprime un informe con las métricas de clasificación\n",
    "print(classification_report(y_val, y_previsto))"
   ]
  },
  {
   "cell_type": "markdown",
   "id": "f23d77cb",
   "metadata": {},
   "source": [
    "# Informe final"
   ]
  }
 ],
 "metadata": {
  "kernelspec": {
   "display_name": "telcom_env",
   "language": "python",
   "name": "python3"
  },
  "language_info": {
   "codemirror_mode": {
    "name": "ipython",
    "version": 3
   },
   "file_extension": ".py",
   "mimetype": "text/x-python",
   "name": "python",
   "nbconvert_exporter": "python",
   "pygments_lexer": "ipython3",
   "version": "3.13.6"
  }
 },
 "nbformat": 4,
 "nbformat_minor": 5
}
