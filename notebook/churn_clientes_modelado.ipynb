{
 "cells": [
  {
   "cell_type": "markdown",
   "id": "06fb910d",
   "metadata": {},
   "source": [
    "# Preparar los datos para el modelado"
   ]
  },
  {
   "cell_type": "markdown",
   "id": "8b5269fb",
   "metadata": {},
   "source": [
    "## Tratamiento"
   ]
  },
  {
   "cell_type": "markdown",
   "id": "ff013806",
   "metadata": {},
   "source": [
    "## Codificacion"
   ]
  },
  {
   "cell_type": "markdown",
   "id": "2d00bea0",
   "metadata": {},
   "source": [
    "## Normalizacion"
   ]
  },
  {
   "cell_type": "markdown",
   "id": "610f972c",
   "metadata": {},
   "source": [
    "# Análisis de correlación y selección de variables"
   ]
  },
  {
   "cell_type": "markdown",
   "id": "c6b2ecb4",
   "metadata": {},
   "source": [
    "# Entrenamiento de modelos"
   ]
  },
  {
   "cell_type": "markdown",
   "id": "4db645d2",
   "metadata": {},
   "source": [
    "# Evaluación del rendimiento de los modelos con métricas."
   ]
  },
  {
   "cell_type": "markdown",
   "id": "13cc3495",
   "metadata": {},
   "source": [
    "# Interpretacion de resultados"
   ]
  },
  {
   "cell_type": "markdown",
   "id": "f23d77cb",
   "metadata": {},
   "source": [
    "# Informe final"
   ]
  }
 ],
 "metadata": {
  "language_info": {
   "name": "python"
  }
 },
 "nbformat": 4,
 "nbformat_minor": 5
}
