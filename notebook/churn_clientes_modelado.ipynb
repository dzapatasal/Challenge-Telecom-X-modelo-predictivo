{
 "cells": [
  {
   "cell_type": "markdown",
   "id": "efb49f0f",
   "metadata": {},
   "source": [
    "# Cargando librerias & dataframe"
   ]
  },
  {
   "cell_type": "code",
   "execution_count": 3,
   "id": "08e7867c",
   "metadata": {},
   "outputs": [],
   "source": [
    "import numpy as np\n",
    "import pandas as pd\n",
    "import warnings\n",
    "import seaborn as sns\n",
    "import matplotlib.pyplot as plt\n",
    "from sklearn.metrics import confusion_matrix\n",
    "from sklearn.metrics import ConfusionMatrixDisplay\n",
    "warnings.filterwarnings('ignore')"
   ]
  },
  {
   "cell_type": "code",
   "execution_count": 4,
   "id": "14f3010b",
   "metadata": {},
   "outputs": [],
   "source": [
    "path = '../data/datos_tratados.csv'\n",
    "df = pd.read_csv(path)"
   ]
  },
  {
   "cell_type": "markdown",
   "id": "06fb910d",
   "metadata": {},
   "source": [
    "# Preparar los datos para el modelado"
   ]
  },
  {
   "cell_type": "code",
   "execution_count": 5,
   "id": "29dd670d",
   "metadata": {},
   "outputs": [
    {
     "data": {
      "application/vnd.microsoft.datawrangler.viewer.v0+json": {
       "columns": [
        {
         "name": "index",
         "rawType": "int64",
         "type": "integer"
        },
        {
         "name": "customerID",
         "rawType": "object",
         "type": "string"
        },
        {
         "name": "Churn",
         "rawType": "float64",
         "type": "float"
        },
        {
         "name": "gender",
         "rawType": "int64",
         "type": "integer"
        },
        {
         "name": "SeniorCitizen",
         "rawType": "int64",
         "type": "integer"
        },
        {
         "name": "Partner",
         "rawType": "int64",
         "type": "integer"
        },
        {
         "name": "Dependents",
         "rawType": "int64",
         "type": "integer"
        },
        {
         "name": "tenure",
         "rawType": "int64",
         "type": "integer"
        },
        {
         "name": "PhoneService",
         "rawType": "int64",
         "type": "integer"
        },
        {
         "name": "MultipleLines",
         "rawType": "int64",
         "type": "integer"
        },
        {
         "name": "InternetService",
         "rawType": "object",
         "type": "string"
        },
        {
         "name": "OnlineSecurity",
         "rawType": "int64",
         "type": "integer"
        },
        {
         "name": "OnlineBackup",
         "rawType": "int64",
         "type": "integer"
        },
        {
         "name": "DeviceProtection",
         "rawType": "int64",
         "type": "integer"
        },
        {
         "name": "TechSupport",
         "rawType": "int64",
         "type": "integer"
        },
        {
         "name": "StreamingTV",
         "rawType": "int64",
         "type": "integer"
        },
        {
         "name": "StreamingMovies",
         "rawType": "int64",
         "type": "integer"
        },
        {
         "name": "Contract",
         "rawType": "object",
         "type": "string"
        },
        {
         "name": "PaperlessBilling",
         "rawType": "int64",
         "type": "integer"
        },
        {
         "name": "PaymentMethod",
         "rawType": "object",
         "type": "string"
        },
        {
         "name": "Charges.Monthly",
         "rawType": "float64",
         "type": "float"
        },
        {
         "name": "Charges.Total",
         "rawType": "float64",
         "type": "float"
        },
        {
         "name": "Cuentas_diarias",
         "rawType": "float64",
         "type": "float"
        }
       ],
       "ref": "678c9a35-9803-4d5d-bf3c-d9971bfb4ee2",
       "rows": [
        [
         "4946",
         "6967-PEJLL",
         "0.0",
         "1",
         "0",
         "1",
         "1",
         "37",
         "0",
         "0",
         "DSL",
         "1",
         "0",
         "1",
         "1",
         "0",
         "0",
         "One year",
         "1",
         "Electronic check",
         "40.2",
         "1525.35",
         "1.34"
        ],
        [
         "3455",
         "4897-QSUYC",
         "1.0",
         "0",
         "0",
         "0",
         "0",
         "1",
         "1",
         "0",
         "No",
         "0",
         "0",
         "0",
         "0",
         "0",
         "0",
         "Month-to-month",
         "1",
         "Mailed check",
         "20.15",
         "20.15",
         "0.6716666666666666"
        ],
        [
         "2256",
         "3223-WZWJM",
         "1.0",
         "1",
         "0",
         "0",
         "0",
         "26",
         "1",
         "1",
         "Fiber optic",
         "0",
         "0",
         "0",
         "0",
         "0",
         "1",
         "Month-to-month",
         "1",
         "Electronic check",
         "83.95",
         "2254.2",
         "2.7983333333333333"
        ],
        [
         "6354",
         "8993-IZEUX",
         "0.0",
         "1",
         "0",
         "0",
         "0",
         "7",
         "1",
         "0",
         "Fiber optic",
         "0",
         "0",
         "0",
         "0",
         "0",
         "0",
         "Month-to-month",
         "0",
         "Bank transfer (automatic)",
         "69.15",
         "488.65",
         "2.305"
        ],
        [
         "4040",
         "5696-JVVQY",
         "0.0",
         "0",
         "0",
         "1",
         "1",
         "48",
         "1",
         "0",
         "DSL",
         "1",
         "1",
         "1",
         "0",
         "0",
         "1",
         "Two year",
         "1",
         "Credit card (automatic)",
         "70.1",
         "3238.4",
         "2.3366666666666664"
        ]
       ],
       "shape": {
        "columns": 22,
        "rows": 5
       }
      },
      "text/html": [
       "<div>\n",
       "<style scoped>\n",
       "    .dataframe tbody tr th:only-of-type {\n",
       "        vertical-align: middle;\n",
       "    }\n",
       "\n",
       "    .dataframe tbody tr th {\n",
       "        vertical-align: top;\n",
       "    }\n",
       "\n",
       "    .dataframe thead th {\n",
       "        text-align: right;\n",
       "    }\n",
       "</style>\n",
       "<table border=\"1\" class=\"dataframe\">\n",
       "  <thead>\n",
       "    <tr style=\"text-align: right;\">\n",
       "      <th></th>\n",
       "      <th>customerID</th>\n",
       "      <th>Churn</th>\n",
       "      <th>gender</th>\n",
       "      <th>SeniorCitizen</th>\n",
       "      <th>Partner</th>\n",
       "      <th>Dependents</th>\n",
       "      <th>tenure</th>\n",
       "      <th>PhoneService</th>\n",
       "      <th>MultipleLines</th>\n",
       "      <th>InternetService</th>\n",
       "      <th>...</th>\n",
       "      <th>DeviceProtection</th>\n",
       "      <th>TechSupport</th>\n",
       "      <th>StreamingTV</th>\n",
       "      <th>StreamingMovies</th>\n",
       "      <th>Contract</th>\n",
       "      <th>PaperlessBilling</th>\n",
       "      <th>PaymentMethod</th>\n",
       "      <th>Charges.Monthly</th>\n",
       "      <th>Charges.Total</th>\n",
       "      <th>Cuentas_diarias</th>\n",
       "    </tr>\n",
       "  </thead>\n",
       "  <tbody>\n",
       "    <tr>\n",
       "      <th>4946</th>\n",
       "      <td>6967-PEJLL</td>\n",
       "      <td>0.0</td>\n",
       "      <td>1</td>\n",
       "      <td>0</td>\n",
       "      <td>1</td>\n",
       "      <td>1</td>\n",
       "      <td>37</td>\n",
       "      <td>0</td>\n",
       "      <td>0</td>\n",
       "      <td>DSL</td>\n",
       "      <td>...</td>\n",
       "      <td>1</td>\n",
       "      <td>1</td>\n",
       "      <td>0</td>\n",
       "      <td>0</td>\n",
       "      <td>One year</td>\n",
       "      <td>1</td>\n",
       "      <td>Electronic check</td>\n",
       "      <td>40.20</td>\n",
       "      <td>1525.35</td>\n",
       "      <td>1.340000</td>\n",
       "    </tr>\n",
       "    <tr>\n",
       "      <th>3455</th>\n",
       "      <td>4897-QSUYC</td>\n",
       "      <td>1.0</td>\n",
       "      <td>0</td>\n",
       "      <td>0</td>\n",
       "      <td>0</td>\n",
       "      <td>0</td>\n",
       "      <td>1</td>\n",
       "      <td>1</td>\n",
       "      <td>0</td>\n",
       "      <td>No</td>\n",
       "      <td>...</td>\n",
       "      <td>0</td>\n",
       "      <td>0</td>\n",
       "      <td>0</td>\n",
       "      <td>0</td>\n",
       "      <td>Month-to-month</td>\n",
       "      <td>1</td>\n",
       "      <td>Mailed check</td>\n",
       "      <td>20.15</td>\n",
       "      <td>20.15</td>\n",
       "      <td>0.671667</td>\n",
       "    </tr>\n",
       "    <tr>\n",
       "      <th>2256</th>\n",
       "      <td>3223-WZWJM</td>\n",
       "      <td>1.0</td>\n",
       "      <td>1</td>\n",
       "      <td>0</td>\n",
       "      <td>0</td>\n",
       "      <td>0</td>\n",
       "      <td>26</td>\n",
       "      <td>1</td>\n",
       "      <td>1</td>\n",
       "      <td>Fiber optic</td>\n",
       "      <td>...</td>\n",
       "      <td>0</td>\n",
       "      <td>0</td>\n",
       "      <td>0</td>\n",
       "      <td>1</td>\n",
       "      <td>Month-to-month</td>\n",
       "      <td>1</td>\n",
       "      <td>Electronic check</td>\n",
       "      <td>83.95</td>\n",
       "      <td>2254.20</td>\n",
       "      <td>2.798333</td>\n",
       "    </tr>\n",
       "    <tr>\n",
       "      <th>6354</th>\n",
       "      <td>8993-IZEUX</td>\n",
       "      <td>0.0</td>\n",
       "      <td>1</td>\n",
       "      <td>0</td>\n",
       "      <td>0</td>\n",
       "      <td>0</td>\n",
       "      <td>7</td>\n",
       "      <td>1</td>\n",
       "      <td>0</td>\n",
       "      <td>Fiber optic</td>\n",
       "      <td>...</td>\n",
       "      <td>0</td>\n",
       "      <td>0</td>\n",
       "      <td>0</td>\n",
       "      <td>0</td>\n",
       "      <td>Month-to-month</td>\n",
       "      <td>0</td>\n",
       "      <td>Bank transfer (automatic)</td>\n",
       "      <td>69.15</td>\n",
       "      <td>488.65</td>\n",
       "      <td>2.305000</td>\n",
       "    </tr>\n",
       "    <tr>\n",
       "      <th>4040</th>\n",
       "      <td>5696-JVVQY</td>\n",
       "      <td>0.0</td>\n",
       "      <td>0</td>\n",
       "      <td>0</td>\n",
       "      <td>1</td>\n",
       "      <td>1</td>\n",
       "      <td>48</td>\n",
       "      <td>1</td>\n",
       "      <td>0</td>\n",
       "      <td>DSL</td>\n",
       "      <td>...</td>\n",
       "      <td>1</td>\n",
       "      <td>0</td>\n",
       "      <td>0</td>\n",
       "      <td>1</td>\n",
       "      <td>Two year</td>\n",
       "      <td>1</td>\n",
       "      <td>Credit card (automatic)</td>\n",
       "      <td>70.10</td>\n",
       "      <td>3238.40</td>\n",
       "      <td>2.336667</td>\n",
       "    </tr>\n",
       "  </tbody>\n",
       "</table>\n",
       "<p>5 rows × 22 columns</p>\n",
       "</div>"
      ],
      "text/plain": [
       "      customerID  Churn  gender  SeniorCitizen  Partner  Dependents  tenure  \\\n",
       "4946  6967-PEJLL    0.0       1              0        1           1      37   \n",
       "3455  4897-QSUYC    1.0       0              0        0           0       1   \n",
       "2256  3223-WZWJM    1.0       1              0        0           0      26   \n",
       "6354  8993-IZEUX    0.0       1              0        0           0       7   \n",
       "4040  5696-JVVQY    0.0       0              0        1           1      48   \n",
       "\n",
       "      PhoneService  MultipleLines InternetService  ...  DeviceProtection  \\\n",
       "4946             0              0             DSL  ...                 1   \n",
       "3455             1              0              No  ...                 0   \n",
       "2256             1              1     Fiber optic  ...                 0   \n",
       "6354             1              0     Fiber optic  ...                 0   \n",
       "4040             1              0             DSL  ...                 1   \n",
       "\n",
       "      TechSupport  StreamingTV  StreamingMovies        Contract  \\\n",
       "4946            1            0                0        One year   \n",
       "3455            0            0                0  Month-to-month   \n",
       "2256            0            0                1  Month-to-month   \n",
       "6354            0            0                0  Month-to-month   \n",
       "4040            0            0                1        Two year   \n",
       "\n",
       "      PaperlessBilling              PaymentMethod  Charges.Monthly  \\\n",
       "4946                 1           Electronic check            40.20   \n",
       "3455                 1               Mailed check            20.15   \n",
       "2256                 1           Electronic check            83.95   \n",
       "6354                 0  Bank transfer (automatic)            69.15   \n",
       "4040                 1    Credit card (automatic)            70.10   \n",
       "\n",
       "     Charges.Total  Cuentas_diarias  \n",
       "4946       1525.35         1.340000  \n",
       "3455         20.15         0.671667  \n",
       "2256       2254.20         2.798333  \n",
       "6354        488.65         2.305000  \n",
       "4040       3238.40         2.336667  \n",
       "\n",
       "[5 rows x 22 columns]"
      ]
     },
     "execution_count": 5,
     "metadata": {},
     "output_type": "execute_result"
    }
   ],
   "source": [
    "df.sample(5)"
   ]
  },
  {
   "cell_type": "markdown",
   "id": "55713e6c",
   "metadata": {},
   "source": [
    "## Tratamiento"
   ]
  },
  {
   "cell_type": "markdown",
   "id": "dbc6812d",
   "metadata": {},
   "source": [
    "### Eliminando columna(s) irrelevantes y conversion de tipo"
   ]
  },
  {
   "cell_type": "code",
   "execution_count": 6,
   "id": "6126d8ea",
   "metadata": {},
   "outputs": [],
   "source": [
    "# Elimina la columna 'customerID' del DataFrame, ya que es solo un identificador y no aporta al modelado\n",
    "df.drop(columns=['customerID'], inplace=True)"
   ]
  },
  {
   "cell_type": "code",
   "execution_count": 7,
   "id": "8ee7602b",
   "metadata": {},
   "outputs": [],
   "source": [
    "# Convierte la columna 'Churn' de float (0.0/1.0) a entero (0/1) para el modelado\n",
    "df['Churn'] = df['Churn'].astype(int)"
   ]
  },
  {
   "cell_type": "code",
   "execution_count": 8,
   "id": "10ee972f",
   "metadata": {},
   "outputs": [
    {
     "name": "stdout",
     "output_type": "stream",
     "text": [
      "<class 'pandas.core.frame.DataFrame'>\n",
      "RangeIndex: 7043 entries, 0 to 7042\n",
      "Data columns (total 21 columns):\n",
      " #   Column            Non-Null Count  Dtype  \n",
      "---  ------            --------------  -----  \n",
      " 0   Churn             7043 non-null   int64  \n",
      " 1   gender            7043 non-null   int64  \n",
      " 2   SeniorCitizen     7043 non-null   int64  \n",
      " 3   Partner           7043 non-null   int64  \n",
      " 4   Dependents        7043 non-null   int64  \n",
      " 5   tenure            7043 non-null   int64  \n",
      " 6   PhoneService      7043 non-null   int64  \n",
      " 7   MultipleLines     7043 non-null   int64  \n",
      " 8   InternetService   7043 non-null   object \n",
      " 9   OnlineSecurity    7043 non-null   int64  \n",
      " 10  OnlineBackup      7043 non-null   int64  \n",
      " 11  DeviceProtection  7043 non-null   int64  \n",
      " 12  TechSupport       7043 non-null   int64  \n",
      " 13  StreamingTV       7043 non-null   int64  \n",
      " 14  StreamingMovies   7043 non-null   int64  \n",
      " 15  Contract          7043 non-null   object \n",
      " 16  PaperlessBilling  7043 non-null   int64  \n",
      " 17  PaymentMethod     7043 non-null   object \n",
      " 18  Charges.Monthly   7043 non-null   float64\n",
      " 19  Charges.Total     7043 non-null   float64\n",
      " 20  Cuentas_diarias   7043 non-null   float64\n",
      "dtypes: float64(3), int64(15), object(3)\n",
      "memory usage: 1.1+ MB\n"
     ]
    }
   ],
   "source": [
    "df.info()"
   ]
  },
  {
   "cell_type": "markdown",
   "id": "ff5c04c9",
   "metadata": {},
   "source": [
    "## Codificacion"
   ]
  },
  {
   "cell_type": "markdown",
   "id": "367dc173",
   "metadata": {},
   "source": [
    "### Transformando variables categoricas"
   ]
  },
  {
   "cell_type": "markdown",
   "id": "df73b4c9",
   "metadata": {},
   "source": [
    "Visualizacion de variables categoricas"
   ]
  },
  {
   "cell_type": "code",
   "execution_count": 9,
   "id": "dbb17cb1",
   "metadata": {},
   "outputs": [
    {
     "data": {
      "application/vnd.microsoft.datawrangler.viewer.v0+json": {
       "columns": [
        {
         "name": "index",
         "rawType": "int64",
         "type": "integer"
        },
        {
         "name": "InternetService",
         "rawType": "object",
         "type": "string"
        },
        {
         "name": "Contract",
         "rawType": "object",
         "type": "string"
        },
        {
         "name": "PaymentMethod",
         "rawType": "object",
         "type": "string"
        }
       ],
       "ref": "a7e44fd3-d669-4125-b5ca-dabf446a2976",
       "rows": [
        [
         "0",
         "DSL",
         "One year",
         "Mailed check"
        ],
        [
         "1",
         "DSL",
         "Month-to-month",
         "Mailed check"
        ],
        [
         "2",
         "Fiber optic",
         "Month-to-month",
         "Electronic check"
        ],
        [
         "3",
         "Fiber optic",
         "Month-to-month",
         "Electronic check"
        ],
        [
         "4",
         "Fiber optic",
         "Month-to-month",
         "Mailed check"
        ],
        [
         "5",
         "DSL",
         "Month-to-month",
         "Credit card (automatic)"
        ],
        [
         "6",
         "Fiber optic",
         "Two year",
         "Bank transfer (automatic)"
        ],
        [
         "7",
         "Fiber optic",
         "Two year",
         "Credit card (automatic)"
        ],
        [
         "8",
         "DSL",
         "Month-to-month",
         "Electronic check"
        ],
        [
         "9",
         "DSL",
         "Two year",
         "Mailed check"
        ],
        [
         "10",
         "DSL",
         "Two year",
         "Credit card (automatic)"
        ],
        [
         "11",
         "Fiber optic",
         "Two year",
         "Credit card (automatic)"
        ],
        [
         "12",
         "Fiber optic",
         "Month-to-month",
         "Electronic check"
        ],
        [
         "13",
         "Fiber optic",
         "Two year",
         "Bank transfer (automatic)"
        ],
        [
         "14",
         "DSL",
         "Two year",
         "Bank transfer (automatic)"
        ],
        [
         "15",
         "Fiber optic",
         "Two year",
         "Credit card (automatic)"
        ],
        [
         "16",
         "DSL",
         "One year",
         "Mailed check"
        ],
        [
         "17",
         "Fiber optic",
         "Month-to-month",
         "Electronic check"
        ],
        [
         "18",
         "DSL",
         "One year",
         "Credit card (automatic)"
        ],
        [
         "19",
         "DSL",
         "Month-to-month",
         "Electronic check"
        ],
        [
         "20",
         "No",
         "One year",
         "Electronic check"
        ],
        [
         "21",
         "Fiber optic",
         "Month-to-month",
         "Electronic check"
        ],
        [
         "22",
         "Fiber optic",
         "Month-to-month",
         "Electronic check"
        ],
        [
         "23",
         "No",
         "Month-to-month",
         "Mailed check"
        ],
        [
         "24",
         "No",
         "Month-to-month",
         "Mailed check"
        ],
        [
         "25",
         "DSL",
         "Month-to-month",
         "Bank transfer (automatic)"
        ],
        [
         "26",
         "Fiber optic",
         "One year",
         "Bank transfer (automatic)"
        ],
        [
         "27",
         "No",
         "Two year",
         "Credit card (automatic)"
        ],
        [
         "28",
         "No",
         "One year",
         "Bank transfer (automatic)"
        ],
        [
         "29",
         "No",
         "Two year",
         "Bank transfer (automatic)"
        ],
        [
         "30",
         "Fiber optic",
         "One year",
         "Credit card (automatic)"
        ],
        [
         "31",
         "No",
         "One year",
         "Bank transfer (automatic)"
        ],
        [
         "32",
         "Fiber optic",
         "One year",
         "Bank transfer (automatic)"
        ],
        [
         "33",
         "No",
         "One year",
         "Electronic check"
        ],
        [
         "34",
         "DSL",
         "Two year",
         "Credit card (automatic)"
        ],
        [
         "35",
         "No",
         "Two year",
         "Electronic check"
        ],
        [
         "36",
         "Fiber optic",
         "Month-to-month",
         "Bank transfer (automatic)"
        ],
        [
         "37",
         "Fiber optic",
         "Month-to-month",
         "Electronic check"
        ],
        [
         "38",
         "No",
         "Two year",
         "Bank transfer (automatic)"
        ],
        [
         "39",
         "Fiber optic",
         "Month-to-month",
         "Bank transfer (automatic)"
        ],
        [
         "40",
         "DSL",
         "Month-to-month",
         "Electronic check"
        ],
        [
         "41",
         "DSL",
         "One year",
         "Mailed check"
        ],
        [
         "42",
         "No",
         "Two year",
         "Credit card (automatic)"
        ],
        [
         "43",
         "DSL",
         "One year",
         "Bank transfer (automatic)"
        ],
        [
         "44",
         "DSL",
         "Month-to-month",
         "Mailed check"
        ],
        [
         "45",
         "DSL",
         "Two year",
         "Bank transfer (automatic)"
        ],
        [
         "46",
         "DSL",
         "One year",
         "Credit card (automatic)"
        ],
        [
         "47",
         "Fiber optic",
         "One year",
         "Electronic check"
        ],
        [
         "48",
         "DSL",
         "Month-to-month",
         "Mailed check"
        ],
        [
         "49",
         "Fiber optic",
         "Month-to-month",
         "Electronic check"
        ]
       ],
       "shape": {
        "columns": 3,
        "rows": 7043
       }
      },
      "text/html": [
       "<div>\n",
       "<style scoped>\n",
       "    .dataframe tbody tr th:only-of-type {\n",
       "        vertical-align: middle;\n",
       "    }\n",
       "\n",
       "    .dataframe tbody tr th {\n",
       "        vertical-align: top;\n",
       "    }\n",
       "\n",
       "    .dataframe thead th {\n",
       "        text-align: right;\n",
       "    }\n",
       "</style>\n",
       "<table border=\"1\" class=\"dataframe\">\n",
       "  <thead>\n",
       "    <tr style=\"text-align: right;\">\n",
       "      <th></th>\n",
       "      <th>InternetService</th>\n",
       "      <th>Contract</th>\n",
       "      <th>PaymentMethod</th>\n",
       "    </tr>\n",
       "  </thead>\n",
       "  <tbody>\n",
       "    <tr>\n",
       "      <th>0</th>\n",
       "      <td>DSL</td>\n",
       "      <td>One year</td>\n",
       "      <td>Mailed check</td>\n",
       "    </tr>\n",
       "    <tr>\n",
       "      <th>1</th>\n",
       "      <td>DSL</td>\n",
       "      <td>Month-to-month</td>\n",
       "      <td>Mailed check</td>\n",
       "    </tr>\n",
       "    <tr>\n",
       "      <th>2</th>\n",
       "      <td>Fiber optic</td>\n",
       "      <td>Month-to-month</td>\n",
       "      <td>Electronic check</td>\n",
       "    </tr>\n",
       "    <tr>\n",
       "      <th>3</th>\n",
       "      <td>Fiber optic</td>\n",
       "      <td>Month-to-month</td>\n",
       "      <td>Electronic check</td>\n",
       "    </tr>\n",
       "    <tr>\n",
       "      <th>4</th>\n",
       "      <td>Fiber optic</td>\n",
       "      <td>Month-to-month</td>\n",
       "      <td>Mailed check</td>\n",
       "    </tr>\n",
       "    <tr>\n",
       "      <th>...</th>\n",
       "      <td>...</td>\n",
       "      <td>...</td>\n",
       "      <td>...</td>\n",
       "    </tr>\n",
       "    <tr>\n",
       "      <th>7038</th>\n",
       "      <td>DSL</td>\n",
       "      <td>One year</td>\n",
       "      <td>Mailed check</td>\n",
       "    </tr>\n",
       "    <tr>\n",
       "      <th>7039</th>\n",
       "      <td>Fiber optic</td>\n",
       "      <td>Month-to-month</td>\n",
       "      <td>Electronic check</td>\n",
       "    </tr>\n",
       "    <tr>\n",
       "      <th>7040</th>\n",
       "      <td>DSL</td>\n",
       "      <td>Month-to-month</td>\n",
       "      <td>Mailed check</td>\n",
       "    </tr>\n",
       "    <tr>\n",
       "      <th>7041</th>\n",
       "      <td>DSL</td>\n",
       "      <td>Two year</td>\n",
       "      <td>Mailed check</td>\n",
       "    </tr>\n",
       "    <tr>\n",
       "      <th>7042</th>\n",
       "      <td>DSL</td>\n",
       "      <td>Two year</td>\n",
       "      <td>Electronic check</td>\n",
       "    </tr>\n",
       "  </tbody>\n",
       "</table>\n",
       "<p>7043 rows × 3 columns</p>\n",
       "</div>"
      ],
      "text/plain": [
       "     InternetService        Contract     PaymentMethod\n",
       "0                DSL        One year      Mailed check\n",
       "1                DSL  Month-to-month      Mailed check\n",
       "2        Fiber optic  Month-to-month  Electronic check\n",
       "3        Fiber optic  Month-to-month  Electronic check\n",
       "4        Fiber optic  Month-to-month      Mailed check\n",
       "...              ...             ...               ...\n",
       "7038             DSL        One year      Mailed check\n",
       "7039     Fiber optic  Month-to-month  Electronic check\n",
       "7040             DSL  Month-to-month      Mailed check\n",
       "7041             DSL        Two year      Mailed check\n",
       "7042             DSL        Two year  Electronic check\n",
       "\n",
       "[7043 rows x 3 columns]"
      ]
     },
     "execution_count": 9,
     "metadata": {},
     "output_type": "execute_result"
    }
   ],
   "source": [
    "# Visualiza las columnas en las posiciones 8, 15 y 17 del DataFrame (por índice)\n",
    "df.iloc[:,[8,15,17]]"
   ]
  },
  {
   "cell_type": "markdown",
   "id": "a252df66",
   "metadata": {},
   "source": [
    "Cantidad de valores por columna (Informativo)"
   ]
  },
  {
   "cell_type": "code",
   "execution_count": 10,
   "id": "fdfcfe95",
   "metadata": {},
   "outputs": [
    {
     "name": "stdout",
     "output_type": "stream",
     "text": [
      "InternetService: 3\n",
      "Contract: 3\n",
      "PaymentMethod: 4\n"
     ]
    }
   ],
   "source": [
    "cols = df.columns[[8,15,17]]\n",
    "for col in cols:\n",
    "    print(f'{col}: {df[col].nunique()}')"
   ]
  },
  {
   "cell_type": "markdown",
   "id": "e85c70c4",
   "metadata": {},
   "source": [
    "#### OneHotEncoding"
   ]
  },
  {
   "cell_type": "code",
   "execution_count": 11,
   "id": "a961512e",
   "metadata": {},
   "outputs": [
    {
     "data": {
      "text/plain": [
       "<bound method NDFrame.head of       Churn  gender  SeniorCitizen  Partner  Dependents  tenure  PhoneService  \\\n",
       "0         0       0              0        1           1       9             1   \n",
       "1         0       1              0        0           0       9             1   \n",
       "2         1       1              0        0           0       4             1   \n",
       "3         1       1              1        1           0      13             1   \n",
       "4         1       0              1        1           0       3             1   \n",
       "...     ...     ...            ...      ...         ...     ...           ...   \n",
       "7038      0       0              0        0           0      13             1   \n",
       "7039      1       1              0        1           0      22             1   \n",
       "7040      0       1              0        0           0       2             1   \n",
       "7041      0       1              0        1           1      67             1   \n",
       "7042      0       1              0        1           1      63             0   \n",
       "\n",
       "      MultipleLines  OnlineSecurity  OnlineBackup  ...  InternetService_DSL  \\\n",
       "0                 0               0             1  ...                    1   \n",
       "1                 1               0             0  ...                    1   \n",
       "2                 0               0             0  ...                    0   \n",
       "3                 0               0             1  ...                    0   \n",
       "4                 0               0             0  ...                    0   \n",
       "...             ...             ...           ...  ...                  ...   \n",
       "7038              0               1             0  ...                    1   \n",
       "7039              1               0             0  ...                    0   \n",
       "7040              0               0             1  ...                    1   \n",
       "7041              0               1             0  ...                    1   \n",
       "7042              0               1             1  ...                    1   \n",
       "\n",
       "      InternetService_Fiber optic  InternetService_No  \\\n",
       "0                               0                   0   \n",
       "1                               0                   0   \n",
       "2                               1                   0   \n",
       "3                               1                   0   \n",
       "4                               1                   0   \n",
       "...                           ...                 ...   \n",
       "7038                            0                   0   \n",
       "7039                            1                   0   \n",
       "7040                            0                   0   \n",
       "7041                            0                   0   \n",
       "7042                            0                   0   \n",
       "\n",
       "      Contract_Month-to-month  Contract_One year  Contract_Two year  \\\n",
       "0                           0                  1                  0   \n",
       "1                           1                  0                  0   \n",
       "2                           1                  0                  0   \n",
       "3                           1                  0                  0   \n",
       "4                           1                  0                  0   \n",
       "...                       ...                ...                ...   \n",
       "7038                        0                  1                  0   \n",
       "7039                        1                  0                  0   \n",
       "7040                        1                  0                  0   \n",
       "7041                        0                  0                  1   \n",
       "7042                        0                  0                  1   \n",
       "\n",
       "      PaymentMethod_Bank transfer (automatic)  \\\n",
       "0                                           0   \n",
       "1                                           0   \n",
       "2                                           0   \n",
       "3                                           0   \n",
       "4                                           0   \n",
       "...                                       ...   \n",
       "7038                                        0   \n",
       "7039                                        0   \n",
       "7040                                        0   \n",
       "7041                                        0   \n",
       "7042                                        0   \n",
       "\n",
       "      PaymentMethod_Credit card (automatic)  PaymentMethod_Electronic check  \\\n",
       "0                                         0                               0   \n",
       "1                                         0                               0   \n",
       "2                                         0                               1   \n",
       "3                                         0                               1   \n",
       "4                                         0                               0   \n",
       "...                                     ...                             ...   \n",
       "7038                                      0                               0   \n",
       "7039                                      0                               1   \n",
       "7040                                      0                               0   \n",
       "7041                                      0                               0   \n",
       "7042                                      0                               1   \n",
       "\n",
       "      PaymentMethod_Mailed check  \n",
       "0                              1  \n",
       "1                              1  \n",
       "2                              0  \n",
       "3                              0  \n",
       "4                              1  \n",
       "...                          ...  \n",
       "7038                           1  \n",
       "7039                           0  \n",
       "7040                           1  \n",
       "7041                           1  \n",
       "7042                           0  \n",
       "\n",
       "[7043 rows x 28 columns]>"
      ]
     },
     "execution_count": 11,
     "metadata": {},
     "output_type": "execute_result"
    }
   ],
   "source": [
    "# Define una lista con los nombres de las columnas categóricas que se van a codificar\n",
    "categoricas = ['InternetService', 'Contract', 'PaymentMethod']\n",
    "\n",
    "pd.get_dummies(data=df, columns=categoricas, dtype=int).head"
   ]
  },
  {
   "cell_type": "code",
   "execution_count": 12,
   "id": "6f65fd16",
   "metadata": {},
   "outputs": [],
   "source": [
    "# Aplica One-Hot Encoding a las columnas categóricas seleccionadas y crea un nuevo DataFrame codificado\n",
    "datos_codificados = pd.get_dummies(data=df, columns=categoricas, dtype=int)"
   ]
  },
  {
   "cell_type": "code",
   "execution_count": 13,
   "id": "54962104",
   "metadata": {},
   "outputs": [
    {
     "data": {
      "application/vnd.microsoft.datawrangler.viewer.v0+json": {
       "columns": [
        {
         "name": "index",
         "rawType": "int64",
         "type": "integer"
        },
        {
         "name": "Churn",
         "rawType": "int64",
         "type": "integer"
        },
        {
         "name": "gender",
         "rawType": "int64",
         "type": "integer"
        },
        {
         "name": "SeniorCitizen",
         "rawType": "int64",
         "type": "integer"
        },
        {
         "name": "Partner",
         "rawType": "int64",
         "type": "integer"
        },
        {
         "name": "Dependents",
         "rawType": "int64",
         "type": "integer"
        },
        {
         "name": "tenure",
         "rawType": "int64",
         "type": "integer"
        },
        {
         "name": "PhoneService",
         "rawType": "int64",
         "type": "integer"
        },
        {
         "name": "MultipleLines",
         "rawType": "int64",
         "type": "integer"
        },
        {
         "name": "OnlineSecurity",
         "rawType": "int64",
         "type": "integer"
        },
        {
         "name": "OnlineBackup",
         "rawType": "int64",
         "type": "integer"
        },
        {
         "name": "DeviceProtection",
         "rawType": "int64",
         "type": "integer"
        },
        {
         "name": "TechSupport",
         "rawType": "int64",
         "type": "integer"
        },
        {
         "name": "StreamingTV",
         "rawType": "int64",
         "type": "integer"
        },
        {
         "name": "StreamingMovies",
         "rawType": "int64",
         "type": "integer"
        },
        {
         "name": "PaperlessBilling",
         "rawType": "int64",
         "type": "integer"
        },
        {
         "name": "Charges.Monthly",
         "rawType": "float64",
         "type": "float"
        },
        {
         "name": "Charges.Total",
         "rawType": "float64",
         "type": "float"
        },
        {
         "name": "Cuentas_diarias",
         "rawType": "float64",
         "type": "float"
        },
        {
         "name": "InternetService_DSL",
         "rawType": "int64",
         "type": "integer"
        },
        {
         "name": "InternetService_Fiber optic",
         "rawType": "int64",
         "type": "integer"
        },
        {
         "name": "InternetService_No",
         "rawType": "int64",
         "type": "integer"
        },
        {
         "name": "Contract_Month-to-month",
         "rawType": "int64",
         "type": "integer"
        },
        {
         "name": "Contract_One year",
         "rawType": "int64",
         "type": "integer"
        },
        {
         "name": "Contract_Two year",
         "rawType": "int64",
         "type": "integer"
        },
        {
         "name": "PaymentMethod_Bank transfer (automatic)",
         "rawType": "int64",
         "type": "integer"
        },
        {
         "name": "PaymentMethod_Credit card (automatic)",
         "rawType": "int64",
         "type": "integer"
        },
        {
         "name": "PaymentMethod_Electronic check",
         "rawType": "int64",
         "type": "integer"
        },
        {
         "name": "PaymentMethod_Mailed check",
         "rawType": "int64",
         "type": "integer"
        }
       ],
       "ref": "2b8a7a1c-cef0-400d-b615-c0101eaf3bde",
       "rows": [
        [
         "5954",
         "0",
         "1",
         "1",
         "1",
         "1",
         "68",
         "1",
         "0",
         "0",
         "0",
         "0",
         "0",
         "0",
         "0",
         "0",
         "19.5",
         "1193.55",
         "0.65",
         "0",
         "0",
         "1",
         "0",
         "1",
         "0",
         "1",
         "0",
         "0",
         "0"
        ],
        [
         "3877",
         "1",
         "1",
         "0",
         "1",
         "1",
         "19",
         "1",
         "1",
         "0",
         "0",
         "1",
         "1",
         "1",
         "1",
         "0",
         "103.3",
         "2012.7",
         "3.4433333333333334",
         "0",
         "1",
         "0",
         "1",
         "0",
         "0",
         "0",
         "0",
         "1",
         "0"
        ],
        [
         "6749",
         "1",
         "0",
         "0",
         "0",
         "0",
         "16",
         "1",
         "1",
         "0",
         "0",
         "1",
         "0",
         "0",
         "1",
         "1",
         "65.2",
         "1043.35",
         "2.1733333333333333",
         "1",
         "0",
         "0",
         "1",
         "0",
         "0",
         "0",
         "1",
         "0",
         "0"
        ],
        [
         "6452",
         "0",
         "1",
         "0",
         "1",
         "1",
         "64",
         "1",
         "0",
         "0",
         "0",
         "0",
         "0",
         "0",
         "0",
         "1",
         "19.7",
         "1274.05",
         "0.6566666666666666",
         "0",
         "0",
         "1",
         "0",
         "0",
         "1",
         "1",
         "0",
         "0",
         "0"
        ],
        [
         "5404",
         "1",
         "1",
         "0",
         "1",
         "1",
         "49",
         "0",
         "0",
         "0",
         "1",
         "0",
         "0",
         "1",
         "1",
         "1",
         "51.8",
         "2541.25",
         "1.7266666666666666",
         "1",
         "0",
         "0",
         "0",
         "1",
         "0",
         "1",
         "0",
         "0",
         "0"
        ]
       ],
       "shape": {
        "columns": 28,
        "rows": 5
       }
      },
      "text/html": [
       "<div>\n",
       "<style scoped>\n",
       "    .dataframe tbody tr th:only-of-type {\n",
       "        vertical-align: middle;\n",
       "    }\n",
       "\n",
       "    .dataframe tbody tr th {\n",
       "        vertical-align: top;\n",
       "    }\n",
       "\n",
       "    .dataframe thead th {\n",
       "        text-align: right;\n",
       "    }\n",
       "</style>\n",
       "<table border=\"1\" class=\"dataframe\">\n",
       "  <thead>\n",
       "    <tr style=\"text-align: right;\">\n",
       "      <th></th>\n",
       "      <th>Churn</th>\n",
       "      <th>gender</th>\n",
       "      <th>SeniorCitizen</th>\n",
       "      <th>Partner</th>\n",
       "      <th>Dependents</th>\n",
       "      <th>tenure</th>\n",
       "      <th>PhoneService</th>\n",
       "      <th>MultipleLines</th>\n",
       "      <th>OnlineSecurity</th>\n",
       "      <th>OnlineBackup</th>\n",
       "      <th>...</th>\n",
       "      <th>InternetService_DSL</th>\n",
       "      <th>InternetService_Fiber optic</th>\n",
       "      <th>InternetService_No</th>\n",
       "      <th>Contract_Month-to-month</th>\n",
       "      <th>Contract_One year</th>\n",
       "      <th>Contract_Two year</th>\n",
       "      <th>PaymentMethod_Bank transfer (automatic)</th>\n",
       "      <th>PaymentMethod_Credit card (automatic)</th>\n",
       "      <th>PaymentMethod_Electronic check</th>\n",
       "      <th>PaymentMethod_Mailed check</th>\n",
       "    </tr>\n",
       "  </thead>\n",
       "  <tbody>\n",
       "    <tr>\n",
       "      <th>5954</th>\n",
       "      <td>0</td>\n",
       "      <td>1</td>\n",
       "      <td>1</td>\n",
       "      <td>1</td>\n",
       "      <td>1</td>\n",
       "      <td>68</td>\n",
       "      <td>1</td>\n",
       "      <td>0</td>\n",
       "      <td>0</td>\n",
       "      <td>0</td>\n",
       "      <td>...</td>\n",
       "      <td>0</td>\n",
       "      <td>0</td>\n",
       "      <td>1</td>\n",
       "      <td>0</td>\n",
       "      <td>1</td>\n",
       "      <td>0</td>\n",
       "      <td>1</td>\n",
       "      <td>0</td>\n",
       "      <td>0</td>\n",
       "      <td>0</td>\n",
       "    </tr>\n",
       "    <tr>\n",
       "      <th>3877</th>\n",
       "      <td>1</td>\n",
       "      <td>1</td>\n",
       "      <td>0</td>\n",
       "      <td>1</td>\n",
       "      <td>1</td>\n",
       "      <td>19</td>\n",
       "      <td>1</td>\n",
       "      <td>1</td>\n",
       "      <td>0</td>\n",
       "      <td>0</td>\n",
       "      <td>...</td>\n",
       "      <td>0</td>\n",
       "      <td>1</td>\n",
       "      <td>0</td>\n",
       "      <td>1</td>\n",
       "      <td>0</td>\n",
       "      <td>0</td>\n",
       "      <td>0</td>\n",
       "      <td>0</td>\n",
       "      <td>1</td>\n",
       "      <td>0</td>\n",
       "    </tr>\n",
       "    <tr>\n",
       "      <th>6749</th>\n",
       "      <td>1</td>\n",
       "      <td>0</td>\n",
       "      <td>0</td>\n",
       "      <td>0</td>\n",
       "      <td>0</td>\n",
       "      <td>16</td>\n",
       "      <td>1</td>\n",
       "      <td>1</td>\n",
       "      <td>0</td>\n",
       "      <td>0</td>\n",
       "      <td>...</td>\n",
       "      <td>1</td>\n",
       "      <td>0</td>\n",
       "      <td>0</td>\n",
       "      <td>1</td>\n",
       "      <td>0</td>\n",
       "      <td>0</td>\n",
       "      <td>0</td>\n",
       "      <td>1</td>\n",
       "      <td>0</td>\n",
       "      <td>0</td>\n",
       "    </tr>\n",
       "    <tr>\n",
       "      <th>6452</th>\n",
       "      <td>0</td>\n",
       "      <td>1</td>\n",
       "      <td>0</td>\n",
       "      <td>1</td>\n",
       "      <td>1</td>\n",
       "      <td>64</td>\n",
       "      <td>1</td>\n",
       "      <td>0</td>\n",
       "      <td>0</td>\n",
       "      <td>0</td>\n",
       "      <td>...</td>\n",
       "      <td>0</td>\n",
       "      <td>0</td>\n",
       "      <td>1</td>\n",
       "      <td>0</td>\n",
       "      <td>0</td>\n",
       "      <td>1</td>\n",
       "      <td>1</td>\n",
       "      <td>0</td>\n",
       "      <td>0</td>\n",
       "      <td>0</td>\n",
       "    </tr>\n",
       "    <tr>\n",
       "      <th>5404</th>\n",
       "      <td>1</td>\n",
       "      <td>1</td>\n",
       "      <td>0</td>\n",
       "      <td>1</td>\n",
       "      <td>1</td>\n",
       "      <td>49</td>\n",
       "      <td>0</td>\n",
       "      <td>0</td>\n",
       "      <td>0</td>\n",
       "      <td>1</td>\n",
       "      <td>...</td>\n",
       "      <td>1</td>\n",
       "      <td>0</td>\n",
       "      <td>0</td>\n",
       "      <td>0</td>\n",
       "      <td>1</td>\n",
       "      <td>0</td>\n",
       "      <td>1</td>\n",
       "      <td>0</td>\n",
       "      <td>0</td>\n",
       "      <td>0</td>\n",
       "    </tr>\n",
       "  </tbody>\n",
       "</table>\n",
       "<p>5 rows × 28 columns</p>\n",
       "</div>"
      ],
      "text/plain": [
       "      Churn  gender  SeniorCitizen  Partner  Dependents  tenure  PhoneService  \\\n",
       "5954      0       1              1        1           1      68             1   \n",
       "3877      1       1              0        1           1      19             1   \n",
       "6749      1       0              0        0           0      16             1   \n",
       "6452      0       1              0        1           1      64             1   \n",
       "5404      1       1              0        1           1      49             0   \n",
       "\n",
       "      MultipleLines  OnlineSecurity  OnlineBackup  ...  InternetService_DSL  \\\n",
       "5954              0               0             0  ...                    0   \n",
       "3877              1               0             0  ...                    0   \n",
       "6749              1               0             0  ...                    1   \n",
       "6452              0               0             0  ...                    0   \n",
       "5404              0               0             1  ...                    1   \n",
       "\n",
       "      InternetService_Fiber optic  InternetService_No  \\\n",
       "5954                            0                   1   \n",
       "3877                            1                   0   \n",
       "6749                            0                   0   \n",
       "6452                            0                   1   \n",
       "5404                            0                   0   \n",
       "\n",
       "      Contract_Month-to-month  Contract_One year  Contract_Two year  \\\n",
       "5954                        0                  1                  0   \n",
       "3877                        1                  0                  0   \n",
       "6749                        1                  0                  0   \n",
       "6452                        0                  0                  1   \n",
       "5404                        0                  1                  0   \n",
       "\n",
       "      PaymentMethod_Bank transfer (automatic)  \\\n",
       "5954                                        1   \n",
       "3877                                        0   \n",
       "6749                                        0   \n",
       "6452                                        1   \n",
       "5404                                        1   \n",
       "\n",
       "      PaymentMethod_Credit card (automatic)  PaymentMethod_Electronic check  \\\n",
       "5954                                      0                               0   \n",
       "3877                                      0                               1   \n",
       "6749                                      1                               0   \n",
       "6452                                      0                               0   \n",
       "5404                                      0                               0   \n",
       "\n",
       "      PaymentMethod_Mailed check  \n",
       "5954                           0  \n",
       "3877                           0  \n",
       "6749                           0  \n",
       "6452                           0  \n",
       "5404                           0  \n",
       "\n",
       "[5 rows x 28 columns]"
      ]
     },
     "execution_count": 13,
     "metadata": {},
     "output_type": "execute_result"
    }
   ],
   "source": [
    "datos_codificados.sample(5)"
   ]
  },
  {
   "cell_type": "markdown",
   "id": "e3f57159",
   "metadata": {},
   "source": [
    "# Normalizacion\n",
    "Escala los valores numéricos para que estén en un mismo rango (por ejemplo, entre 0 y 1).\n",
    "\n",
    "- Las columnas `Charges.Monthly`, `Charges.Total` y `Cuentas_diarias` **no son variables explicativas** (es decir, no se usan como predictores en el modelo), no es necesario normalizarlas.\n",
    "\n",
    "- Para estar seguros sin embargo, veremos a continuacion su correlacion con la variable objetivo (Churn)"
   ]
  },
  {
   "cell_type": "markdown",
   "id": "f8c47186",
   "metadata": {},
   "source": [
    "## Análisis de correlación y selección de variables"
   ]
  },
  {
   "cell_type": "code",
   "execution_count": 14,
   "id": "de78fd72",
   "metadata": {},
   "outputs": [
    {
     "data": {
      "application/vnd.microsoft.datawrangler.viewer.v0+json": {
       "columns": [
        {
         "name": "index",
         "rawType": "object",
         "type": "string"
        },
        {
         "name": "Charges.Monthly",
         "rawType": "float64",
         "type": "float"
        },
        {
         "name": "Charges.Total",
         "rawType": "float64",
         "type": "float"
        },
        {
         "name": "Cuentas_diarias",
         "rawType": "float64",
         "type": "float"
        },
        {
         "name": "Churn",
         "rawType": "float64",
         "type": "float"
        }
       ],
       "ref": "f2043477-497f-481c-a0a8-772bede44fd3",
       "rows": [
        [
         "Charges.Monthly",
         "1.0",
         "0.651173831578781",
         "0.9999999999999983",
         "0.193356422237847"
        ],
        [
         "Charges.Total",
         "0.651173831578781",
         "1.0",
         "0.6511738315787854",
         "-0.1983242626039952"
        ],
        [
         "Cuentas_diarias",
         "0.9999999999999983",
         "0.6511738315787854",
         "1.0",
         "0.19335642223784608"
        ],
        [
         "Churn",
         "0.193356422237847",
         "-0.1983242626039952",
         "0.19335642223784608",
         "1.0"
        ]
       ],
       "shape": {
        "columns": 4,
        "rows": 4
       }
      },
      "text/html": [
       "<div>\n",
       "<style scoped>\n",
       "    .dataframe tbody tr th:only-of-type {\n",
       "        vertical-align: middle;\n",
       "    }\n",
       "\n",
       "    .dataframe tbody tr th {\n",
       "        vertical-align: top;\n",
       "    }\n",
       "\n",
       "    .dataframe thead th {\n",
       "        text-align: right;\n",
       "    }\n",
       "</style>\n",
       "<table border=\"1\" class=\"dataframe\">\n",
       "  <thead>\n",
       "    <tr style=\"text-align: right;\">\n",
       "      <th></th>\n",
       "      <th>Charges.Monthly</th>\n",
       "      <th>Charges.Total</th>\n",
       "      <th>Cuentas_diarias</th>\n",
       "      <th>Churn</th>\n",
       "    </tr>\n",
       "  </thead>\n",
       "  <tbody>\n",
       "    <tr>\n",
       "      <th>Charges.Monthly</th>\n",
       "      <td>1.000000</td>\n",
       "      <td>0.651174</td>\n",
       "      <td>1.000000</td>\n",
       "      <td>0.193356</td>\n",
       "    </tr>\n",
       "    <tr>\n",
       "      <th>Charges.Total</th>\n",
       "      <td>0.651174</td>\n",
       "      <td>1.000000</td>\n",
       "      <td>0.651174</td>\n",
       "      <td>-0.198324</td>\n",
       "    </tr>\n",
       "    <tr>\n",
       "      <th>Cuentas_diarias</th>\n",
       "      <td>1.000000</td>\n",
       "      <td>0.651174</td>\n",
       "      <td>1.000000</td>\n",
       "      <td>0.193356</td>\n",
       "    </tr>\n",
       "    <tr>\n",
       "      <th>Churn</th>\n",
       "      <td>0.193356</td>\n",
       "      <td>-0.198324</td>\n",
       "      <td>0.193356</td>\n",
       "      <td>1.000000</td>\n",
       "    </tr>\n",
       "  </tbody>\n",
       "</table>\n",
       "</div>"
      ],
      "text/plain": [
       "                 Charges.Monthly  Charges.Total  Cuentas_diarias     Churn\n",
       "Charges.Monthly         1.000000       0.651174         1.000000  0.193356\n",
       "Charges.Total           0.651174       1.000000         0.651174 -0.198324\n",
       "Cuentas_diarias         1.000000       0.651174         1.000000  0.193356\n",
       "Churn                   0.193356      -0.198324         0.193356  1.000000"
      ]
     },
     "execution_count": 14,
     "metadata": {},
     "output_type": "execute_result"
    }
   ],
   "source": [
    "# Calcula la correlación entre cada variable y la variable objetivo (Churn). Si la correlación es alta (positiva o negativa), puede ser relevante.\n",
    "datos_codificados[['Charges.Monthly', 'Charges.Total', 'Cuentas_diarias', 'Churn']].corr()"
   ]
  },
  {
   "cell_type": "code",
   "execution_count": 15,
   "id": "8a63fc7b",
   "metadata": {},
   "outputs": [],
   "source": [
    "# Almacenamos la matriz de correlacion en la variable\n",
    "corr_vars_churn = datos_codificados[['Charges.Monthly', 'Charges.Total', 'Cuentas_diarias', 'Churn']].corr()"
   ]
  },
  {
   "cell_type": "code",
   "execution_count": 16,
   "id": "891b4178",
   "metadata": {},
   "outputs": [
    {
     "data": {
      "image/png": "[encoded data removed]",
      "text/plain": [
       "<Figure size 1100x900 with 2 Axes>"
      ]
     },
     "metadata": {},
     "output_type": "display_data"
    }
   ],
   "source": [
    "# ¿Qué factores están más correlacionados?\n",
    "\n",
    "# Generar una máscara para el triángulo superior\n",
    "mascara = np.zeros_like(corr_vars_churn, dtype=bool)\n",
    "mascara[np.triu_indices_from(mascara)] = True\n",
    "\n",
    "# Configurar la figura de matplotlib\n",
    "f, ax = plt.subplots(figsize=(11, 9))\n",
    "\n",
    "# Generar el mapa de calor (heatmap)\n",
    "cmap = sns.diverging_palette(220, 10, as_cmap=True)\n",
    "\n",
    "sns.heatmap(corr_vars_churn, mask=mascara, cmap=cmap, vmax=1, vmin=-1, center=0,\n",
    "            square=True, linewidths=.5, annot=True, cbar_kws={\"shrink\": .5})\n",
    "\n",
    "# Mostrar el mapa de calor (heatmap)\n",
    "plt.show()"
   ]
  },
  {
   "cell_type": "markdown",
   "id": "641fd5df",
   "metadata": {},
   "source": [
    "Del mapa de calor podemos apreciar la **perfecta correlación** que tienen Cuentas_diarias con Charges.Monthly ya que `Cuentas_diarias = Charges.Monthly/30`, por lo que contienen la misma informacion.<br>\n",
    "Por ello: \n",
    "- `Cuentas_diarias` **no se tendrá en cuenta** \n",
    "- Se eliminará del dataframe ya que no aporta valor adicional al modelo, esto ayuda a evitar problemas de **multicolinealidad**"
   ]
  },
  {
   "cell_type": "code",
   "execution_count": 17,
   "id": "4e4ce92d",
   "metadata": {},
   "outputs": [],
   "source": [
    "datos_codificados2 = datos_codificados.drop(columns=['Cuentas_diarias'])"
   ]
  },
  {
   "cell_type": "code",
   "execution_count": 18,
   "id": "4731c4a0",
   "metadata": {},
   "outputs": [],
   "source": [
    "# Almacenamos otra matriz de correlacion en la variable\n",
    "corr_2vars_churn = datos_codificados[['Charges.Monthly', 'Charges.Total', 'Churn']].corr()"
   ]
  },
  {
   "cell_type": "code",
   "execution_count": 19,
   "id": "26bb1385",
   "metadata": {},
   "outputs": [
    {
     "data": {
      "image/png": "[encoded data removed]",
      "text/plain": [
       "<Figure size 1100x900 with 2 Axes>"
      ]
     },
     "metadata": {},
     "output_type": "display_data"
    }
   ],
   "source": [
    "# ¿Qué factores están más correlacionados?\n",
    "\n",
    "# Generar una máscara para el triángulo superior\n",
    "mascara = np.zeros_like(corr_2vars_churn, dtype=bool)\n",
    "mascara[np.triu_indices_from(mascara)] = True\n",
    "\n",
    "# Configurar la figura de matplotlib\n",
    "f, ax = plt.subplots(figsize=(11, 9))\n",
    "\n",
    "# Generar el mapa de calor (heatmap)\n",
    "cmap = sns.diverging_palette(220, 10, as_cmap=True)\n",
    "\n",
    "sns.heatmap(corr_2vars_churn, mask=mascara, cmap=cmap, vmax=1, vmin=-1, center=0,\n",
    "            square=True, linewidths=.5, annot=True, cbar_kws={\"shrink\": .5})\n",
    "\n",
    "# Mostrar el mapa de calor (heatmap)\n",
    "plt.show()"
   ]
  },
  {
   "cell_type": "markdown",
   "id": "32038af6",
   "metadata": {},
   "source": [
    "**Lectura del mapa de calor**\n",
    "- Ninguna de las dos variables tiene una correlación fuerte con Churn, pero ambas aportan algo de información.\n",
    "- Se Puede usar una o ambas en el modelo, pero su poder predictivo individual será limitado.\n",
    "- **No hay colinealidad extrema**, pero sí relación moderada entre ambas."
   ]
  },
  {
   "cell_type": "markdown",
   "id": "2d00bea0",
   "metadata": {},
   "source": [
    "## Balanceo de clases: Verificacion\n",
    "Ajusta la proporción de clases en el dataset (por ejemplo, usando sobremuestreo (Oversampling) o submuestreo (Undersampling)) para que no haya desbalance entre clases.<br>\n",
    "Esto es debido a que halla clases muy desbalanceadas (frecuencias muy diferentes)<br>\n",
    "ver Carpeta `.../helpers/notas_adicionales`"
   ]
  },
  {
   "cell_type": "markdown",
   "id": "18b246a0",
   "metadata": {},
   "source": [
    "### Verificacion proporcion de Cancelacion (Churn)"
   ]
  },
  {
   "cell_type": "code",
   "execution_count": 20,
   "id": "c5e4d044",
   "metadata": {},
   "outputs": [
    {
     "name": "stdout",
     "output_type": "stream",
     "text": [
      "Churn\n",
      "0    5174\n",
      "1    1869\n",
      "Name: count, dtype: int64\n",
      "Churn\n",
      "0    0.73463\n",
      "1    0.26537\n",
      "Name: proportion, dtype: float64\n"
     ]
    }
   ],
   "source": [
    "# Calcula el conteo y la proporción de cada clase en la columna 'Churn'\n",
    "print(df['Churn'].value_counts())\n",
    "print(df['Churn'].value_counts(normalize=True))"
   ]
  },
  {
   "cell_type": "markdown",
   "id": "95ade6d2",
   "metadata": {},
   "source": [
    "**RESULTADOS**<br>\n",
    "La proporción que aparece indica que el 73.5% de los clientes permanecieron activos (0) y el `26.5% cancelaron (1).`\n",
    "Esto muestra que `hay un desbalance de clases`: la mayoría de los clientes no cancelan, mientras que una menor proporción sí lo hace.\n",
    "\n",
    "¿Qué significa esto?\n",
    "\n",
    "Tus modelos predictivos pueden verse afectados, ya que podrían tender a predecir la clase mayoritaria (no cancelan).\n",
    "Es recomendable considerar técnicas para tratar el desbalance, como:\n",
    "Ajustar pesos en los modelos.\n",
    "Usar sobremuestreo (SMOTE) o submuestreo."
   ]
  },
  {
   "cell_type": "markdown",
   "id": "7dee7ce7",
   "metadata": {},
   "source": [
    "# Seleccion de variables de entrenamiento"
   ]
  },
  {
   "cell_type": "code",
   "execution_count": 21,
   "id": "dafa8e8d",
   "metadata": {},
   "outputs": [],
   "source": [
    "# Elimina la columna 'Churn' del nuevo DataFrame (X) para obtener las variables predictoras o explicativas\n",
    "X = datos_codificados2.drop('Churn', axis=1)\n",
    "\n",
    "# Selecciona la columna 'Churn' como variable objetivo\n",
    "y = datos_codificados2.Churn"
   ]
  },
  {
   "cell_type": "markdown",
   "id": "e3ead3c4",
   "metadata": {},
   "source": [
    "Listo el **dataFrame X** y la **serie y** para aplicar tecnicas de balanceo (oversampling en este caso)<br>\n",
    "ver Carpeta `.../helpers/notas_adicionales`"
   ]
  },
  {
   "cell_type": "markdown",
   "id": "ced2ccec",
   "metadata": {},
   "source": [
    "# Split en entrenamiento y validacion/prueba\n",
    "El conjunto de **entrenamiento** se utiliza para ajustar el modelo, mientras que el conjunto de **prueba** se usa para evaluar su desempeño al predecir precios de viviendas no vistos durante el entrenamiento, lo que ayuda a la generalización del modelo."
   ]
  },
  {
   "cell_type": "markdown",
   "id": "be704697",
   "metadata": {},
   "source": [
    "ver Carpeta `.../helpers/notas_adicionales`"
   ]
  },
  {
   "cell_type": "code",
   "execution_count": 22,
   "id": "5c67e77a",
   "metadata": {},
   "outputs": [],
   "source": [
    "# import train_test_split\n",
    "from sklearn.model_selection import train_test_split"
   ]
  },
  {
   "cell_type": "code",
   "execution_count": 23,
   "id": "7b25b11c",
   "metadata": {},
   "outputs": [],
   "source": [
    "# Divide los datos en conjuntos de entrenamiento (70%) y prueba (30%) de forma reproducible\n",
    "X_train, X_test, y_train, y_test = train_test_split(X, y, test_size=0.3, random_state=230) # Garantizar la reproductividad de la segregacion de los datos"
   ]
  },
  {
   "cell_type": "markdown",
   "id": "efa0428e",
   "metadata": {},
   "source": [
    "# Balanceo: Aplicacion en Set de entrenamiento"
   ]
  },
  {
   "cell_type": "code",
   "execution_count": 24,
   "id": "d085533b",
   "metadata": {},
   "outputs": [],
   "source": [
    "# Se importa la clase SMOTE desde la librería imblearn.over_sampling.\n",
    "from imblearn.over_sampling import SMOTE"
   ]
  },
  {
   "cell_type": "code",
   "execution_count": 25,
   "id": "fc631cd7",
   "metadata": {},
   "outputs": [],
   "source": [
    "# Crea una instancia de SMOTE para aplicar oversampling a la clase minoritaria\n",
    "oversampling = SMOTE()\n",
    "\n",
    "# Aplica SMOTE para balancear las clases en X (variables predictoras) e y (variable objetivo)\n",
    "# x_balanceada y y_balanceada contienen los datos balanceados listos para el modelado\n",
    "x_balanceada, y_balanceada = oversampling.fit_resample(X_train,y_train)"
   ]
  },
  {
   "cell_type": "markdown",
   "id": "fa59ef9d",
   "metadata": {},
   "source": [
    "proporción de cada clase (abandono / no abandono) en el vector `y_balanceada` después de aplicar SMOTE."
   ]
  },
  {
   "cell_type": "code",
   "execution_count": 26,
   "id": "1123e55e",
   "metadata": {},
   "outputs": [
    {
     "data": {
      "application/vnd.microsoft.datawrangler.viewer.v0+json": {
       "columns": [
        {
         "name": "Churn",
         "rawType": "int64",
         "type": "integer"
        },
        {
         "name": "proportion",
         "rawType": "float64",
         "type": "float"
        }
       ],
       "ref": "ca890414-5b65-4d0c-b233-cd84c751e399",
       "rows": [
        [
         "1",
         "0.5"
        ],
        [
         "0",
         "0.5"
        ]
       ],
       "shape": {
        "columns": 1,
        "rows": 2
       }
      },
      "text/plain": [
       "Churn\n",
       "1    0.5\n",
       "0    0.5\n",
       "Name: proportion, dtype: float64"
      ]
     },
     "execution_count": 26,
     "metadata": {},
     "output_type": "execute_result"
    }
   ],
   "source": [
    "# Como se usó oversampling, el resultado será que ambas clases churn = 0 (no abandono) y churn = 1(abandono) tienen la misma proporción (aproximadamente 0.5 cada una).\n",
    "# Esto confirma que los datos ahora están balanceados y listos para entrenar un modelo sin sesgo hacia la clase mayoritaria.\n",
    "y_balanceada.value_counts(normalize=True)"
   ]
  },
  {
   "cell_type": "markdown",
   "id": "14146723",
   "metadata": {},
   "source": [
    "## Verificacion VIF<br>\n",
    "Cuando dos o más cosas que estás intentando estudiar son tan parecidas que es difícil determinar cuánto está influyendo cada una de ellas en el resultado."
   ]
  },
  {
   "cell_type": "code",
   "execution_count": 27,
   "id": "8fb43669",
   "metadata": {},
   "outputs": [
    {
     "data": {
      "text/plain": [
       "['gender',\n",
       " 'SeniorCitizen',\n",
       " 'Partner',\n",
       " 'Dependents',\n",
       " 'tenure',\n",
       " 'PhoneService',\n",
       " 'MultipleLines',\n",
       " 'OnlineSecurity',\n",
       " 'OnlineBackup',\n",
       " 'DeviceProtection',\n",
       " 'TechSupport',\n",
       " 'StreamingTV',\n",
       " 'StreamingMovies',\n",
       " 'PaperlessBilling',\n",
       " 'Charges.Monthly',\n",
       " 'Charges.Total',\n",
       " 'InternetService_DSL',\n",
       " 'InternetService_Fiber optic',\n",
       " 'InternetService_No',\n",
       " 'Contract_Month-to-month',\n",
       " 'Contract_One year',\n",
       " 'Contract_Two year',\n",
       " 'PaymentMethod_Bank transfer (automatic)',\n",
       " 'PaymentMethod_Credit card (automatic)',\n",
       " 'PaymentMethod_Electronic check',\n",
       " 'PaymentMethod_Mailed check']"
      ]
     },
     "execution_count": 27,
     "metadata": {},
     "output_type": "execute_result"
    }
   ],
   "source": [
    "# Se está creando una lista llamada `explicativas` que contiene los nombres de todas las columnas del DataFrame datos_codificados2, \n",
    "# excepto la columna Churn.\n",
    "#Esto te da la lista de variables explicativas (predictoras) que puedes usar en tu modelo, \n",
    "# excluyendo la variable objetivo (Churn).\n",
    "explicativas = list(datos_codificados2.drop(columns='Churn', axis=1).columns)\n",
    "explicativas"
   ]
  },
  {
   "cell_type": "code",
   "execution_count": 28,
   "id": "65580c7a",
   "metadata": {},
   "outputs": [],
   "source": [
    "# importar el VIF de statsmodel\n",
    "from statsmodels.stats.outliers_influence import variance_inflation_factor as vif"
   ]
  },
  {
   "cell_type": "code",
   "execution_count": 29,
   "id": "01ba4f81",
   "metadata": {},
   "outputs": [
    {
     "data": {
      "application/vnd.microsoft.datawrangler.viewer.v0+json": {
       "columns": [
        {
         "name": "index",
         "rawType": "int64",
         "type": "integer"
        },
        {
         "name": "variables",
         "rawType": "object",
         "type": "string"
        },
        {
         "name": "vif",
         "rawType": "float64",
         "type": "float"
        }
       ],
       "ref": "a2ac5f1a-952e-4f17-b241-fbbac16e0748",
       "rows": [
        [
         "0",
         "gender",
         "1.0047258292015773"
        ],
        [
         "1",
         "SeniorCitizen",
         "1.1710438413281203"
        ],
        [
         "2",
         "Partner",
         "1.4728931298835033"
        ],
        [
         "3",
         "Dependents",
         "1.390518322318093"
        ],
        [
         "4",
         "tenure",
         "7.590912803288651"
        ],
        [
         "5",
         "PhoneService",
         "33.70380257847722"
        ],
        [
         "6",
         "MultipleLines",
         "7.270863600392616"
        ],
        [
         "7",
         "OnlineSecurity",
         "6.373819626255092"
        ],
        [
         "8",
         "OnlineBackup",
         "6.851450307720655"
        ],
        [
         "9",
         "DeviceProtection",
         "6.844827108789139"
        ],
        [
         "10",
         "TechSupport",
         "6.486632533825314"
        ],
        [
         "11",
         "StreamingTV",
         "23.75225118144355"
        ],
        [
         "12",
         "StreamingMovies",
         "23.95032586649376"
        ],
        [
         "13",
         "PaperlessBilling",
         "1.2146641602985897"
        ],
        [
         "14",
         "Charges.Monthly",
         "855.7705348187733"
        ],
        [
         "15",
         "Charges.Total",
         "10.930106695457035"
        ],
        [
         "16",
         "InternetService_DSL",
         "inf"
        ],
        [
         "17",
         "InternetService_Fiber optic",
         "inf"
        ],
        [
         "18",
         "InternetService_No",
         "inf"
        ],
        [
         "19",
         "Contract_Month-to-month",
         "inf"
        ],
        [
         "20",
         "Contract_One year",
         "inf"
        ],
        [
         "21",
         "Contract_Two year",
         "inf"
        ],
        [
         "22",
         "PaymentMethod_Bank transfer (automatic)",
         "inf"
        ],
        [
         "23",
         "PaymentMethod_Credit card (automatic)",
         "inf"
        ],
        [
         "24",
         "PaymentMethod_Electronic check",
         "inf"
        ],
        [
         "25",
         "PaymentMethod_Mailed check",
         "inf"
        ]
       ],
       "shape": {
        "columns": 2,
        "rows": 26
       }
      },
      "text/html": [
       "<div>\n",
       "<style scoped>\n",
       "    .dataframe tbody tr th:only-of-type {\n",
       "        vertical-align: middle;\n",
       "    }\n",
       "\n",
       "    .dataframe tbody tr th {\n",
       "        vertical-align: top;\n",
       "    }\n",
       "\n",
       "    .dataframe thead th {\n",
       "        text-align: right;\n",
       "    }\n",
       "</style>\n",
       "<table border=\"1\" class=\"dataframe\">\n",
       "  <thead>\n",
       "    <tr style=\"text-align: right;\">\n",
       "      <th></th>\n",
       "      <th>variables</th>\n",
       "      <th>vif</th>\n",
       "    </tr>\n",
       "  </thead>\n",
       "  <tbody>\n",
       "    <tr>\n",
       "      <th>0</th>\n",
       "      <td>gender</td>\n",
       "      <td>1.004726</td>\n",
       "    </tr>\n",
       "    <tr>\n",
       "      <th>1</th>\n",
       "      <td>SeniorCitizen</td>\n",
       "      <td>1.171044</td>\n",
       "    </tr>\n",
       "    <tr>\n",
       "      <th>2</th>\n",
       "      <td>Partner</td>\n",
       "      <td>1.472893</td>\n",
       "    </tr>\n",
       "    <tr>\n",
       "      <th>3</th>\n",
       "      <td>Dependents</td>\n",
       "      <td>1.390518</td>\n",
       "    </tr>\n",
       "    <tr>\n",
       "      <th>4</th>\n",
       "      <td>tenure</td>\n",
       "      <td>7.590913</td>\n",
       "    </tr>\n",
       "    <tr>\n",
       "      <th>5</th>\n",
       "      <td>PhoneService</td>\n",
       "      <td>33.703803</td>\n",
       "    </tr>\n",
       "    <tr>\n",
       "      <th>6</th>\n",
       "      <td>MultipleLines</td>\n",
       "      <td>7.270864</td>\n",
       "    </tr>\n",
       "    <tr>\n",
       "      <th>7</th>\n",
       "      <td>OnlineSecurity</td>\n",
       "      <td>6.373820</td>\n",
       "    </tr>\n",
       "    <tr>\n",
       "      <th>8</th>\n",
       "      <td>OnlineBackup</td>\n",
       "      <td>6.851450</td>\n",
       "    </tr>\n",
       "    <tr>\n",
       "      <th>9</th>\n",
       "      <td>DeviceProtection</td>\n",
       "      <td>6.844827</td>\n",
       "    </tr>\n",
       "    <tr>\n",
       "      <th>10</th>\n",
       "      <td>TechSupport</td>\n",
       "      <td>6.486633</td>\n",
       "    </tr>\n",
       "    <tr>\n",
       "      <th>11</th>\n",
       "      <td>StreamingTV</td>\n",
       "      <td>23.752251</td>\n",
       "    </tr>\n",
       "    <tr>\n",
       "      <th>12</th>\n",
       "      <td>StreamingMovies</td>\n",
       "      <td>23.950326</td>\n",
       "    </tr>\n",
       "    <tr>\n",
       "      <th>13</th>\n",
       "      <td>PaperlessBilling</td>\n",
       "      <td>1.214664</td>\n",
       "    </tr>\n",
       "    <tr>\n",
       "      <th>14</th>\n",
       "      <td>Charges.Monthly</td>\n",
       "      <td>855.770535</td>\n",
       "    </tr>\n",
       "    <tr>\n",
       "      <th>15</th>\n",
       "      <td>Charges.Total</td>\n",
       "      <td>10.930107</td>\n",
       "    </tr>\n",
       "    <tr>\n",
       "      <th>16</th>\n",
       "      <td>InternetService_DSL</td>\n",
       "      <td>inf</td>\n",
       "    </tr>\n",
       "    <tr>\n",
       "      <th>17</th>\n",
       "      <td>InternetService_Fiber optic</td>\n",
       "      <td>inf</td>\n",
       "    </tr>\n",
       "    <tr>\n",
       "      <th>18</th>\n",
       "      <td>InternetService_No</td>\n",
       "      <td>inf</td>\n",
       "    </tr>\n",
       "    <tr>\n",
       "      <th>19</th>\n",
       "      <td>Contract_Month-to-month</td>\n",
       "      <td>inf</td>\n",
       "    </tr>\n",
       "    <tr>\n",
       "      <th>20</th>\n",
       "      <td>Contract_One year</td>\n",
       "      <td>inf</td>\n",
       "    </tr>\n",
       "    <tr>\n",
       "      <th>21</th>\n",
       "      <td>Contract_Two year</td>\n",
       "      <td>inf</td>\n",
       "    </tr>\n",
       "    <tr>\n",
       "      <th>22</th>\n",
       "      <td>PaymentMethod_Bank transfer (automatic)</td>\n",
       "      <td>inf</td>\n",
       "    </tr>\n",
       "    <tr>\n",
       "      <th>23</th>\n",
       "      <td>PaymentMethod_Credit card (automatic)</td>\n",
       "      <td>inf</td>\n",
       "    </tr>\n",
       "    <tr>\n",
       "      <th>24</th>\n",
       "      <td>PaymentMethod_Electronic check</td>\n",
       "      <td>inf</td>\n",
       "    </tr>\n",
       "    <tr>\n",
       "      <th>25</th>\n",
       "      <td>PaymentMethod_Mailed check</td>\n",
       "      <td>inf</td>\n",
       "    </tr>\n",
       "  </tbody>\n",
       "</table>\n",
       "</div>"
      ],
      "text/plain": [
       "                                  variables         vif\n",
       "0                                    gender    1.004726\n",
       "1                             SeniorCitizen    1.171044\n",
       "2                                   Partner    1.472893\n",
       "3                                Dependents    1.390518\n",
       "4                                    tenure    7.590913\n",
       "5                              PhoneService   33.703803\n",
       "6                             MultipleLines    7.270864\n",
       "7                            OnlineSecurity    6.373820\n",
       "8                              OnlineBackup    6.851450\n",
       "9                          DeviceProtection    6.844827\n",
       "10                              TechSupport    6.486633\n",
       "11                              StreamingTV   23.752251\n",
       "12                          StreamingMovies   23.950326\n",
       "13                         PaperlessBilling    1.214664\n",
       "14                          Charges.Monthly  855.770535\n",
       "15                            Charges.Total   10.930107\n",
       "16                      InternetService_DSL         inf\n",
       "17              InternetService_Fiber optic         inf\n",
       "18                       InternetService_No         inf\n",
       "19                  Contract_Month-to-month         inf\n",
       "20                        Contract_One year         inf\n",
       "21                        Contract_Two year         inf\n",
       "22  PaymentMethod_Bank transfer (automatic)         inf\n",
       "23    PaymentMethod_Credit card (automatic)         inf\n",
       "24           PaymentMethod_Electronic check         inf\n",
       "25               PaymentMethod_Mailed check         inf"
      ]
     },
     "execution_count": 29,
     "metadata": {},
     "output_type": "execute_result"
    }
   ],
   "source": [
    "# VIF 1\n",
    "vif_1 = pd.DataFrame()\n",
    "vif_1['variables'] = explicativas\n",
    "\n",
    "vif_1['vif'] = [vif(X_train[explicativas],i) for i in range(len (explicativas))]\n",
    "vif_1"
   ]
  },
  {
   "cell_type": "markdown",
   "id": "91ae3733",
   "metadata": {},
   "source": [
    "Valores aceptables, Solo la variable `tenure` tiene un VIF algo elevado (7.59), lo que indica cierta colinealidad moderada, pero no es extremo."
   ]
  },
  {
   "cell_type": "markdown",
   "id": "7f323ad1",
   "metadata": {},
   "source": [
    "# Analisis dirigido"
   ]
  },
  {
   "cell_type": "markdown",
   "id": "b3693da6",
   "metadata": {},
   "source": [
    "Relación de variables como el tiempo de contrato y el gasto total con la cancelación, utilizando gráficos como boxplots o scatter plots para identificar patrones y tendencias"
   ]
  },
  {
   "cell_type": "code",
   "execution_count": 70,
   "id": "c98094e4",
   "metadata": {},
   "outputs": [
    {
     "data": {
      "image/png": "[encoded data removed]",
      "text/plain": [
       "<Figure size 600x400 with 1 Axes>"
      ]
     },
     "metadata": {},
     "output_type": "display_data"
    },
    {
     "data": {
      "image/png": "[encoded data removed]",
      "text/plain": [
       "<Figure size 600x400 with 1 Axes>"
      ]
     },
     "metadata": {},
     "output_type": "display_data"
    }
   ],
   "source": [
    "import matplotlib.patches as mpatches\n",
    "\n",
    "# Boxplot: tenure vs Churn\n",
    "plt.figure(figsize=(6,4))\n",
    "sns.boxplot(x='Churn', y='tenure', data=df, palette=['white', \"#678fd4\"], medianprops=dict(linewidth=2))\n",
    "plt.title('Distribución de tenure según Churn')\n",
    "\n",
    "# Leyenda fuera de la gráfica (a la derecha)\n",
    "legend_handles = [\n",
    "    mpatches.Patch(facecolor='white', edgecolor='black', label='No abandona (Churn=0)'),\n",
    "    mpatches.Patch(facecolor='#678fd4', edgecolor='black', label='Abandona (Churn=1)')\n",
    "]\n",
    "plt.legend(handles=legend_handles, bbox_to_anchor=(1.05, 1), loc='upper left', borderaxespad=0.)\n",
    "plt.tight_layout()\n",
    "plt.show()\n",
    "\n",
    "# Boxplot: Charges.Total vs Churn\n",
    "plt.figure(figsize=(6,4))\n",
    "sns.boxplot(x='Churn', y='Charges.Total', data=df, palette=['white', \"#678fd4\"], medianprops=dict(linewidth=2))\n",
    "plt.title('Distribución de Charges.Total según Churn')\n",
    "\n",
    "plt.legend(handles=legend_handles, bbox_to_anchor=(1.05, 1), loc='upper left', borderaxespad=0.)\n",
    "plt.tight_layout()\n",
    "plt.show()\n"
   ]
  },
  {
   "cell_type": "code",
   "execution_count": 71,
   "id": "40230266",
   "metadata": {},
   "outputs": [
    {
     "data": {
      "image/png": "[encoded data removed]",
      "text/plain": [
       "<Figure size 700x500 with 1 Axes>"
      ]
     },
     "metadata": {},
     "output_type": "display_data"
    }
   ],
   "source": [
    "# Scatter plot: tenure vs Charges.Total, coloreado por Churn (colores invertidos)\n",
    "plt.figure(figsize=(7,5))\n",
    "scatter = sns.scatterplot(\n",
    "    x='tenure',\n",
    "    y='Charges.Total',\n",
    "    hue='Churn',\n",
    "    data=df,\n",
    "    alpha=0.5,\n",
    "    palette={0: \"#fdae6b\", 1: \"#678fd4\"}  # Cambia los colores aquí (0: naranja, 1: azul)\n",
    ")\n",
    "\n",
    "plt.title('tenure vs Charges.Total según Churn')\n",
    "\n",
    "# Leyenda con los mismos colores y etiquetas\n",
    "handles, labels = scatter.get_legend_handles_labels()\n",
    "custom_labels = ['No abandona (0)', 'Abandona (1)']\n",
    "plt.legend(handles=handles, labels=custom_labels,\n",
    "           bbox_to_anchor=(1.05, 1), loc='upper left', borderaxespad=0., title='Churn')\n",
    "plt.tight_layout()\n",
    "plt.show()"
   ]
  },
  {
   "cell_type": "markdown",
   "id": "3d7d7f33",
   "metadata": {},
   "source": [
    "**Graficas:**<br>\n",
    "**Boxplot tenure vs Churn**\n",
    "- Los clientes que no cancelan (Churn=0) tienen un tenure (tiempo de permanencia) mucho mayor en promedio.\n",
    "- Los que cancelan (Churn=1) suelen tener un tenure bajo; es decir, la mayoría de los que se van son clientes recientes.\n",
    "\n",
    "**Boxplot Charges.Total vs Churn**\n",
    "- Los clientes que no cancelan acumulan un gasto total mucho mayor.\n",
    "- Los que cancelan tienen un gasto total bajo, lo que es coherente con su menor tiempo como clientes.\n",
    "\n",
    "**Scatter plot tenure vs Charges.Total según Churn**\n",
    "- Existe una relación lineal clara entre tenure y gasto total (más tiempo, más gasto).\n",
    "- Los puntos naranjas (Churn=1) se concentran en la parte baja de tenure y gasto total, mostrando que la mayoría de los que cancelan son clientes nuevos o con poco gasto acumulado.\n",
    "\n",
    "**Conclusión:**<br>\n",
    "Los clientes que permanecen más tiempo y gastan más son menos propensos a cancelar. La cancelación es más frecuente en clientes recientes y de bajo gasto.\n",
    "\n",
    "Estas variables `Charges.Total` ^ `ternure` son **buenos predictores** para el modelo de churn."
   ]
  },
  {
   "cell_type": "markdown",
   "id": "c6b2ecb4",
   "metadata": {},
   "source": [
    "# Entrenamiento de modelos"
   ]
  },
  {
   "cell_type": "code",
   "execution_count": 31,
   "id": "07d08924",
   "metadata": {},
   "outputs": [],
   "source": [
    "# Importa el clasificador de árbol de decisión de scikit-learn\n",
    "from sklearn.tree import DecisionTreeClassifier"
   ]
  },
  {
   "cell_type": "markdown",
   "id": "d740b913",
   "metadata": {},
   "source": [
    "Se crea y entrena un `árbol de decisión` con los datos de **entrenamiento** y luego muestra la precisión (exactitud) del modelo tanto en el conjunto de **entrenamiento** como en el de **validación**. Esto permite comparar el desempeño del modelo en ambos conjuntos y detectar posibles problemas de sobreajuste."
   ]
  },
  {
   "cell_type": "markdown",
   "id": "4ebaa21a",
   "metadata": {},
   "source": [
    "Ajustando la profundidad `max_depth=10`<br>\n",
    "osea, controla la complejidad del árbol y mejora la capacidad de generalización del modelo."
   ]
  },
  {
   "cell_type": "markdown",
   "id": "32eff24b",
   "metadata": {},
   "source": [
    "### Modelo 1: Arbol de decision"
   ]
  },
  {
   "cell_type": "code",
   "execution_count": 32,
   "id": "8997e225",
   "metadata": {},
   "outputs": [
    {
     "data": {
      "text/html": [
       "<style>#sk-container-id-1 {\n",
       "  /* Definition of color scheme common for light and dark mode */\n",
       "  --sklearn-color-text: #000;\n",
       "  --sklearn-color-text-muted: #666;\n",
       "  --sklearn-color-line: gray;\n",
       "  /* Definition of color scheme for unfitted estimators */\n",
       "  --sklearn-color-unfitted-level-0: #fff5e6;\n",
       "  --sklearn-color-unfitted-level-1: #f6e4d2;\n",
       "  --sklearn-color-unfitted-level-2: #ffe0b3;\n",
       "  --sklearn-color-unfitted-level-3: chocolate;\n",
       "  /* Definition of color scheme for fitted estimators */\n",
       "  --sklearn-color-fitted-level-0: #f0f8ff;\n",
       "  --sklearn-color-fitted-level-1: #d4ebff;\n",
       "  --sklearn-color-fitted-level-2: #b3dbfd;\n",
       "  --sklearn-color-fitted-level-3: cornflowerblue;\n",
       "\n",
       "  /* Specific color for light theme */\n",
       "  --sklearn-color-text-on-default-background: var(--sg-text-color, var(--theme-code-foreground, var(--jp-content-font-color1, black)));\n",
       "  --sklearn-color-background: var(--sg-background-color, var(--theme-background, var(--jp-layout-color0, white)));\n",
       "  --sklearn-color-border-box: var(--sg-text-color, var(--theme-code-foreground, var(--jp-content-font-color1, black)));\n",
       "  --sklearn-color-icon: #696969;\n",
       "\n",
       "  @media (prefers-color-scheme: dark) {\n",
       "    /* Redefinition of color scheme for dark theme */\n",
       "    --sklearn-color-text-on-default-background: var(--sg-text-color, var(--theme-code-foreground, var(--jp-content-font-color1, white)));\n",
       "    --sklearn-color-background: var(--sg-background-color, var(--theme-background, var(--jp-layout-color0, #111)));\n",
       "    --sklearn-color-border-box: var(--sg-text-color, var(--theme-code-foreground, var(--jp-content-font-color1, white)));\n",
       "    --sklearn-color-icon: #878787;\n",
       "  }\n",
       "}\n",
       "\n",
       "#sk-container-id-1 {\n",
       "  color: var(--sklearn-color-text);\n",
       "}\n",
       "\n",
       "#sk-container-id-1 pre {\n",
       "  padding: 0;\n",
       "}\n",
       "\n",
       "#sk-container-id-1 input.sk-hidden--visually {\n",
       "  border: 0;\n",
       "  clip: rect(1px 1px 1px 1px);\n",
       "  clip: rect(1px, 1px, 1px, 1px);\n",
       "  height: 1px;\n",
       "  margin: -1px;\n",
       "  overflow: hidden;\n",
       "  padding: 0;\n",
       "  position: absolute;\n",
       "  width: 1px;\n",
       "}\n",
       "\n",
       "#sk-container-id-1 div.sk-dashed-wrapped {\n",
       "  border: 1px dashed var(--sklearn-color-line);\n",
       "  margin: 0 0.4em 0.5em 0.4em;\n",
       "  box-sizing: border-box;\n",
       "  padding-bottom: 0.4em;\n",
       "  background-color: var(--sklearn-color-background);\n",
       "}\n",
       "\n",
       "#sk-container-id-1 div.sk-container {\n",
       "  /* jupyter's `normalize.less` sets `[hidden] { display: none; }`\n",
       "     but bootstrap.min.css set `[hidden] { display: none !important; }`\n",
       "     so we also need the `!important` here to be able to override the\n",
       "     default hidden behavior on the sphinx rendered scikit-learn.org.\n",
       "     See: https://github.com/scikit-learn/scikit-learn/issues/21755 */\n",
       "  display: inline-block !important;\n",
       "  position: relative;\n",
       "}\n",
       "\n",
       "#sk-container-id-1 div.sk-text-repr-fallback {\n",
       "  display: none;\n",
       "}\n",
       "\n",
       "div.sk-parallel-item,\n",
       "div.sk-serial,\n",
       "div.sk-item {\n",
       "  /* draw centered vertical line to link estimators */\n",
       "  background-image: linear-gradient(var(--sklearn-color-text-on-default-background), var(--sklearn-color-text-on-default-background));\n",
       "  background-size: 2px 100%;\n",
       "  background-repeat: no-repeat;\n",
       "  background-position: center center;\n",
       "}\n",
       "\n",
       "/* Parallel-specific style estimator block */\n",
       "\n",
       "#sk-container-id-1 div.sk-parallel-item::after {\n",
       "  content: \"\";\n",
       "  width: 100%;\n",
       "  border-bottom: 2px solid var(--sklearn-color-text-on-default-background);\n",
       "  flex-grow: 1;\n",
       "}\n",
       "\n",
       "#sk-container-id-1 div.sk-parallel {\n",
       "  display: flex;\n",
       "  align-items: stretch;\n",
       "  justify-content: center;\n",
       "  background-color: var(--sklearn-color-background);\n",
       "  position: relative;\n",
       "}\n",
       "\n",
       "#sk-container-id-1 div.sk-parallel-item {\n",
       "  display: flex;\n",
       "  flex-direction: column;\n",
       "}\n",
       "\n",
       "#sk-container-id-1 div.sk-parallel-item:first-child::after {\n",
       "  align-self: flex-end;\n",
       "  width: 50%;\n",
       "}\n",
       "\n",
       "#sk-container-id-1 div.sk-parallel-item:last-child::after {\n",
       "  align-self: flex-start;\n",
       "  width: 50%;\n",
       "}\n",
       "\n",
       "#sk-container-id-1 div.sk-parallel-item:only-child::after {\n",
       "  width: 0;\n",
       "}\n",
       "\n",
       "/* Serial-specific style estimator block */\n",
       "\n",
       "#sk-container-id-1 div.sk-serial {\n",
       "  display: flex;\n",
       "  flex-direction: column;\n",
       "  align-items: center;\n",
       "  background-color: var(--sklearn-color-background);\n",
       "  padding-right: 1em;\n",
       "  padding-left: 1em;\n",
       "}\n",
       "\n",
       "\n",
       "/* Toggleable style: style used for estimator/Pipeline/ColumnTransformer box that is\n",
       "clickable and can be expanded/collapsed.\n",
       "- Pipeline and ColumnTransformer use this feature and define the default style\n",
       "- Estimators will overwrite some part of the style using the `sk-estimator` class\n",
       "*/\n",
       "\n",
       "/* Pipeline and ColumnTransformer style (default) */\n",
       "\n",
       "#sk-container-id-1 div.sk-toggleable {\n",
       "  /* Default theme specific background. It is overwritten whether we have a\n",
       "  specific estimator or a Pipeline/ColumnTransformer */\n",
       "  background-color: var(--sklearn-color-background);\n",
       "}\n",
       "\n",
       "/* Toggleable label */\n",
       "#sk-container-id-1 label.sk-toggleable__label {\n",
       "  cursor: pointer;\n",
       "  display: flex;\n",
       "  width: 100%;\n",
       "  margin-bottom: 0;\n",
       "  padding: 0.5em;\n",
       "  box-sizing: border-box;\n",
       "  text-align: center;\n",
       "  align-items: start;\n",
       "  justify-content: space-between;\n",
       "  gap: 0.5em;\n",
       "}\n",
       "\n",
       "#sk-container-id-1 label.sk-toggleable__label .caption {\n",
       "  font-size: 0.6rem;\n",
       "  font-weight: lighter;\n",
       "  color: var(--sklearn-color-text-muted);\n",
       "}\n",
       "\n",
       "#sk-container-id-1 label.sk-toggleable__label-arrow:before {\n",
       "  /* Arrow on the left of the label */\n",
       "  content: \"▸\";\n",
       "  float: left;\n",
       "  margin-right: 0.25em;\n",
       "  color: var(--sklearn-color-icon);\n",
       "}\n",
       "\n",
       "#sk-container-id-1 label.sk-toggleable__label-arrow:hover:before {\n",
       "  color: var(--sklearn-color-text);\n",
       "}\n",
       "\n",
       "/* Toggleable content - dropdown */\n",
       "\n",
       "#sk-container-id-1 div.sk-toggleable__content {\n",
       "  display: none;\n",
       "  text-align: left;\n",
       "  /* unfitted */\n",
       "  background-color: var(--sklearn-color-unfitted-level-0);\n",
       "}\n",
       "\n",
       "#sk-container-id-1 div.sk-toggleable__content.fitted {\n",
       "  /* fitted */\n",
       "  background-color: var(--sklearn-color-fitted-level-0);\n",
       "}\n",
       "\n",
       "#sk-container-id-1 div.sk-toggleable__content pre {\n",
       "  margin: 0.2em;\n",
       "  border-radius: 0.25em;\n",
       "  color: var(--sklearn-color-text);\n",
       "  /* unfitted */\n",
       "  background-color: var(--sklearn-color-unfitted-level-0);\n",
       "}\n",
       "\n",
       "#sk-container-id-1 div.sk-toggleable__content.fitted pre {\n",
       "  /* unfitted */\n",
       "  background-color: var(--sklearn-color-fitted-level-0);\n",
       "}\n",
       "\n",
       "#sk-container-id-1 input.sk-toggleable__control:checked~div.sk-toggleable__content {\n",
       "  /* Expand drop-down */\n",
       "  display: block;\n",
       "  width: 100%;\n",
       "  overflow: visible;\n",
       "}\n",
       "\n",
       "#sk-container-id-1 input.sk-toggleable__control:checked~label.sk-toggleable__label-arrow:before {\n",
       "  content: \"▾\";\n",
       "}\n",
       "\n",
       "/* Pipeline/ColumnTransformer-specific style */\n",
       "\n",
       "#sk-container-id-1 div.sk-label input.sk-toggleable__control:checked~label.sk-toggleable__label {\n",
       "  color: var(--sklearn-color-text);\n",
       "  background-color: var(--sklearn-color-unfitted-level-2);\n",
       "}\n",
       "\n",
       "#sk-container-id-1 div.sk-label.fitted input.sk-toggleable__control:checked~label.sk-toggleable__label {\n",
       "  background-color: var(--sklearn-color-fitted-level-2);\n",
       "}\n",
       "\n",
       "/* Estimator-specific style */\n",
       "\n",
       "/* Colorize estimator box */\n",
       "#sk-container-id-1 div.sk-estimator input.sk-toggleable__control:checked~label.sk-toggleable__label {\n",
       "  /* unfitted */\n",
       "  background-color: var(--sklearn-color-unfitted-level-2);\n",
       "}\n",
       "\n",
       "#sk-container-id-1 div.sk-estimator.fitted input.sk-toggleable__control:checked~label.sk-toggleable__label {\n",
       "  /* fitted */\n",
       "  background-color: var(--sklearn-color-fitted-level-2);\n",
       "}\n",
       "\n",
       "#sk-container-id-1 div.sk-label label.sk-toggleable__label,\n",
       "#sk-container-id-1 div.sk-label label {\n",
       "  /* The background is the default theme color */\n",
       "  color: var(--sklearn-color-text-on-default-background);\n",
       "}\n",
       "\n",
       "/* On hover, darken the color of the background */\n",
       "#sk-container-id-1 div.sk-label:hover label.sk-toggleable__label {\n",
       "  color: var(--sklearn-color-text);\n",
       "  background-color: var(--sklearn-color-unfitted-level-2);\n",
       "}\n",
       "\n",
       "/* Label box, darken color on hover, fitted */\n",
       "#sk-container-id-1 div.sk-label.fitted:hover label.sk-toggleable__label.fitted {\n",
       "  color: var(--sklearn-color-text);\n",
       "  background-color: var(--sklearn-color-fitted-level-2);\n",
       "}\n",
       "\n",
       "/* Estimator label */\n",
       "\n",
       "#sk-container-id-1 div.sk-label label {\n",
       "  font-family: monospace;\n",
       "  font-weight: bold;\n",
       "  display: inline-block;\n",
       "  line-height: 1.2em;\n",
       "}\n",
       "\n",
       "#sk-container-id-1 div.sk-label-container {\n",
       "  text-align: center;\n",
       "}\n",
       "\n",
       "/* Estimator-specific */\n",
       "#sk-container-id-1 div.sk-estimator {\n",
       "  font-family: monospace;\n",
       "  border: 1px dotted var(--sklearn-color-border-box);\n",
       "  border-radius: 0.25em;\n",
       "  box-sizing: border-box;\n",
       "  margin-bottom: 0.5em;\n",
       "  /* unfitted */\n",
       "  background-color: var(--sklearn-color-unfitted-level-0);\n",
       "}\n",
       "\n",
       "#sk-container-id-1 div.sk-estimator.fitted {\n",
       "  /* fitted */\n",
       "  background-color: var(--sklearn-color-fitted-level-0);\n",
       "}\n",
       "\n",
       "/* on hover */\n",
       "#sk-container-id-1 div.sk-estimator:hover {\n",
       "  /* unfitted */\n",
       "  background-color: var(--sklearn-color-unfitted-level-2);\n",
       "}\n",
       "\n",
       "#sk-container-id-1 div.sk-estimator.fitted:hover {\n",
       "  /* fitted */\n",
       "  background-color: var(--sklearn-color-fitted-level-2);\n",
       "}\n",
       "\n",
       "/* Specification for estimator info (e.g. \"i\" and \"?\") */\n",
       "\n",
       "/* Common style for \"i\" and \"?\" */\n",
       "\n",
       ".sk-estimator-doc-link,\n",
       "a:link.sk-estimator-doc-link,\n",
       "a:visited.sk-estimator-doc-link {\n",
       "  float: right;\n",
       "  font-size: smaller;\n",
       "  line-height: 1em;\n",
       "  font-family: monospace;\n",
       "  background-color: var(--sklearn-color-background);\n",
       "  border-radius: 1em;\n",
       "  height: 1em;\n",
       "  width: 1em;\n",
       "  text-decoration: none !important;\n",
       "  margin-left: 0.5em;\n",
       "  text-align: center;\n",
       "  /* unfitted */\n",
       "  border: var(--sklearn-color-unfitted-level-1) 1pt solid;\n",
       "  color: var(--sklearn-color-unfitted-level-1);\n",
       "}\n",
       "\n",
       ".sk-estimator-doc-link.fitted,\n",
       "a:link.sk-estimator-doc-link.fitted,\n",
       "a:visited.sk-estimator-doc-link.fitted {\n",
       "  /* fitted */\n",
       "  border: var(--sklearn-color-fitted-level-1) 1pt solid;\n",
       "  color: var(--sklearn-color-fitted-level-1);\n",
       "}\n",
       "\n",
       "/* On hover */\n",
       "div.sk-estimator:hover .sk-estimator-doc-link:hover,\n",
       ".sk-estimator-doc-link:hover,\n",
       "div.sk-label-container:hover .sk-estimator-doc-link:hover,\n",
       ".sk-estimator-doc-link:hover {\n",
       "  /* unfitted */\n",
       "  background-color: var(--sklearn-color-unfitted-level-3);\n",
       "  color: var(--sklearn-color-background);\n",
       "  text-decoration: none;\n",
       "}\n",
       "\n",
       "div.sk-estimator.fitted:hover .sk-estimator-doc-link.fitted:hover,\n",
       ".sk-estimator-doc-link.fitted:hover,\n",
       "div.sk-label-container:hover .sk-estimator-doc-link.fitted:hover,\n",
       ".sk-estimator-doc-link.fitted:hover {\n",
       "  /* fitted */\n",
       "  background-color: var(--sklearn-color-fitted-level-3);\n",
       "  color: var(--sklearn-color-background);\n",
       "  text-decoration: none;\n",
       "}\n",
       "\n",
       "/* Span, style for the box shown on hovering the info icon */\n",
       ".sk-estimator-doc-link span {\n",
       "  display: none;\n",
       "  z-index: 9999;\n",
       "  position: relative;\n",
       "  font-weight: normal;\n",
       "  right: .2ex;\n",
       "  padding: .5ex;\n",
       "  margin: .5ex;\n",
       "  width: min-content;\n",
       "  min-width: 20ex;\n",
       "  max-width: 50ex;\n",
       "  color: var(--sklearn-color-text);\n",
       "  box-shadow: 2pt 2pt 4pt #999;\n",
       "  /* unfitted */\n",
       "  background: var(--sklearn-color-unfitted-level-0);\n",
       "  border: .5pt solid var(--sklearn-color-unfitted-level-3);\n",
       "}\n",
       "\n",
       ".sk-estimator-doc-link.fitted span {\n",
       "  /* fitted */\n",
       "  background: var(--sklearn-color-fitted-level-0);\n",
       "  border: var(--sklearn-color-fitted-level-3);\n",
       "}\n",
       "\n",
       ".sk-estimator-doc-link:hover span {\n",
       "  display: block;\n",
       "}\n",
       "\n",
       "/* \"?\"-specific style due to the `<a>` HTML tag */\n",
       "\n",
       "#sk-container-id-1 a.estimator_doc_link {\n",
       "  float: right;\n",
       "  font-size: 1rem;\n",
       "  line-height: 1em;\n",
       "  font-family: monospace;\n",
       "  background-color: var(--sklearn-color-background);\n",
       "  border-radius: 1rem;\n",
       "  height: 1rem;\n",
       "  width: 1rem;\n",
       "  text-decoration: none;\n",
       "  /* unfitted */\n",
       "  color: var(--sklearn-color-unfitted-level-1);\n",
       "  border: var(--sklearn-color-unfitted-level-1) 1pt solid;\n",
       "}\n",
       "\n",
       "#sk-container-id-1 a.estimator_doc_link.fitted {\n",
       "  /* fitted */\n",
       "  border: var(--sklearn-color-fitted-level-1) 1pt solid;\n",
       "  color: var(--sklearn-color-fitted-level-1);\n",
       "}\n",
       "\n",
       "/* On hover */\n",
       "#sk-container-id-1 a.estimator_doc_link:hover {\n",
       "  /* unfitted */\n",
       "  background-color: var(--sklearn-color-unfitted-level-3);\n",
       "  color: var(--sklearn-color-background);\n",
       "  text-decoration: none;\n",
       "}\n",
       "\n",
       "#sk-container-id-1 a.estimator_doc_link.fitted:hover {\n",
       "  /* fitted */\n",
       "  background-color: var(--sklearn-color-fitted-level-3);\n",
       "}\n",
       "\n",
       ".estimator-table summary {\n",
       "    padding: .5rem;\n",
       "    font-family: monospace;\n",
       "    cursor: pointer;\n",
       "}\n",
       "\n",
       ".estimator-table details[open] {\n",
       "    padding-left: 0.1rem;\n",
       "    padding-right: 0.1rem;\n",
       "    padding-bottom: 0.3rem;\n",
       "}\n",
       "\n",
       ".estimator-table .parameters-table {\n",
       "    margin-left: auto !important;\n",
       "    margin-right: auto !important;\n",
       "}\n",
       "\n",
       ".estimator-table .parameters-table tr:nth-child(odd) {\n",
       "    background-color: #fff;\n",
       "}\n",
       "\n",
       ".estimator-table .parameters-table tr:nth-child(even) {\n",
       "    background-color: #f6f6f6;\n",
       "}\n",
       "\n",
       ".estimator-table .parameters-table tr:hover {\n",
       "    background-color: #e0e0e0;\n",
       "}\n",
       "\n",
       ".estimator-table table td {\n",
       "    border: 1px solid rgba(106, 105, 104, 0.232);\n",
       "}\n",
       "\n",
       ".user-set td {\n",
       "    color:rgb(255, 94, 0);\n",
       "    text-align: left;\n",
       "}\n",
       "\n",
       ".user-set td.value pre {\n",
       "    color:rgb(255, 94, 0) !important;\n",
       "    background-color: transparent !important;\n",
       "}\n",
       "\n",
       ".default td {\n",
       "    color: black;\n",
       "    text-align: left;\n",
       "}\n",
       "\n",
       ".user-set td i,\n",
       ".default td i {\n",
       "    color: black;\n",
       "}\n",
       "\n",
       ".copy-paste-icon {\n",
       "    background-image: url(data:image/svg+xml;base64,PHN2ZyB4bWxucz0iaHR0cDovL3d3dy53My5vcmcvMjAwMC9zdmciIHZpZXdCb3g9IjAgMCA0NDggNTEyIj48IS0tIUZvbnQgQXdlc29tZSBGcmVlIDYuNy4yIGJ5IEBmb250YXdlc29tZSAtIGh0dHBzOi8vZm9udGF3ZXNvbWUuY29tIExpY2Vuc2UgLSBodHRwczovL2ZvbnRhd2Vzb21lLmNvbS9saWNlbnNlL2ZyZWUgQ29weXJpZ2h0IDIwMjUgRm9udGljb25zLCBJbmMuLS0+PHBhdGggZD0iTTIwOCAwTDMzMi4xIDBjMTIuNyAwIDI0LjkgNS4xIDMzLjkgMTQuMWw2Ny45IDY3LjljOSA5IDE0LjEgMjEuMiAxNC4xIDMzLjlMNDQ4IDMzNmMwIDI2LjUtMjEuNSA0OC00OCA0OGwtMTkyIDBjLTI2LjUgMC00OC0yMS41LTQ4LTQ4bDAtMjg4YzAtMjYuNSAyMS41LTQ4IDQ4LTQ4ek00OCAxMjhsODAgMCAwIDY0LTY0IDAgMCAyNTYgMTkyIDAgMC0zMiA2NCAwIDAgNDhjMCAyNi41LTIxLjUgNDgtNDggNDhMNDggNTEyYy0yNi41IDAtNDgtMjEuNS00OC00OEwwIDE3NmMwLTI2LjUgMjEuNS00OCA0OC00OHoiLz48L3N2Zz4=);\n",
       "    background-repeat: no-repeat;\n",
       "    background-size: 14px 14px;\n",
       "    background-position: 0;\n",
       "    display: inline-block;\n",
       "    width: 14px;\n",
       "    height: 14px;\n",
       "    cursor: pointer;\n",
       "}\n",
       "</style><body><div id=\"sk-container-id-1\" class=\"sk-top-container\"><div class=\"sk-text-repr-fallback\"><pre>DecisionTreeClassifier(max_depth=3, random_state=777)</pre><b>In a Jupyter environment, please rerun this cell to show the HTML representation or trust the notebook. <br />On GitHub, the HTML representation is unable to render, please try loading this page with nbviewer.org.</b></div><div class=\"sk-container\" hidden><div class=\"sk-item\"><div class=\"sk-estimator fitted sk-toggleable\"><input class=\"sk-toggleable__control sk-hidden--visually\" id=\"sk-estimator-id-1\" type=\"checkbox\" checked><label for=\"sk-estimator-id-1\" class=\"sk-toggleable__label fitted sk-toggleable__label-arrow\"><div><div>DecisionTreeClassifier</div></div><div><a class=\"sk-estimator-doc-link fitted\" rel=\"noreferrer\" target=\"_blank\" href=\"https://scikit-learn.org/1.7/modules/generated/sklearn.tree.DecisionTreeClassifier.html\">?<span>Documentation for DecisionTreeClassifier</span></a><span class=\"sk-estimator-doc-link fitted\">i<span>Fitted</span></span></div></label><div class=\"sk-toggleable__content fitted\" data-param-prefix=\"\">\n",
       "        <div class=\"estimator-table\">\n",
       "            <details>\n",
       "                <summary>Parameters</summary>\n",
       "                <table class=\"parameters-table\">\n",
       "                  <tbody>\n",
       "                    \n",
       "        <tr class=\"default\">\n",
       "            <td><i class=\"copy-paste-icon\"\n",
       "                 onclick=\"copyToClipboard('criterion',\n",
       "                          this.parentElement.nextElementSibling)\"\n",
       "            ></i></td>\n",
       "            <td class=\"param\">criterion&nbsp;</td>\n",
       "            <td class=\"value\">&#x27;gini&#x27;</td>\n",
       "        </tr>\n",
       "    \n",
       "\n",
       "        <tr class=\"default\">\n",
       "            <td><i class=\"copy-paste-icon\"\n",
       "                 onclick=\"copyToClipboard('splitter',\n",
       "                          this.parentElement.nextElementSibling)\"\n",
       "            ></i></td>\n",
       "            <td class=\"param\">splitter&nbsp;</td>\n",
       "            <td class=\"value\">&#x27;best&#x27;</td>\n",
       "        </tr>\n",
       "    \n",
       "\n",
       "        <tr class=\"user-set\">\n",
       "            <td><i class=\"copy-paste-icon\"\n",
       "                 onclick=\"copyToClipboard('max_depth',\n",
       "                          this.parentElement.nextElementSibling)\"\n",
       "            ></i></td>\n",
       "            <td class=\"param\">max_depth&nbsp;</td>\n",
       "            <td class=\"value\">3</td>\n",
       "        </tr>\n",
       "    \n",
       "\n",
       "        <tr class=\"default\">\n",
       "            <td><i class=\"copy-paste-icon\"\n",
       "                 onclick=\"copyToClipboard('min_samples_split',\n",
       "                          this.parentElement.nextElementSibling)\"\n",
       "            ></i></td>\n",
       "            <td class=\"param\">min_samples_split&nbsp;</td>\n",
       "            <td class=\"value\">2</td>\n",
       "        </tr>\n",
       "    \n",
       "\n",
       "        <tr class=\"default\">\n",
       "            <td><i class=\"copy-paste-icon\"\n",
       "                 onclick=\"copyToClipboard('min_samples_leaf',\n",
       "                          this.parentElement.nextElementSibling)\"\n",
       "            ></i></td>\n",
       "            <td class=\"param\">min_samples_leaf&nbsp;</td>\n",
       "            <td class=\"value\">1</td>\n",
       "        </tr>\n",
       "    \n",
       "\n",
       "        <tr class=\"default\">\n",
       "            <td><i class=\"copy-paste-icon\"\n",
       "                 onclick=\"copyToClipboard('min_weight_fraction_leaf',\n",
       "                          this.parentElement.nextElementSibling)\"\n",
       "            ></i></td>\n",
       "            <td class=\"param\">min_weight_fraction_leaf&nbsp;</td>\n",
       "            <td class=\"value\">0.0</td>\n",
       "        </tr>\n",
       "    \n",
       "\n",
       "        <tr class=\"default\">\n",
       "            <td><i class=\"copy-paste-icon\"\n",
       "                 onclick=\"copyToClipboard('max_features',\n",
       "                          this.parentElement.nextElementSibling)\"\n",
       "            ></i></td>\n",
       "            <td class=\"param\">max_features&nbsp;</td>\n",
       "            <td class=\"value\">None</td>\n",
       "        </tr>\n",
       "    \n",
       "\n",
       "        <tr class=\"user-set\">\n",
       "            <td><i class=\"copy-paste-icon\"\n",
       "                 onclick=\"copyToClipboard('random_state',\n",
       "                          this.parentElement.nextElementSibling)\"\n",
       "            ></i></td>\n",
       "            <td class=\"param\">random_state&nbsp;</td>\n",
       "            <td class=\"value\">777</td>\n",
       "        </tr>\n",
       "    \n",
       "\n",
       "        <tr class=\"default\">\n",
       "            <td><i class=\"copy-paste-icon\"\n",
       "                 onclick=\"copyToClipboard('max_leaf_nodes',\n",
       "                          this.parentElement.nextElementSibling)\"\n",
       "            ></i></td>\n",
       "            <td class=\"param\">max_leaf_nodes&nbsp;</td>\n",
       "            <td class=\"value\">None</td>\n",
       "        </tr>\n",
       "    \n",
       "\n",
       "        <tr class=\"default\">\n",
       "            <td><i class=\"copy-paste-icon\"\n",
       "                 onclick=\"copyToClipboard('min_impurity_decrease',\n",
       "                          this.parentElement.nextElementSibling)\"\n",
       "            ></i></td>\n",
       "            <td class=\"param\">min_impurity_decrease&nbsp;</td>\n",
       "            <td class=\"value\">0.0</td>\n",
       "        </tr>\n",
       "    \n",
       "\n",
       "        <tr class=\"default\">\n",
       "            <td><i class=\"copy-paste-icon\"\n",
       "                 onclick=\"copyToClipboard('class_weight',\n",
       "                          this.parentElement.nextElementSibling)\"\n",
       "            ></i></td>\n",
       "            <td class=\"param\">class_weight&nbsp;</td>\n",
       "            <td class=\"value\">None</td>\n",
       "        </tr>\n",
       "    \n",
       "\n",
       "        <tr class=\"default\">\n",
       "            <td><i class=\"copy-paste-icon\"\n",
       "                 onclick=\"copyToClipboard('ccp_alpha',\n",
       "                          this.parentElement.nextElementSibling)\"\n",
       "            ></i></td>\n",
       "            <td class=\"param\">ccp_alpha&nbsp;</td>\n",
       "            <td class=\"value\">0.0</td>\n",
       "        </tr>\n",
       "    \n",
       "\n",
       "        <tr class=\"default\">\n",
       "            <td><i class=\"copy-paste-icon\"\n",
       "                 onclick=\"copyToClipboard('monotonic_cst',\n",
       "                          this.parentElement.nextElementSibling)\"\n",
       "            ></i></td>\n",
       "            <td class=\"param\">monotonic_cst&nbsp;</td>\n",
       "            <td class=\"value\">None</td>\n",
       "        </tr>\n",
       "    \n",
       "                  </tbody>\n",
       "                </table>\n",
       "            </details>\n",
       "        </div>\n",
       "    </div></div></div></div></div><script>function copyToClipboard(text, element) {\n",
       "    // Get the parameter prefix from the closest toggleable content\n",
       "    const toggleableContent = element.closest('.sk-toggleable__content');\n",
       "    const paramPrefix = toggleableContent ? toggleableContent.dataset.paramPrefix : '';\n",
       "    const fullParamName = paramPrefix ? `${paramPrefix}${text}` : text;\n",
       "\n",
       "    const originalStyle = element.style;\n",
       "    const computedStyle = window.getComputedStyle(element);\n",
       "    const originalWidth = computedStyle.width;\n",
       "    const originalHTML = element.innerHTML.replace('Copied!', '');\n",
       "\n",
       "    navigator.clipboard.writeText(fullParamName)\n",
       "        .then(() => {\n",
       "            element.style.width = originalWidth;\n",
       "            element.style.color = 'green';\n",
       "            element.innerHTML = \"Copied!\";\n",
       "\n",
       "            setTimeout(() => {\n",
       "                element.innerHTML = originalHTML;\n",
       "                element.style = originalStyle;\n",
       "            }, 2000);\n",
       "        })\n",
       "        .catch(err => {\n",
       "            console.error('Failed to copy:', err);\n",
       "            element.style.color = 'red';\n",
       "            element.innerHTML = \"Failed!\";\n",
       "            setTimeout(() => {\n",
       "                element.innerHTML = originalHTML;\n",
       "                element.style = originalStyle;\n",
       "            }, 2000);\n",
       "        });\n",
       "    return false;\n",
       "}\n",
       "\n",
       "document.querySelectorAll('.fa-regular.fa-copy').forEach(function(element) {\n",
       "    const toggleableContent = element.closest('.sk-toggleable__content');\n",
       "    const paramPrefix = toggleableContent ? toggleableContent.dataset.paramPrefix : '';\n",
       "    const paramName = element.parentElement.nextElementSibling.textContent.trim();\n",
       "    const fullParamName = paramPrefix ? `${paramPrefix}${paramName}` : paramName;\n",
       "\n",
       "    element.setAttribute('title', fullParamName);\n",
       "});\n",
       "</script></body>"
      ],
      "text/plain": [
       "DecisionTreeClassifier(max_depth=3, random_state=777)"
      ]
     },
     "execution_count": 32,
     "metadata": {},
     "output_type": "execute_result"
    }
   ],
   "source": [
    "# Crea una instancia del clasificador de árbol de decisión\n",
    "modelo1 = DecisionTreeClassifier(max_depth=3, random_state=777)\n",
    "# Entrena el modelo con los datos de entrenamiento (X_train, y_train)\n",
    "modelo1.fit(x_balanceada, y_balanceada)"
   ]
  },
  {
   "cell_type": "code",
   "execution_count": 33,
   "id": "1ee8a1bf",
   "metadata": {},
   "outputs": [
    {
     "data": {
      "text/plain": [
       "0.7476673427991887"
      ]
     },
     "execution_count": 33,
     "metadata": {},
     "output_type": "execute_result"
    }
   ],
   "source": [
    "modelo1.score(X_train,y_train)"
   ]
  },
  {
   "cell_type": "code",
   "execution_count": 34,
   "id": "461a959d",
   "metadata": {},
   "outputs": [
    {
     "data": {
      "text/plain": [
       "0.738760056791292"
      ]
     },
     "execution_count": 34,
     "metadata": {},
     "output_type": "execute_result"
    }
   ],
   "source": [
    "modelo1.score(X_test,y_test)"
   ]
  },
  {
   "cell_type": "markdown",
   "id": "8732e91c",
   "metadata": {},
   "source": [
    "**Interpretacion:**<br>\n",
    "Cuando **parametrizas el árbol de decisión** (limitando la profundidad con `max_depth=3`), los resultados:\n",
    "\n",
    "- **Score Train = 75%**\n",
    "- **Score Test = 74%**\n",
    "\n",
    "significan lo siguiente:\n",
    "\n",
    "- El modelo **aprende bien de los datos de entrenamiento** (74% de acierto), pero **no se ajusta demasiado** a ellos (no hay overfitting fuerte).\n",
    "- El modelo **generaliza razonablemente bien** a datos nuevos (74% de acierto en test).\n",
    "- La **diferencia entre ambos scores es pequeña** (5 puntos), lo que indica un **buen equilibrio entre sesgo y varianza**.\n",
    "\n",
    "**En resumen:**  \n",
    "`El modelo no está sobreajustado ni subajustado`. Está aprendiendo patrones útiles y generalizando bien a datos no vistos. ¡Este es el comportamiento deseado en la mayoría de los casos!"
   ]
  },
  {
   "cell_type": "markdown",
   "id": "adf12aac",
   "metadata": {},
   "source": [
    "### Modelo 2: KNN\n",
    "Este modelos es sensible a la escala de los datos, por lo que la normalización es importante para que los coeficientes o las distancias se calculen correctamente."
   ]
  },
  {
   "cell_type": "markdown",
   "id": "b5c8b090",
   "metadata": {},
   "source": [
    "#### Normalizacion\n",
    "Se importa la clase MinMaxScaler del módulo sklearn.preprocessing.\n",
    "Esta clase se utiliza para normalizar (escalar) los datos numéricos, llevándolos a un rango específico (por defecto, entre 0 y 1)."
   ]
  },
  {
   "cell_type": "code",
   "execution_count": 35,
   "id": "16983b57",
   "metadata": {},
   "outputs": [],
   "source": [
    "from sklearn.preprocessing import MinMaxScaler\n",
    "\n",
    "# Se prepara los datos de entrenamiento para que todas las variables numéricas \n",
    "# estén en la misma escala, evitando que alguna variable domine por tener valores más grandes.\n",
    "normalizacion = MinMaxScaler()\n",
    "X_train_normalizado = normalizacion.fit_transform(X_train)"
   ]
  },
  {
   "cell_type": "markdown",
   "id": "433f1c35",
   "metadata": {},
   "source": [
    "Creacion del modelo KNN & Entrenamiento"
   ]
  },
  {
   "cell_type": "code",
   "execution_count": 36,
   "id": "787a8346",
   "metadata": {},
   "outputs": [],
   "source": [
    "# Importa la clase KNeighborsClassifier del módulo sklearn.neighbors.\n",
    "# Esto te permite crear y entrenar un modelo de clasificación basado en el algoritmo K-Nearest Neighbors (KNN)\n",
    "from sklearn.neighbors import KNeighborsClassifier"
   ]
  },
  {
   "cell_type": "code",
   "execution_count": 37,
   "id": "772129dc",
   "metadata": {},
   "outputs": [
    {
     "data": {
      "text/html": [
       "<style>#sk-container-id-2 {\n",
       "  /* Definition of color scheme common for light and dark mode */\n",
       "  --sklearn-color-text: #000;\n",
       "  --sklearn-color-text-muted: #666;\n",
       "  --sklearn-color-line: gray;\n",
       "  /* Definition of color scheme for unfitted estimators */\n",
       "  --sklearn-color-unfitted-level-0: #fff5e6;\n",
       "  --sklearn-color-unfitted-level-1: #f6e4d2;\n",
       "  --sklearn-color-unfitted-level-2: #ffe0b3;\n",
       "  --sklearn-color-unfitted-level-3: chocolate;\n",
       "  /* Definition of color scheme for fitted estimators */\n",
       "  --sklearn-color-fitted-level-0: #f0f8ff;\n",
       "  --sklearn-color-fitted-level-1: #d4ebff;\n",
       "  --sklearn-color-fitted-level-2: #b3dbfd;\n",
       "  --sklearn-color-fitted-level-3: cornflowerblue;\n",
       "\n",
       "  /* Specific color for light theme */\n",
       "  --sklearn-color-text-on-default-background: var(--sg-text-color, var(--theme-code-foreground, var(--jp-content-font-color1, black)));\n",
       "  --sklearn-color-background: var(--sg-background-color, var(--theme-background, var(--jp-layout-color0, white)));\n",
       "  --sklearn-color-border-box: var(--sg-text-color, var(--theme-code-foreground, var(--jp-content-font-color1, black)));\n",
       "  --sklearn-color-icon: #696969;\n",
       "\n",
       "  @media (prefers-color-scheme: dark) {\n",
       "    /* Redefinition of color scheme for dark theme */\n",
       "    --sklearn-color-text-on-default-background: var(--sg-text-color, var(--theme-code-foreground, var(--jp-content-font-color1, white)));\n",
       "    --sklearn-color-background: var(--sg-background-color, var(--theme-background, var(--jp-layout-color0, #111)));\n",
       "    --sklearn-color-border-box: var(--sg-text-color, var(--theme-code-foreground, var(--jp-content-font-color1, white)));\n",
       "    --sklearn-color-icon: #878787;\n",
       "  }\n",
       "}\n",
       "\n",
       "#sk-container-id-2 {\n",
       "  color: var(--sklearn-color-text);\n",
       "}\n",
       "\n",
       "#sk-container-id-2 pre {\n",
       "  padding: 0;\n",
       "}\n",
       "\n",
       "#sk-container-id-2 input.sk-hidden--visually {\n",
       "  border: 0;\n",
       "  clip: rect(1px 1px 1px 1px);\n",
       "  clip: rect(1px, 1px, 1px, 1px);\n",
       "  height: 1px;\n",
       "  margin: -1px;\n",
       "  overflow: hidden;\n",
       "  padding: 0;\n",
       "  position: absolute;\n",
       "  width: 1px;\n",
       "}\n",
       "\n",
       "#sk-container-id-2 div.sk-dashed-wrapped {\n",
       "  border: 1px dashed var(--sklearn-color-line);\n",
       "  margin: 0 0.4em 0.5em 0.4em;\n",
       "  box-sizing: border-box;\n",
       "  padding-bottom: 0.4em;\n",
       "  background-color: var(--sklearn-color-background);\n",
       "}\n",
       "\n",
       "#sk-container-id-2 div.sk-container {\n",
       "  /* jupyter's `normalize.less` sets `[hidden] { display: none; }`\n",
       "     but bootstrap.min.css set `[hidden] { display: none !important; }`\n",
       "     so we also need the `!important` here to be able to override the\n",
       "     default hidden behavior on the sphinx rendered scikit-learn.org.\n",
       "     See: https://github.com/scikit-learn/scikit-learn/issues/21755 */\n",
       "  display: inline-block !important;\n",
       "  position: relative;\n",
       "}\n",
       "\n",
       "#sk-container-id-2 div.sk-text-repr-fallback {\n",
       "  display: none;\n",
       "}\n",
       "\n",
       "div.sk-parallel-item,\n",
       "div.sk-serial,\n",
       "div.sk-item {\n",
       "  /* draw centered vertical line to link estimators */\n",
       "  background-image: linear-gradient(var(--sklearn-color-text-on-default-background), var(--sklearn-color-text-on-default-background));\n",
       "  background-size: 2px 100%;\n",
       "  background-repeat: no-repeat;\n",
       "  background-position: center center;\n",
       "}\n",
       "\n",
       "/* Parallel-specific style estimator block */\n",
       "\n",
       "#sk-container-id-2 div.sk-parallel-item::after {\n",
       "  content: \"\";\n",
       "  width: 100%;\n",
       "  border-bottom: 2px solid var(--sklearn-color-text-on-default-background);\n",
       "  flex-grow: 1;\n",
       "}\n",
       "\n",
       "#sk-container-id-2 div.sk-parallel {\n",
       "  display: flex;\n",
       "  align-items: stretch;\n",
       "  justify-content: center;\n",
       "  background-color: var(--sklearn-color-background);\n",
       "  position: relative;\n",
       "}\n",
       "\n",
       "#sk-container-id-2 div.sk-parallel-item {\n",
       "  display: flex;\n",
       "  flex-direction: column;\n",
       "}\n",
       "\n",
       "#sk-container-id-2 div.sk-parallel-item:first-child::after {\n",
       "  align-self: flex-end;\n",
       "  width: 50%;\n",
       "}\n",
       "\n",
       "#sk-container-id-2 div.sk-parallel-item:last-child::after {\n",
       "  align-self: flex-start;\n",
       "  width: 50%;\n",
       "}\n",
       "\n",
       "#sk-container-id-2 div.sk-parallel-item:only-child::after {\n",
       "  width: 0;\n",
       "}\n",
       "\n",
       "/* Serial-specific style estimator block */\n",
       "\n",
       "#sk-container-id-2 div.sk-serial {\n",
       "  display: flex;\n",
       "  flex-direction: column;\n",
       "  align-items: center;\n",
       "  background-color: var(--sklearn-color-background);\n",
       "  padding-right: 1em;\n",
       "  padding-left: 1em;\n",
       "}\n",
       "\n",
       "\n",
       "/* Toggleable style: style used for estimator/Pipeline/ColumnTransformer box that is\n",
       "clickable and can be expanded/collapsed.\n",
       "- Pipeline and ColumnTransformer use this feature and define the default style\n",
       "- Estimators will overwrite some part of the style using the `sk-estimator` class\n",
       "*/\n",
       "\n",
       "/* Pipeline and ColumnTransformer style (default) */\n",
       "\n",
       "#sk-container-id-2 div.sk-toggleable {\n",
       "  /* Default theme specific background. It is overwritten whether we have a\n",
       "  specific estimator or a Pipeline/ColumnTransformer */\n",
       "  background-color: var(--sklearn-color-background);\n",
       "}\n",
       "\n",
       "/* Toggleable label */\n",
       "#sk-container-id-2 label.sk-toggleable__label {\n",
       "  cursor: pointer;\n",
       "  display: flex;\n",
       "  width: 100%;\n",
       "  margin-bottom: 0;\n",
       "  padding: 0.5em;\n",
       "  box-sizing: border-box;\n",
       "  text-align: center;\n",
       "  align-items: start;\n",
       "  justify-content: space-between;\n",
       "  gap: 0.5em;\n",
       "}\n",
       "\n",
       "#sk-container-id-2 label.sk-toggleable__label .caption {\n",
       "  font-size: 0.6rem;\n",
       "  font-weight: lighter;\n",
       "  color: var(--sklearn-color-text-muted);\n",
       "}\n",
       "\n",
       "#sk-container-id-2 label.sk-toggleable__label-arrow:before {\n",
       "  /* Arrow on the left of the label */\n",
       "  content: \"▸\";\n",
       "  float: left;\n",
       "  margin-right: 0.25em;\n",
       "  color: var(--sklearn-color-icon);\n",
       "}\n",
       "\n",
       "#sk-container-id-2 label.sk-toggleable__label-arrow:hover:before {\n",
       "  color: var(--sklearn-color-text);\n",
       "}\n",
       "\n",
       "/* Toggleable content - dropdown */\n",
       "\n",
       "#sk-container-id-2 div.sk-toggleable__content {\n",
       "  display: none;\n",
       "  text-align: left;\n",
       "  /* unfitted */\n",
       "  background-color: var(--sklearn-color-unfitted-level-0);\n",
       "}\n",
       "\n",
       "#sk-container-id-2 div.sk-toggleable__content.fitted {\n",
       "  /* fitted */\n",
       "  background-color: var(--sklearn-color-fitted-level-0);\n",
       "}\n",
       "\n",
       "#sk-container-id-2 div.sk-toggleable__content pre {\n",
       "  margin: 0.2em;\n",
       "  border-radius: 0.25em;\n",
       "  color: var(--sklearn-color-text);\n",
       "  /* unfitted */\n",
       "  background-color: var(--sklearn-color-unfitted-level-0);\n",
       "}\n",
       "\n",
       "#sk-container-id-2 div.sk-toggleable__content.fitted pre {\n",
       "  /* unfitted */\n",
       "  background-color: var(--sklearn-color-fitted-level-0);\n",
       "}\n",
       "\n",
       "#sk-container-id-2 input.sk-toggleable__control:checked~div.sk-toggleable__content {\n",
       "  /* Expand drop-down */\n",
       "  display: block;\n",
       "  width: 100%;\n",
       "  overflow: visible;\n",
       "}\n",
       "\n",
       "#sk-container-id-2 input.sk-toggleable__control:checked~label.sk-toggleable__label-arrow:before {\n",
       "  content: \"▾\";\n",
       "}\n",
       "\n",
       "/* Pipeline/ColumnTransformer-specific style */\n",
       "\n",
       "#sk-container-id-2 div.sk-label input.sk-toggleable__control:checked~label.sk-toggleable__label {\n",
       "  color: var(--sklearn-color-text);\n",
       "  background-color: var(--sklearn-color-unfitted-level-2);\n",
       "}\n",
       "\n",
       "#sk-container-id-2 div.sk-label.fitted input.sk-toggleable__control:checked~label.sk-toggleable__label {\n",
       "  background-color: var(--sklearn-color-fitted-level-2);\n",
       "}\n",
       "\n",
       "/* Estimator-specific style */\n",
       "\n",
       "/* Colorize estimator box */\n",
       "#sk-container-id-2 div.sk-estimator input.sk-toggleable__control:checked~label.sk-toggleable__label {\n",
       "  /* unfitted */\n",
       "  background-color: var(--sklearn-color-unfitted-level-2);\n",
       "}\n",
       "\n",
       "#sk-container-id-2 div.sk-estimator.fitted input.sk-toggleable__control:checked~label.sk-toggleable__label {\n",
       "  /* fitted */\n",
       "  background-color: var(--sklearn-color-fitted-level-2);\n",
       "}\n",
       "\n",
       "#sk-container-id-2 div.sk-label label.sk-toggleable__label,\n",
       "#sk-container-id-2 div.sk-label label {\n",
       "  /* The background is the default theme color */\n",
       "  color: var(--sklearn-color-text-on-default-background);\n",
       "}\n",
       "\n",
       "/* On hover, darken the color of the background */\n",
       "#sk-container-id-2 div.sk-label:hover label.sk-toggleable__label {\n",
       "  color: var(--sklearn-color-text);\n",
       "  background-color: var(--sklearn-color-unfitted-level-2);\n",
       "}\n",
       "\n",
       "/* Label box, darken color on hover, fitted */\n",
       "#sk-container-id-2 div.sk-label.fitted:hover label.sk-toggleable__label.fitted {\n",
       "  color: var(--sklearn-color-text);\n",
       "  background-color: var(--sklearn-color-fitted-level-2);\n",
       "}\n",
       "\n",
       "/* Estimator label */\n",
       "\n",
       "#sk-container-id-2 div.sk-label label {\n",
       "  font-family: monospace;\n",
       "  font-weight: bold;\n",
       "  display: inline-block;\n",
       "  line-height: 1.2em;\n",
       "}\n",
       "\n",
       "#sk-container-id-2 div.sk-label-container {\n",
       "  text-align: center;\n",
       "}\n",
       "\n",
       "/* Estimator-specific */\n",
       "#sk-container-id-2 div.sk-estimator {\n",
       "  font-family: monospace;\n",
       "  border: 1px dotted var(--sklearn-color-border-box);\n",
       "  border-radius: 0.25em;\n",
       "  box-sizing: border-box;\n",
       "  margin-bottom: 0.5em;\n",
       "  /* unfitted */\n",
       "  background-color: var(--sklearn-color-unfitted-level-0);\n",
       "}\n",
       "\n",
       "#sk-container-id-2 div.sk-estimator.fitted {\n",
       "  /* fitted */\n",
       "  background-color: var(--sklearn-color-fitted-level-0);\n",
       "}\n",
       "\n",
       "/* on hover */\n",
       "#sk-container-id-2 div.sk-estimator:hover {\n",
       "  /* unfitted */\n",
       "  background-color: var(--sklearn-color-unfitted-level-2);\n",
       "}\n",
       "\n",
       "#sk-container-id-2 div.sk-estimator.fitted:hover {\n",
       "  /* fitted */\n",
       "  background-color: var(--sklearn-color-fitted-level-2);\n",
       "}\n",
       "\n",
       "/* Specification for estimator info (e.g. \"i\" and \"?\") */\n",
       "\n",
       "/* Common style for \"i\" and \"?\" */\n",
       "\n",
       ".sk-estimator-doc-link,\n",
       "a:link.sk-estimator-doc-link,\n",
       "a:visited.sk-estimator-doc-link {\n",
       "  float: right;\n",
       "  font-size: smaller;\n",
       "  line-height: 1em;\n",
       "  font-family: monospace;\n",
       "  background-color: var(--sklearn-color-background);\n",
       "  border-radius: 1em;\n",
       "  height: 1em;\n",
       "  width: 1em;\n",
       "  text-decoration: none !important;\n",
       "  margin-left: 0.5em;\n",
       "  text-align: center;\n",
       "  /* unfitted */\n",
       "  border: var(--sklearn-color-unfitted-level-1) 1pt solid;\n",
       "  color: var(--sklearn-color-unfitted-level-1);\n",
       "}\n",
       "\n",
       ".sk-estimator-doc-link.fitted,\n",
       "a:link.sk-estimator-doc-link.fitted,\n",
       "a:visited.sk-estimator-doc-link.fitted {\n",
       "  /* fitted */\n",
       "  border: var(--sklearn-color-fitted-level-1) 1pt solid;\n",
       "  color: var(--sklearn-color-fitted-level-1);\n",
       "}\n",
       "\n",
       "/* On hover */\n",
       "div.sk-estimator:hover .sk-estimator-doc-link:hover,\n",
       ".sk-estimator-doc-link:hover,\n",
       "div.sk-label-container:hover .sk-estimator-doc-link:hover,\n",
       ".sk-estimator-doc-link:hover {\n",
       "  /* unfitted */\n",
       "  background-color: var(--sklearn-color-unfitted-level-3);\n",
       "  color: var(--sklearn-color-background);\n",
       "  text-decoration: none;\n",
       "}\n",
       "\n",
       "div.sk-estimator.fitted:hover .sk-estimator-doc-link.fitted:hover,\n",
       ".sk-estimator-doc-link.fitted:hover,\n",
       "div.sk-label-container:hover .sk-estimator-doc-link.fitted:hover,\n",
       ".sk-estimator-doc-link.fitted:hover {\n",
       "  /* fitted */\n",
       "  background-color: var(--sklearn-color-fitted-level-3);\n",
       "  color: var(--sklearn-color-background);\n",
       "  text-decoration: none;\n",
       "}\n",
       "\n",
       "/* Span, style for the box shown on hovering the info icon */\n",
       ".sk-estimator-doc-link span {\n",
       "  display: none;\n",
       "  z-index: 9999;\n",
       "  position: relative;\n",
       "  font-weight: normal;\n",
       "  right: .2ex;\n",
       "  padding: .5ex;\n",
       "  margin: .5ex;\n",
       "  width: min-content;\n",
       "  min-width: 20ex;\n",
       "  max-width: 50ex;\n",
       "  color: var(--sklearn-color-text);\n",
       "  box-shadow: 2pt 2pt 4pt #999;\n",
       "  /* unfitted */\n",
       "  background: var(--sklearn-color-unfitted-level-0);\n",
       "  border: .5pt solid var(--sklearn-color-unfitted-level-3);\n",
       "}\n",
       "\n",
       ".sk-estimator-doc-link.fitted span {\n",
       "  /* fitted */\n",
       "  background: var(--sklearn-color-fitted-level-0);\n",
       "  border: var(--sklearn-color-fitted-level-3);\n",
       "}\n",
       "\n",
       ".sk-estimator-doc-link:hover span {\n",
       "  display: block;\n",
       "}\n",
       "\n",
       "/* \"?\"-specific style due to the `<a>` HTML tag */\n",
       "\n",
       "#sk-container-id-2 a.estimator_doc_link {\n",
       "  float: right;\n",
       "  font-size: 1rem;\n",
       "  line-height: 1em;\n",
       "  font-family: monospace;\n",
       "  background-color: var(--sklearn-color-background);\n",
       "  border-radius: 1rem;\n",
       "  height: 1rem;\n",
       "  width: 1rem;\n",
       "  text-decoration: none;\n",
       "  /* unfitted */\n",
       "  color: var(--sklearn-color-unfitted-level-1);\n",
       "  border: var(--sklearn-color-unfitted-level-1) 1pt solid;\n",
       "}\n",
       "\n",
       "#sk-container-id-2 a.estimator_doc_link.fitted {\n",
       "  /* fitted */\n",
       "  border: var(--sklearn-color-fitted-level-1) 1pt solid;\n",
       "  color: var(--sklearn-color-fitted-level-1);\n",
       "}\n",
       "\n",
       "/* On hover */\n",
       "#sk-container-id-2 a.estimator_doc_link:hover {\n",
       "  /* unfitted */\n",
       "  background-color: var(--sklearn-color-unfitted-level-3);\n",
       "  color: var(--sklearn-color-background);\n",
       "  text-decoration: none;\n",
       "}\n",
       "\n",
       "#sk-container-id-2 a.estimator_doc_link.fitted:hover {\n",
       "  /* fitted */\n",
       "  background-color: var(--sklearn-color-fitted-level-3);\n",
       "}\n",
       "\n",
       ".estimator-table summary {\n",
       "    padding: .5rem;\n",
       "    font-family: monospace;\n",
       "    cursor: pointer;\n",
       "}\n",
       "\n",
       ".estimator-table details[open] {\n",
       "    padding-left: 0.1rem;\n",
       "    padding-right: 0.1rem;\n",
       "    padding-bottom: 0.3rem;\n",
       "}\n",
       "\n",
       ".estimator-table .parameters-table {\n",
       "    margin-left: auto !important;\n",
       "    margin-right: auto !important;\n",
       "}\n",
       "\n",
       ".estimator-table .parameters-table tr:nth-child(odd) {\n",
       "    background-color: #fff;\n",
       "}\n",
       "\n",
       ".estimator-table .parameters-table tr:nth-child(even) {\n",
       "    background-color: #f6f6f6;\n",
       "}\n",
       "\n",
       ".estimator-table .parameters-table tr:hover {\n",
       "    background-color: #e0e0e0;\n",
       "}\n",
       "\n",
       ".estimator-table table td {\n",
       "    border: 1px solid rgba(106, 105, 104, 0.232);\n",
       "}\n",
       "\n",
       ".user-set td {\n",
       "    color:rgb(255, 94, 0);\n",
       "    text-align: left;\n",
       "}\n",
       "\n",
       ".user-set td.value pre {\n",
       "    color:rgb(255, 94, 0) !important;\n",
       "    background-color: transparent !important;\n",
       "}\n",
       "\n",
       ".default td {\n",
       "    color: black;\n",
       "    text-align: left;\n",
       "}\n",
       "\n",
       ".user-set td i,\n",
       ".default td i {\n",
       "    color: black;\n",
       "}\n",
       "\n",
       ".copy-paste-icon {\n",
       "    background-image: url(data:image/svg+xml;base64,PHN2ZyB4bWxucz0iaHR0cDovL3d3dy53My5vcmcvMjAwMC9zdmciIHZpZXdCb3g9IjAgMCA0NDggNTEyIj48IS0tIUZvbnQgQXdlc29tZSBGcmVlIDYuNy4yIGJ5IEBmb250YXdlc29tZSAtIGh0dHBzOi8vZm9udGF3ZXNvbWUuY29tIExpY2Vuc2UgLSBodHRwczovL2ZvbnRhd2Vzb21lLmNvbS9saWNlbnNlL2ZyZWUgQ29weXJpZ2h0IDIwMjUgRm9udGljb25zLCBJbmMuLS0+PHBhdGggZD0iTTIwOCAwTDMzMi4xIDBjMTIuNyAwIDI0LjkgNS4xIDMzLjkgMTQuMWw2Ny45IDY3LjljOSA5IDE0LjEgMjEuMiAxNC4xIDMzLjlMNDQ4IDMzNmMwIDI2LjUtMjEuNSA0OC00OCA0OGwtMTkyIDBjLTI2LjUgMC00OC0yMS41LTQ4LTQ4bDAtMjg4YzAtMjYuNSAyMS41LTQ4IDQ4LTQ4ek00OCAxMjhsODAgMCAwIDY0LTY0IDAgMCAyNTYgMTkyIDAgMC0zMiA2NCAwIDAgNDhjMCAyNi41LTIxLjUgNDgtNDggNDhMNDggNTEyYy0yNi41IDAtNDgtMjEuNS00OC00OEwwIDE3NmMwLTI2LjUgMjEuNS00OCA0OC00OHoiLz48L3N2Zz4=);\n",
       "    background-repeat: no-repeat;\n",
       "    background-size: 14px 14px;\n",
       "    background-position: 0;\n",
       "    display: inline-block;\n",
       "    width: 14px;\n",
       "    height: 14px;\n",
       "    cursor: pointer;\n",
       "}\n",
       "</style><body><div id=\"sk-container-id-2\" class=\"sk-top-container\"><div class=\"sk-text-repr-fallback\"><pre>KNeighborsClassifier()</pre><b>In a Jupyter environment, please rerun this cell to show the HTML representation or trust the notebook. <br />On GitHub, the HTML representation is unable to render, please try loading this page with nbviewer.org.</b></div><div class=\"sk-container\" hidden><div class=\"sk-item\"><div class=\"sk-estimator fitted sk-toggleable\"><input class=\"sk-toggleable__control sk-hidden--visually\" id=\"sk-estimator-id-2\" type=\"checkbox\" checked><label for=\"sk-estimator-id-2\" class=\"sk-toggleable__label fitted sk-toggleable__label-arrow\"><div><div>KNeighborsClassifier</div></div><div><a class=\"sk-estimator-doc-link fitted\" rel=\"noreferrer\" target=\"_blank\" href=\"https://scikit-learn.org/1.7/modules/generated/sklearn.neighbors.KNeighborsClassifier.html\">?<span>Documentation for KNeighborsClassifier</span></a><span class=\"sk-estimator-doc-link fitted\">i<span>Fitted</span></span></div></label><div class=\"sk-toggleable__content fitted\" data-param-prefix=\"\">\n",
       "        <div class=\"estimator-table\">\n",
       "            <details>\n",
       "                <summary>Parameters</summary>\n",
       "                <table class=\"parameters-table\">\n",
       "                  <tbody>\n",
       "                    \n",
       "        <tr class=\"default\">\n",
       "            <td><i class=\"copy-paste-icon\"\n",
       "                 onclick=\"copyToClipboard('n_neighbors',\n",
       "                          this.parentElement.nextElementSibling)\"\n",
       "            ></i></td>\n",
       "            <td class=\"param\">n_neighbors&nbsp;</td>\n",
       "            <td class=\"value\">5</td>\n",
       "        </tr>\n",
       "    \n",
       "\n",
       "        <tr class=\"default\">\n",
       "            <td><i class=\"copy-paste-icon\"\n",
       "                 onclick=\"copyToClipboard('weights',\n",
       "                          this.parentElement.nextElementSibling)\"\n",
       "            ></i></td>\n",
       "            <td class=\"param\">weights&nbsp;</td>\n",
       "            <td class=\"value\">&#x27;uniform&#x27;</td>\n",
       "        </tr>\n",
       "    \n",
       "\n",
       "        <tr class=\"default\">\n",
       "            <td><i class=\"copy-paste-icon\"\n",
       "                 onclick=\"copyToClipboard('algorithm',\n",
       "                          this.parentElement.nextElementSibling)\"\n",
       "            ></i></td>\n",
       "            <td class=\"param\">algorithm&nbsp;</td>\n",
       "            <td class=\"value\">&#x27;auto&#x27;</td>\n",
       "        </tr>\n",
       "    \n",
       "\n",
       "        <tr class=\"default\">\n",
       "            <td><i class=\"copy-paste-icon\"\n",
       "                 onclick=\"copyToClipboard('leaf_size',\n",
       "                          this.parentElement.nextElementSibling)\"\n",
       "            ></i></td>\n",
       "            <td class=\"param\">leaf_size&nbsp;</td>\n",
       "            <td class=\"value\">30</td>\n",
       "        </tr>\n",
       "    \n",
       "\n",
       "        <tr class=\"default\">\n",
       "            <td><i class=\"copy-paste-icon\"\n",
       "                 onclick=\"copyToClipboard('p',\n",
       "                          this.parentElement.nextElementSibling)\"\n",
       "            ></i></td>\n",
       "            <td class=\"param\">p&nbsp;</td>\n",
       "            <td class=\"value\">2</td>\n",
       "        </tr>\n",
       "    \n",
       "\n",
       "        <tr class=\"default\">\n",
       "            <td><i class=\"copy-paste-icon\"\n",
       "                 onclick=\"copyToClipboard('metric',\n",
       "                          this.parentElement.nextElementSibling)\"\n",
       "            ></i></td>\n",
       "            <td class=\"param\">metric&nbsp;</td>\n",
       "            <td class=\"value\">&#x27;minkowski&#x27;</td>\n",
       "        </tr>\n",
       "    \n",
       "\n",
       "        <tr class=\"default\">\n",
       "            <td><i class=\"copy-paste-icon\"\n",
       "                 onclick=\"copyToClipboard('metric_params',\n",
       "                          this.parentElement.nextElementSibling)\"\n",
       "            ></i></td>\n",
       "            <td class=\"param\">metric_params&nbsp;</td>\n",
       "            <td class=\"value\">None</td>\n",
       "        </tr>\n",
       "    \n",
       "\n",
       "        <tr class=\"default\">\n",
       "            <td><i class=\"copy-paste-icon\"\n",
       "                 onclick=\"copyToClipboard('n_jobs',\n",
       "                          this.parentElement.nextElementSibling)\"\n",
       "            ></i></td>\n",
       "            <td class=\"param\">n_jobs&nbsp;</td>\n",
       "            <td class=\"value\">None</td>\n",
       "        </tr>\n",
       "    \n",
       "                  </tbody>\n",
       "                </table>\n",
       "            </details>\n",
       "        </div>\n",
       "    </div></div></div></div></div><script>function copyToClipboard(text, element) {\n",
       "    // Get the parameter prefix from the closest toggleable content\n",
       "    const toggleableContent = element.closest('.sk-toggleable__content');\n",
       "    const paramPrefix = toggleableContent ? toggleableContent.dataset.paramPrefix : '';\n",
       "    const fullParamName = paramPrefix ? `${paramPrefix}${text}` : text;\n",
       "\n",
       "    const originalStyle = element.style;\n",
       "    const computedStyle = window.getComputedStyle(element);\n",
       "    const originalWidth = computedStyle.width;\n",
       "    const originalHTML = element.innerHTML.replace('Copied!', '');\n",
       "\n",
       "    navigator.clipboard.writeText(fullParamName)\n",
       "        .then(() => {\n",
       "            element.style.width = originalWidth;\n",
       "            element.style.color = 'green';\n",
       "            element.innerHTML = \"Copied!\";\n",
       "\n",
       "            setTimeout(() => {\n",
       "                element.innerHTML = originalHTML;\n",
       "                element.style = originalStyle;\n",
       "            }, 2000);\n",
       "        })\n",
       "        .catch(err => {\n",
       "            console.error('Failed to copy:', err);\n",
       "            element.style.color = 'red';\n",
       "            element.innerHTML = \"Failed!\";\n",
       "            setTimeout(() => {\n",
       "                element.innerHTML = originalHTML;\n",
       "                element.style = originalStyle;\n",
       "            }, 2000);\n",
       "        });\n",
       "    return false;\n",
       "}\n",
       "\n",
       "document.querySelectorAll('.fa-regular.fa-copy').forEach(function(element) {\n",
       "    const toggleableContent = element.closest('.sk-toggleable__content');\n",
       "    const paramPrefix = toggleableContent ? toggleableContent.dataset.paramPrefix : '';\n",
       "    const paramName = element.parentElement.nextElementSibling.textContent.trim();\n",
       "    const fullParamName = paramPrefix ? `${paramPrefix}${paramName}` : paramName;\n",
       "\n",
       "    element.setAttribute('title', fullParamName);\n",
       "});\n",
       "</script></body>"
      ],
      "text/plain": [
       "KNeighborsClassifier()"
      ]
     },
     "execution_count": 37,
     "metadata": {},
     "output_type": "execute_result"
    }
   ],
   "source": [
    "# Crear el modelo KNN\n",
    "knn = KNeighborsClassifier()\n",
    "\n",
    "# Entrenar el modelo KNN con datos normalizados\n",
    "knn.fit(X_train_normalizado, y_train)"
   ]
  },
  {
   "cell_type": "code",
   "execution_count": 38,
   "id": "354dcc12",
   "metadata": {},
   "outputs": [
    {
     "data": {
      "text/plain": [
       "0.7444391859914813"
      ]
     },
     "execution_count": 38,
     "metadata": {},
     "output_type": "execute_result"
    }
   ],
   "source": [
    "# Normalizar los datos de prueba y evaluar el modelo KNN\n",
    "X_test_normalizado = normalizacion.transform(X_test)\n",
    "knn.score(X_test_normalizado, y_test)"
   ]
  },
  {
   "cell_type": "markdown",
   "id": "4db645d2",
   "metadata": {},
   "source": [
    "# Evaluación del rendimiento de los modelos con métricas."
   ]
  },
  {
   "cell_type": "markdown",
   "id": "4ad8abce",
   "metadata": {},
   "source": [
    "## Evaluacion Modelo 1"
   ]
  },
  {
   "cell_type": "markdown",
   "id": "ca978f0b",
   "metadata": {},
   "source": [
    "### Prediccion Arbol"
   ]
  },
  {
   "cell_type": "markdown",
   "id": "99e2aac1",
   "metadata": {},
   "source": [
    "Utiliza el modelo de árbol de decisión `modelo1` ya entrenado para predecir la clase (Churn) de los datos de prueba `X_test`. El resultado, `y_pred`, es un array con las predicciones del modelo para cada registro del conjunto de prueba.<br>\n",
    "\n",
    "Esto permite **comparar** las predicciones `y_pred` con las verdaderas `y_test` y así evaluar el desempeño del modelo."
   ]
  },
  {
   "cell_type": "code",
   "execution_count": 39,
   "id": "54797e12",
   "metadata": {},
   "outputs": [],
   "source": [
    "y_pred = modelo1.predict(X_test)"
   ]
  },
  {
   "cell_type": "markdown",
   "id": "aa7c767d",
   "metadata": {},
   "source": [
    "### Matriz de confusion"
   ]
  },
  {
   "cell_type": "markdown",
   "id": "948ab5dc",
   "metadata": {},
   "source": [
    "Se generan las predicciones del modelo de árbol de decisión usando los datos de validación, calcula la matriz de confusión comparando las etiquetas reales y las predichas, y **muestra esa matriz en pantalla** para evaluar el desempeño del modelo."
   ]
  },
  {
   "cell_type": "code",
   "execution_count": 40,
   "id": "633cc388",
   "metadata": {},
   "outputs": [
    {
     "name": "stdout",
     "output_type": "stream",
     "text": [
      "[[1144  428]\n",
      " [ 124  417]]\n"
     ]
    }
   ],
   "source": [
    "# Calcula la matriz de confusión comparando las etiquetas reales y las predichas\n",
    "matriz_confusion = confusion_matrix(y_test, y_pred)\n",
    "\n",
    "# Muestra la matriz de confusión en pantalla\n",
    "print(matriz_confusion)"
   ]
  },
  {
   "cell_type": "code",
   "execution_count": 41,
   "id": "119f177d",
   "metadata": {},
   "outputs": [
    {
     "data": {
      "image/png": "[encoded data removed]",
      "text/plain": [
       "<Figure size 640x480 with 2 Axes>"
      ]
     },
     "metadata": {},
     "output_type": "display_data"
    }
   ],
   "source": [
    "# Crea un objeto para visualizar la matriz de confusión con etiquetas personalizadas\n",
    "visualizacion = ConfusionMatrixDisplay(confusion_matrix = matriz_confusion, display_labels=['No abandona', 'Abandona'])\n",
    "\n",
    "# Muestra gráficamente la matriz de confusión\n",
    "visualizacion.plot();"
   ]
  },
  {
   "cell_type": "markdown",
   "id": "2f53b5d2",
   "metadata": {},
   "source": [
    "**Interpretacion:**<br>\n",
    "- **1154**: Clientes que no abandonaron y el modelo predijo correctamente que no abandonarían (verdaderos negativos).\n",
    "- **410**: Clientes que abandonaron y el modelo predijo correctamente que abandonarían (verdaderos positivos).\n",
    "- **418**: Clientes que no abandonaron, pero el modelo predijo que sí abandonarían (falsos positivos).\n",
    "- **131**: Clientes que abandonaron, pero el modelo predijo que no abandonarían (falsos negativos).\n",
    "\n",
    "**¿Que me dice el modelo?**\n",
    "\n",
    "- El modelo es capaz de detectar una buena cantidad de clientes que van a cancelar, pero aún se le escapan algunos (falsos negativos).\n",
    "- El objetivo es **predecir quiénes van a cancelar**, analisis de los verdaderos positivos y tratar de reducir los falsos negativos.\n",
    "- Se puede mejorar el modelo para aumentar el recall (sensibilidad) de la clase \"Abandona\", `así detectarás más clientes en riesgo de cancelar.`"
   ]
  },
  {
   "cell_type": "markdown",
   "id": "d63e0006",
   "metadata": {},
   "source": [
    "### Ajuste de hiperparametros"
   ]
  },
  {
   "cell_type": "code",
   "execution_count": 42,
   "id": "06c0524c",
   "metadata": {},
   "outputs": [
    {
     "name": "stdout",
     "output_type": "stream",
     "text": [
      "Mejores parámetros: {'class_weight': 'balanced', 'max_depth': 10, 'min_samples_leaf': 2, 'min_samples_split': 2}\n",
      "Mejor recall: 0.8351945600246571\n"
     ]
    }
   ],
   "source": [
    "from sklearn.model_selection import GridSearchCV\n",
    "\n",
    "param_grid = {\n",
    "    'max_depth': [3, 5, 7, 10],\n",
    "    'min_samples_split': [2, 5, 10],\n",
    "    'min_samples_leaf': [1, 2, 4],\n",
    "    'class_weight': [None, 'balanced']\n",
    "}\n",
    "\n",
    "grid = GridSearchCV(DecisionTreeClassifier(random_state=777), param_grid, scoring='recall', cv=5)\n",
    "grid.fit(x_balanceada, y_balanceada)\n",
    "\n",
    "print(\"Mejores parámetros:\", grid.best_params_)\n",
    "print(\"Mejor recall:\", grid.best_score_)"
   ]
  },
  {
   "cell_type": "markdown",
   "id": "9e108dc7",
   "metadata": {},
   "source": [
    "#### Modelo 1 ajustado: hiperparámetros"
   ]
  },
  {
   "cell_type": "code",
   "execution_count": 43,
   "id": "09925838",
   "metadata": {},
   "outputs": [
    {
     "name": "stdout",
     "output_type": "stream",
     "text": [
      "[[1244  328]\n",
      " [ 196  345]]\n",
      "              precision    recall  f1-score   support\n",
      "\n",
      "           0       0.86      0.79      0.83      1572\n",
      "           1       0.51      0.64      0.57       541\n",
      "\n",
      "    accuracy                           0.75      2113\n",
      "   macro avg       0.69      0.71      0.70      2113\n",
      "weighted avg       0.77      0.75      0.76      2113\n",
      "\n"
     ]
    },
    {
     "data": {
      "image/png": "[encoded data removed]",
      "text/plain": [
       "<Figure size 640x480 with 2 Axes>"
      ]
     },
     "metadata": {},
     "output_type": "display_data"
    }
   ],
   "source": [
    "# Entrena el modelo con los mejores hiperparámetros encontrados\n",
    "mejor_modelo = DecisionTreeClassifier(\n",
    "    class_weight='balanced',\n",
    "    max_depth=10,\n",
    "    min_samples_leaf=1,\n",
    "    min_samples_split=5,\n",
    "    random_state=777\n",
    ")\n",
    "mejor_modelo.fit(x_balanceada, y_balanceada)\n",
    "\n",
    "# Predice en el set de prueba\n",
    "y_pred_mejor = mejor_modelo.predict(X_test)\n",
    "\n",
    "# Evalúa el desempeño\n",
    "from sklearn.metrics import confusion_matrix, ConfusionMatrixDisplay, classification_report\n",
    "\n",
    "matriz_confusion = confusion_matrix(y_test, y_pred_mejor)\n",
    "print(matriz_confusion)\n",
    "print(classification_report(y_test, y_pred_mejor))\n",
    "\n",
    "# Visualiza la matriz de confusión\n",
    "visualizacion = ConfusionMatrixDisplay(confusion_matrix=matriz_confusion, display_labels=['No abandona', 'Abandona'])\n",
    "visualizacion.plot();"
   ]
  },
  {
   "cell_type": "markdown",
   "id": "00b93170",
   "metadata": {},
   "source": [
    "Comparativa:\n",
    "\n",
    "- Me quedo con el **primer modelo (sin ajuste de hiperparámetros)** porque logra un **mayor recall para la clase \"Abandona\"** (detecta más clientes que efectivamente cancelan), lo cual es prioritario para el objetivo de retención.  \n",
    "- Aunque tiene más falsos positivos, prefiero maximizar la detección de posibles abandonos para poder tomar acciones preventivas, ya que el costo de no identificar a un cliente en riesgo es mayor que el de contactar a un cliente que finalmente no abandona.  \n",
    "- Por lo tanto, \n",
    "\n",
    "**el modelo inicial es más adecuado para una estrategia enfocada en minimizar la pérdida de clientes.**\n"
   ]
  },
  {
   "cell_type": "markdown",
   "id": "13cc3495",
   "metadata": {},
   "source": [
    "### Metricas"
   ]
  },
  {
   "cell_type": "markdown",
   "id": "721fbe9a",
   "metadata": {},
   "source": [
    "- EVALUACION MODELO 1: ARBOL DE DECISION"
   ]
  },
  {
   "cell_type": "code",
   "execution_count": 44,
   "id": "53b75816",
   "metadata": {},
   "outputs": [],
   "source": [
    "# Importa las funciones para calcular exactitud, precisión, recall y f1-score desde sklearn.metrics\n",
    "from sklearn.metrics import accuracy_score, precision_score, recall_score, f1_score"
   ]
  },
  {
   "cell_type": "code",
   "execution_count": 45,
   "id": "e84ad075",
   "metadata": {},
   "outputs": [
    {
     "name": "stdout",
     "output_type": "stream",
     "text": [
      "La precision del modelo es: 0.493491124260355\n",
      "La sensibilidad, recuperación (Recall) del modelo es: 0.7707948243992606\n",
      "La exactitud (accuracy) del modelo es: 0.738760056791292\n"
     ]
    }
   ],
   "source": [
    "print(f'La precision del modelo es: {precision_score(y_test, y_pred)}')\n",
    "print(f'La sensibilidad, recuperación (Recall) del modelo es: {recall_score(y_test, y_pred)}')\n",
    "print(f'La exactitud (accuracy) del modelo es: {accuracy_score(y_test, y_pred)}')"
   ]
  },
  {
   "cell_type": "code",
   "execution_count": 46,
   "id": "6519e548",
   "metadata": {},
   "outputs": [
    {
     "name": "stdout",
     "output_type": "stream",
     "text": [
      "El F1-score del modelo es: 0.6017316017316018\n"
     ]
    }
   ],
   "source": [
    "# Imprime el valor del F1-score del modelo usando los datos de validación\n",
    "# El F1-score es una métrica que combina precisión y recall; mientras más cerca de 1, mejor el modelo.\n",
    "print(f'El F1-score del modelo es: {f1_score(y_test, y_pred)}')"
   ]
  },
  {
   "cell_type": "markdown",
   "id": "c3db9e91",
   "metadata": {},
   "source": [
    "**Informe de las metricas de clasificacion**"
   ]
  },
  {
   "cell_type": "code",
   "execution_count": 47,
   "id": "b6ad658a",
   "metadata": {},
   "outputs": [],
   "source": [
    "# Sirve para generar un informe con las principales métricas de clasificación\n",
    "from sklearn.metrics import classification_report"
   ]
  },
  {
   "cell_type": "code",
   "execution_count": 48,
   "id": "f2e039f1",
   "metadata": {},
   "outputs": [
    {
     "name": "stdout",
     "output_type": "stream",
     "text": [
      "              precision    recall  f1-score   support\n",
      "\n",
      "           0       0.90      0.73      0.81      1572\n",
      "           1       0.49      0.77      0.60       541\n",
      "\n",
      "    accuracy                           0.74      2113\n",
      "   macro avg       0.70      0.75      0.70      2113\n",
      "weighted avg       0.80      0.74      0.75      2113\n",
      "\n"
     ]
    }
   ],
   "source": [
    "# Imprime un informe con las métricas de clasificación\n",
    "print(classification_report(y_test, y_pred))"
   ]
  },
  {
   "cell_type": "markdown",
   "id": "2f58a6f0",
   "metadata": {},
   "source": [
    "**Evaluación del Árbol de Decisión:**\n",
    "\n",
    "- **Precisión (~0.50):**  \n",
    "  De todos los clientes que el modelo predice que abandonarán, solo la mitad realmente lo hacen. Esto indica que hay bastantes falsos positivos, pero es común en problemas desbalanceados donde se prioriza el recall.\n",
    "\n",
    "```\n",
    "Recall (~0.76):  \n",
    "  El modelo detecta correctamente a la mayoría de los clientes que realmente abandonan. Es un valor alto y positivo, ya que tu objetivo es identificar el mayor número posible de clientes en riesgo de churn.\n",
    "```\n",
    "\n",
    "- **Exactitud (~0.74):**  \n",
    "  El 74% de las predicciones totales son correctas. Sin embargo, en problemas desbalanceados, la exactitud puede ser menos informativa que el recall y el F1-score.\n",
    "\n",
    "- **F1-score (~0.60):**  \n",
    "  El F1-score balancea precisión y recall. Un valor de 0.60 es aceptable y muestra que el modelo logra un buen compromiso entre ambos.\n",
    "\n",
    "**Conclusión:**  \n",
    "`El modelo es útil para identificar clientes en riesgo de abandono (alto recall)`, aunque genera algunos falsos positivos (precisión moderada). Esto es adecuado si la prioridad es no dejar pasar clientes que realmente se irán, aunque se contacten a algunos que no lo harán.  \n"
   ]
  },
  {
   "cell_type": "markdown",
   "id": "7a688455",
   "metadata": {},
   "source": [
    "## Evaluacion Modelo 2"
   ]
  },
  {
   "cell_type": "markdown",
   "id": "191c65c9",
   "metadata": {},
   "source": [
    "### Prediccion KNN"
   ]
  },
  {
   "cell_type": "markdown",
   "id": "b1a3f7b8",
   "metadata": {},
   "source": [
    "Utiliza el modelo de KNN `knn` ya entrenado para predecir la clase (Churn) de los datos de prueba `X_test`. El resultado, `y_pred_knn`, es un array con las predicciones del modelo para cada registro del conjunto de prueba.<br>\n",
    "\n",
    "Esto permite **comparar** las predicciones `y_pred_knn` con las verdaderas `y_test` y así evaluar el desempeño del modelo."
   ]
  },
  {
   "cell_type": "code",
   "execution_count": 49,
   "id": "a7d7a5bc",
   "metadata": {},
   "outputs": [],
   "source": [
    "y_pred_knn = knn.predict(X_test_normalizado)"
   ]
  },
  {
   "cell_type": "markdown",
   "id": "ecd81530",
   "metadata": {},
   "source": [
    "### Matriz de confusion"
   ]
  },
  {
   "cell_type": "markdown",
   "id": "8ed2bf02",
   "metadata": {},
   "source": [
    "Se generan las predicciones del modelo knn usando los datos de validación, calcula la matriz de confusión comparando las etiquetas reales y las predichas normalizadas, y **muestra esa matriz en pantalla** para evaluar el desempeño del modelo."
   ]
  },
  {
   "cell_type": "code",
   "execution_count": 50,
   "id": "48f9bb83",
   "metadata": {},
   "outputs": [
    {
     "name": "stdout",
     "output_type": "stream",
     "text": [
      "[[1314  258]\n",
      " [ 282  259]]\n"
     ]
    }
   ],
   "source": [
    "# Calcula la matriz de confusión comparando las etiquetas reales y las predichas normalizadas\n",
    "matriz_confusion_knn = confusion_matrix(y_test, y_pred_knn)\n",
    "\n",
    "# Muestra la matriz de confusión en pantalla\n",
    "print(matriz_confusion_knn)"
   ]
  },
  {
   "cell_type": "code",
   "execution_count": 51,
   "id": "d66b9e85",
   "metadata": {},
   "outputs": [
    {
     "data": {
      "image/png": "[encoded data removed]",
      "text/plain": [
       "<Figure size 640x480 with 2 Axes>"
      ]
     },
     "metadata": {},
     "output_type": "display_data"
    }
   ],
   "source": [
    "# Crea un objeto para visualizar la matriz de confusión con etiquetas personalizadas\n",
    "visualizacion_knn = ConfusionMatrixDisplay(confusion_matrix = matriz_confusion_knn, display_labels=['No abandona', 'Abandona'])\n",
    "\n",
    "# Muestra gráficamente la matriz de confusión\n",
    "visualizacion_knn.plot();"
   ]
  },
  {
   "cell_type": "markdown",
   "id": "9d0bd3ce",
   "metadata": {},
   "source": [
    "### Metricas\n",
    "Informe de las metricas de clasificacion"
   ]
  },
  {
   "cell_type": "code",
   "execution_count": 52,
   "id": "f0daabf5",
   "metadata": {},
   "outputs": [
    {
     "name": "stdout",
     "output_type": "stream",
     "text": [
      "              precision    recall  f1-score   support\n",
      "\n",
      "           0       0.82      0.84      0.83      1572\n",
      "           1       0.50      0.48      0.49       541\n",
      "\n",
      "    accuracy                           0.74      2113\n",
      "   macro avg       0.66      0.66      0.66      2113\n",
      "weighted avg       0.74      0.74      0.74      2113\n",
      "\n"
     ]
    }
   ],
   "source": [
    "# Imprime un informe con las métricas de clasificación\n",
    "print(classification_report(y_test, y_pred_knn))"
   ]
  },
  {
   "cell_type": "markdown",
   "id": "931710e2",
   "metadata": {},
   "source": [
    "**Evaluacion del modelo KNN**<br>\n",
    "\n",
    "- **Clase 0 (No abandona):**\n",
    "  - **Precisión 0.82:** El 82% de los clientes que el modelo predijo como “no abandona” realmente no abandonan.\n",
    "  - **Recall 0.84:** El 84% de todos los clientes que realmente no abandonan fueron correctamente identificados.\n",
    "  - **F1-score 0.83:** Buen equilibrio entre precisión y recall para la clase mayoritaria.\n",
    "\n",
    "- **Clase 1 (Abandona):**\n",
    "  - **Precisión 0.50:** Solo el 50% de los clientes que el modelo predijo como “abandona” realmente abandonan.\n",
    "  ```\n",
    "  Recall 0.48\n",
    "  El modelo detecta el 48% de todos los clientes que realmente abandonan (se le escapan más de la mitad).\n",
    "  ```\n",
    "  - **F1-score 0.49:** Bajo, indica que el modelo no es muy efectivo para identificar abandonos.\n",
    "\n",
    "- **Exactitud (accuracy) 0.74:** El 74% de las predicciones totales son correctas, pero este valor está influenciado por la clase mayoritaria.\n",
    "\n",
    "**Conclusión:**  \n",
    "El modelo KNN predice bien la clase “no abandona”, pero `tiene dificultades para identificar correctamente a los clientes que sí abandonan (recall bajo para la clase 1)`. \n",
    "\n",
    "El objetivo es detectar abandonos, este modelo podría no ser suficiente, ya que se le escapan muchos casos de churn.  \n"
   ]
  },
  {
   "cell_type": "markdown",
   "id": "f23d77cb",
   "metadata": {},
   "source": [
    "# Informe final"
   ]
  },
  {
   "cell_type": "markdown",
   "id": "42f71b29",
   "metadata": {},
   "source": [
    "\n",
    "#### 1. **Resumen del Proceso de Modelado y Evaluación**\n",
    "\n",
    "- **Datos:**  \n",
    "  Se trabajó con un dataset de clientes de telecomunicaciones, eliminando variables irrelevantes (`customerID`) y transformando variables categóricas mediante One-Hot Encoding.\n",
    "- **Variables objetivo:**  \n",
    "  `Churn` (0 = no abandona, 1 = abandona).\n",
    "- **Balanceo:**  \n",
    "  Se aplicó SMOTE para balancear las clases en el set de entrenamiento, debido al desbalance original (73.5% no abandona, 26.5% abandona).\n",
    "- **Modelos evaluados:**  \n",
    "  - Árbol de Decisión (DecisionTreeClassifier)\n",
    "  - K-Nearest Neighbors (KNN)\n",
    "- **Evaluación:**  \n",
    "  Se usaron métricas como precisión, recall, F1-score y matriz de confusión para ambos modelos.\n",
    "\n",
    "---\n",
    "\n",
    "#### 2. **Principales Factores que Influyen en la Cancelación**\n",
    "\n",
    "Del análisis exploratorio y la selección de variables, se identificaron los siguientes factores como los más influyentes en el abandono de clientes:\n",
    "\n",
    "- **Tenure (antigüedad del cliente):**  \n",
    "  Los clientes con menor tiempo en la compañía tienen mayor probabilidad de cancelar.  \n",
    "  *Evidencia:* El boxplot muestra que quienes abandonan suelen tener un tenure bajo.\n",
    "\n",
    "- **Charges.Total (gasto total acumulado):**  \n",
    "  Clientes con menor gasto total son más propensos a cancelar, lo que se relaciona con su menor antigüedad.\n",
    "\n",
    "- **Tipo de contrato:**  \n",
    "  Contratos de corto plazo (mensuales) presentan mayor tasa de abandono que contratos anuales o de mayor duración.\n",
    "\n",
    "- **Método de pago:**  \n",
    "  Algunos métodos de pago (por ejemplo, pago electrónico) pueden estar asociados a mayor churn, posiblemente por su facilidad de cancelación.\n",
    "\n",
    "- **Servicios contratados:**  \n",
    "  La ausencia de servicios adicionales (como InternetService) o la contratación de servicios básicos puede estar relacionada con mayor churn.\n",
    "\n",
    "---\n",
    "\n",
    "#### 3. **Rendimiento de los Modelos**\n",
    "\n",
    "**Árbol de Decisión:**\n",
    "- **Recall clase 1 (abandona):** ~0.76 (detecta el 76% de los que abandonan)\n",
    "- **Precisión clase 1:** ~0.50\n",
    "- **F1-score clase 1:** ~0.60\n",
    "- **Conclusión:**  \n",
    "  Es el modelo más útil para identificar clientes en riesgo de abandono, priorizando el recall (sensibilidad) para la clase minoritaria.\n",
    "\n",
    "**KNN:**\n",
    "- **Recall clase 1 (abandona):** ~0.48 (detecta solo el 48% de los que abandonan)\n",
    "- **Precisión clase 1:** ~0.50\n",
    "- **F1-score clase 1:** ~0.49\n",
    "- **Conclusión:**  \n",
    "  Predice bien la clase “no abandona”, pero tiene dificultades para identificar correctamente a los clientes que sí abandonan.\n",
    "\n",
    "**Comparativa:**  \n",
    "El árbol de decisión es claramente superior para el objetivo de retención, ya que identifica a más clientes en riesgo de cancelar.\n",
    "\n",
    "---\n",
    "\n",
    "#### 4. **Estrategias de Retención Propuestas**\n",
    "\n",
    "Basadas en los factores identificados y el rendimiento del modelo:\n",
    "\n",
    "1. **Enfocar acciones en clientes nuevos:**  \n",
    "   - Implementar programas de bienvenida y seguimiento personalizado durante los primeros meses.\n",
    "   - Ofrecer incentivos o descuentos a clientes con bajo tenure.\n",
    "\n",
    "2. **Fidelizar a clientes de bajo gasto:**  \n",
    "   - Detectar clientes con bajo `Charges.Total` y ofrecerles paquetes de valor agregado o promociones para aumentar su compromiso.\n",
    "\n",
    "3. **Promover contratos de mayor duración:**  \n",
    "   - Incentivar la migración de contratos mensuales a contratos anuales mediante descuentos o beneficios exclusivos.\n",
    "\n",
    "4. **Ofrecer servicios adicionales:**  \n",
    "   - Promover la contratación de servicios complementarios (Internet, TV, etc.) para aumentar la permanencia.\n",
    "\n",
    "5. **Monitorear clientes en riesgo:**  \n",
    "   - Utilizar el modelo de árbol de decisión para generar alertas tempranas y contactar proactivamente a los clientes con alta probabilidad de abandono.\n",
    "\n",
    "---\n",
    "\n",
    "#### 5. **Conclusión General**\n",
    "\n",
    "El análisis muestra que la antigüedad del cliente y el gasto total son los principales predictores de abandono. El árbol de decisión es el modelo más adecuado para identificar clientes en riesgo, permitiendo diseñar estrategias de retención más efectivas y focalizadas.  \n",
    "Implementar acciones personalizadas para los segmentos identificados puede reducir significativamente la tasa de churn y mejorar la rentabilidad de la compañía."
   ]
  }
 ],
 "metadata": {
  "kernelspec": {
   "display_name": "telcom_env",
   "language": "python",
   "name": "python3"
  },
  "language_info": {
   "codemirror_mode": {
    "name": "ipython",
    "version": 3
   },
   "file_extension": ".py",
   "mimetype": "text/x-python",
   "name": "python",
   "nbconvert_exporter": "python",
   "pygments_lexer": "ipython3",
   "version": "3.13.6"
  }
 },
 "nbformat": 4,
 "nbformat_minor": 5
}
